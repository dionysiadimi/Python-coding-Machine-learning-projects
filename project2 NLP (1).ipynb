{
 "cells": [
  {
   "cell_type": "code",
   "execution_count": 1,
   "metadata": {},
   "outputs": [],
   "source": [
    "import pandas as pd\n",
    "import numpy as np\n",
    "import re"
   ]
  },
  {
   "cell_type": "code",
   "execution_count": 2,
   "metadata": {},
   "outputs": [
    {
     "data": {
      "text/html": [
       "<div>\n",
       "<style scoped>\n",
       "    .dataframe tbody tr th:only-of-type {\n",
       "        vertical-align: middle;\n",
       "    }\n",
       "\n",
       "    .dataframe tbody tr th {\n",
       "        vertical-align: top;\n",
       "    }\n",
       "\n",
       "    .dataframe thead th {\n",
       "        text-align: right;\n",
       "    }\n",
       "</style>\n",
       "<table border=\"1\" class=\"dataframe\">\n",
       "  <thead>\n",
       "    <tr style=\"text-align: right;\">\n",
       "      <th></th>\n",
       "      <th>rating</th>\n",
       "      <th>review_text</th>\n",
       "    </tr>\n",
       "  </thead>\n",
       "  <tbody>\n",
       "    <tr>\n",
       "      <th>0</th>\n",
       "      <td>1.0</td>\n",
       "      <td>Their service is worst, pricing in menu is dif...</td>\n",
       "    </tr>\n",
       "    <tr>\n",
       "      <th>1</th>\n",
       "      <td>5.0</td>\n",
       "      <td>really appreciate their quality and timing . I...</td>\n",
       "    </tr>\n",
       "    <tr>\n",
       "      <th>2</th>\n",
       "      <td>4.0</td>\n",
       "      <td>Went there on a Friday night, the place was su...</td>\n",
       "    </tr>\n",
       "    <tr>\n",
       "      <th>3</th>\n",
       "      <td>4.0</td>\n",
       "      <td>A very decent place serving good food.\\r\\nOrde...</td>\n",
       "    </tr>\n",
       "    <tr>\n",
       "      <th>4</th>\n",
       "      <td>5.0</td>\n",
       "      <td>One of the BEST places for steaks in the city....</td>\n",
       "    </tr>\n",
       "    <tr>\n",
       "      <th>...</th>\n",
       "      <td>...</td>\n",
       "      <td>...</td>\n",
       "    </tr>\n",
       "    <tr>\n",
       "      <th>27757</th>\n",
       "      <td>4.0</td>\n",
       "      <td>Food quality 4.5/5\\r\\nHospitality 4/5\\r\\nManag...</td>\n",
       "    </tr>\n",
       "    <tr>\n",
       "      <th>27758</th>\n",
       "      <td>4.0</td>\n",
       "      <td>Taste of the food is good and the ambience as ...</td>\n",
       "    </tr>\n",
       "    <tr>\n",
       "      <th>27759</th>\n",
       "      <td>5.0</td>\n",
       "      <td>Pizza is really thin crust and made from fresh...</td>\n",
       "    </tr>\n",
       "    <tr>\n",
       "      <th>27760</th>\n",
       "      <td>5.0</td>\n",
       "      <td>Visited last Saturday with my kids ,\\r\\nIt was...</td>\n",
       "    </tr>\n",
       "    <tr>\n",
       "      <th>27761</th>\n",
       "      <td>3.0</td>\n",
       "      <td>I love onesta always and their unlimited offer...</td>\n",
       "    </tr>\n",
       "  </tbody>\n",
       "</table>\n",
       "<p>27762 rows × 2 columns</p>\n",
       "</div>"
      ],
      "text/plain": [
       "       rating                                        review_text\n",
       "0         1.0  Their service is worst, pricing in menu is dif...\n",
       "1         5.0  really appreciate their quality and timing . I...\n",
       "2         4.0  Went there on a Friday night, the place was su...\n",
       "3         4.0  A very decent place serving good food.\\r\\nOrde...\n",
       "4         5.0  One of the BEST places for steaks in the city....\n",
       "...       ...                                                ...\n",
       "27757     4.0  Food quality 4.5/5\\r\\nHospitality 4/5\\r\\nManag...\n",
       "27758     4.0  Taste of the food is good and the ambience as ...\n",
       "27759     5.0  Pizza is really thin crust and made from fresh...\n",
       "27760     5.0  Visited last Saturday with my kids ,\\r\\nIt was...\n",
       "27761     3.0  I love onesta always and their unlimited offer...\n",
       "\n",
       "[27762 rows x 2 columns]"
      ]
     },
     "execution_count": 2,
     "metadata": {},
     "output_type": "execute_result"
    }
   ],
   "source": [
    "reviews=pd.read_csv('Zomato_reviews.csv')\n",
    "reviews"
   ]
  },
  {
   "cell_type": "code",
   "execution_count": 3,
   "metadata": {},
   "outputs": [
    {
     "data": {
      "text/plain": [
       "(27762, 2)"
      ]
     },
     "execution_count": 3,
     "metadata": {},
     "output_type": "execute_result"
    }
   ],
   "source": [
    "reviews.shape"
   ]
  },
  {
   "cell_type": "code",
   "execution_count": 4,
   "metadata": {},
   "outputs": [
    {
     "data": {
      "text/plain": [
       "<bound method NDFrame.describe of        rating                                        review_text\n",
       "0         1.0  Their service is worst, pricing in menu is dif...\n",
       "1         5.0  really appreciate their quality and timing . I...\n",
       "2         4.0  Went there on a Friday night, the place was su...\n",
       "3         4.0  A very decent place serving good food.\\r\\nOrde...\n",
       "4         5.0  One of the BEST places for steaks in the city....\n",
       "...       ...                                                ...\n",
       "27757     4.0  Food quality 4.5/5\\r\\nHospitality 4/5\\r\\nManag...\n",
       "27758     4.0  Taste of the food is good and the ambience as ...\n",
       "27759     5.0  Pizza is really thin crust and made from fresh...\n",
       "27760     5.0  Visited last Saturday with my kids ,\\r\\nIt was...\n",
       "27761     3.0  I love onesta always and their unlimited offer...\n",
       "\n",
       "[27762 rows x 2 columns]>"
      ]
     },
     "execution_count": 4,
     "metadata": {},
     "output_type": "execute_result"
    }
   ],
   "source": [
    "reviews.describe"
   ]
  },
  {
   "cell_type": "code",
   "execution_count": 5,
   "metadata": {},
   "outputs": [
    {
     "data": {
      "text/html": [
       "<div>\n",
       "<style scoped>\n",
       "    .dataframe tbody tr th:only-of-type {\n",
       "        vertical-align: middle;\n",
       "    }\n",
       "\n",
       "    .dataframe tbody tr th {\n",
       "        vertical-align: top;\n",
       "    }\n",
       "\n",
       "    .dataframe thead th {\n",
       "        text-align: right;\n",
       "    }\n",
       "</style>\n",
       "<table border=\"1\" class=\"dataframe\">\n",
       "  <thead>\n",
       "    <tr style=\"text-align: right;\">\n",
       "      <th></th>\n",
       "      <th>rating</th>\n",
       "      <th>review_text</th>\n",
       "    </tr>\n",
       "  </thead>\n",
       "  <tbody>\n",
       "    <tr>\n",
       "      <th>count</th>\n",
       "      <td>27762.000000</td>\n",
       "      <td>27748</td>\n",
       "    </tr>\n",
       "    <tr>\n",
       "      <th>unique</th>\n",
       "      <td>NaN</td>\n",
       "      <td>10548</td>\n",
       "    </tr>\n",
       "    <tr>\n",
       "      <th>top</th>\n",
       "      <td>NaN</td>\n",
       "      <td>good</td>\n",
       "    </tr>\n",
       "    <tr>\n",
       "      <th>freq</th>\n",
       "      <td>NaN</td>\n",
       "      <td>278</td>\n",
       "    </tr>\n",
       "    <tr>\n",
       "      <th>mean</th>\n",
       "      <td>3.665784</td>\n",
       "      <td>NaN</td>\n",
       "    </tr>\n",
       "    <tr>\n",
       "      <th>std</th>\n",
       "      <td>1.284573</td>\n",
       "      <td>NaN</td>\n",
       "    </tr>\n",
       "    <tr>\n",
       "      <th>min</th>\n",
       "      <td>1.000000</td>\n",
       "      <td>NaN</td>\n",
       "    </tr>\n",
       "    <tr>\n",
       "      <th>25%</th>\n",
       "      <td>3.000000</td>\n",
       "      <td>NaN</td>\n",
       "    </tr>\n",
       "    <tr>\n",
       "      <th>50%</th>\n",
       "      <td>4.000000</td>\n",
       "      <td>NaN</td>\n",
       "    </tr>\n",
       "    <tr>\n",
       "      <th>75%</th>\n",
       "      <td>5.000000</td>\n",
       "      <td>NaN</td>\n",
       "    </tr>\n",
       "    <tr>\n",
       "      <th>max</th>\n",
       "      <td>5.000000</td>\n",
       "      <td>NaN</td>\n",
       "    </tr>\n",
       "  </tbody>\n",
       "</table>\n",
       "</div>"
      ],
      "text/plain": [
       "              rating review_text\n",
       "count   27762.000000       27748\n",
       "unique           NaN       10548\n",
       "top              NaN        good\n",
       "freq             NaN         278\n",
       "mean        3.665784         NaN\n",
       "std         1.284573         NaN\n",
       "min         1.000000         NaN\n",
       "25%         3.000000         NaN\n",
       "50%         4.000000         NaN\n",
       "75%         5.000000         NaN\n",
       "max         5.000000         NaN"
      ]
     },
     "execution_count": 5,
     "metadata": {},
     "output_type": "execute_result"
    }
   ],
   "source": [
    "reviews.describe(include='all')"
   ]
  },
  {
   "cell_type": "code",
   "execution_count": 6,
   "metadata": {},
   "outputs": [
    {
     "data": {
      "text/plain": [
       "rating          0\n",
       "review_text    14\n",
       "dtype: int64"
      ]
     },
     "execution_count": 6,
     "metadata": {},
     "output_type": "execute_result"
    }
   ],
   "source": [
    "reviews.isnull().sum()"
   ]
  },
  {
   "cell_type": "code",
   "execution_count": 7,
   "metadata": {},
   "outputs": [],
   "source": [
    "reviews.dropna(inplace=True)"
   ]
  },
  {
   "cell_type": "raw",
   "metadata": {},
   "source": []
  },
  {
   "cell_type": "code",
   "execution_count": 8,
   "metadata": {},
   "outputs": [
    {
     "data": {
      "text/plain": [
       "rating         0\n",
       "review_text    0\n",
       "dtype: int64"
      ]
     },
     "execution_count": 8,
     "metadata": {},
     "output_type": "execute_result"
    }
   ],
   "source": [
    "reviews.isnull().sum()"
   ]
  },
  {
   "cell_type": "code",
   "execution_count": 9,
   "metadata": {},
   "outputs": [
    {
     "data": {
      "text/html": [
       "<div>\n",
       "<style scoped>\n",
       "    .dataframe tbody tr th:only-of-type {\n",
       "        vertical-align: middle;\n",
       "    }\n",
       "\n",
       "    .dataframe tbody tr th {\n",
       "        vertical-align: top;\n",
       "    }\n",
       "\n",
       "    .dataframe thead th {\n",
       "        text-align: right;\n",
       "    }\n",
       "</style>\n",
       "<table border=\"1\" class=\"dataframe\">\n",
       "  <thead>\n",
       "    <tr style=\"text-align: right;\">\n",
       "      <th></th>\n",
       "      <th>rating</th>\n",
       "      <th>review_text</th>\n",
       "    </tr>\n",
       "  </thead>\n",
       "  <tbody>\n",
       "    <tr>\n",
       "      <th>0</th>\n",
       "      <td>1.0</td>\n",
       "      <td>Their service is worst, pricing in menu is dif...</td>\n",
       "    </tr>\n",
       "    <tr>\n",
       "      <th>1</th>\n",
       "      <td>5.0</td>\n",
       "      <td>really appreciate their quality and timing . I...</td>\n",
       "    </tr>\n",
       "    <tr>\n",
       "      <th>2</th>\n",
       "      <td>4.0</td>\n",
       "      <td>Went there on a Friday night, the place was su...</td>\n",
       "    </tr>\n",
       "    <tr>\n",
       "      <th>3</th>\n",
       "      <td>4.0</td>\n",
       "      <td>A very decent place serving good food.\\r\\nOrde...</td>\n",
       "    </tr>\n",
       "    <tr>\n",
       "      <th>4</th>\n",
       "      <td>5.0</td>\n",
       "      <td>One of the BEST places for steaks in the city....</td>\n",
       "    </tr>\n",
       "    <tr>\n",
       "      <th>...</th>\n",
       "      <td>...</td>\n",
       "      <td>...</td>\n",
       "    </tr>\n",
       "    <tr>\n",
       "      <th>27743</th>\n",
       "      <td>4.0</td>\n",
       "      <td>Food quality 4.5/5\\r\\nHospitality 4/5\\r\\nManag...</td>\n",
       "    </tr>\n",
       "    <tr>\n",
       "      <th>27744</th>\n",
       "      <td>4.0</td>\n",
       "      <td>Taste of the food is good and the ambience as ...</td>\n",
       "    </tr>\n",
       "    <tr>\n",
       "      <th>27745</th>\n",
       "      <td>5.0</td>\n",
       "      <td>Pizza is really thin crust and made from fresh...</td>\n",
       "    </tr>\n",
       "    <tr>\n",
       "      <th>27746</th>\n",
       "      <td>5.0</td>\n",
       "      <td>Visited last Saturday with my kids ,\\r\\nIt was...</td>\n",
       "    </tr>\n",
       "    <tr>\n",
       "      <th>27747</th>\n",
       "      <td>3.0</td>\n",
       "      <td>I love onesta always and their unlimited offer...</td>\n",
       "    </tr>\n",
       "  </tbody>\n",
       "</table>\n",
       "<p>27748 rows × 2 columns</p>\n",
       "</div>"
      ],
      "text/plain": [
       "       rating                                        review_text\n",
       "0         1.0  Their service is worst, pricing in menu is dif...\n",
       "1         5.0  really appreciate their quality and timing . I...\n",
       "2         4.0  Went there on a Friday night, the place was su...\n",
       "3         4.0  A very decent place serving good food.\\r\\nOrde...\n",
       "4         5.0  One of the BEST places for steaks in the city....\n",
       "...       ...                                                ...\n",
       "27743     4.0  Food quality 4.5/5\\r\\nHospitality 4/5\\r\\nManag...\n",
       "27744     4.0  Taste of the food is good and the ambience as ...\n",
       "27745     5.0  Pizza is really thin crust and made from fresh...\n",
       "27746     5.0  Visited last Saturday with my kids ,\\r\\nIt was...\n",
       "27747     3.0  I love onesta always and their unlimited offer...\n",
       "\n",
       "[27748 rows x 2 columns]"
      ]
     },
     "execution_count": 9,
     "metadata": {},
     "output_type": "execute_result"
    }
   ],
   "source": [
    "reviews.reset_index(inplace=True, drop=True)\n",
    "reviews"
   ]
  },
  {
   "cell_type": "code",
   "execution_count": 10,
   "metadata": {},
   "outputs": [
    {
     "data": {
      "text/plain": [
       "(27748, 2)"
      ]
     },
     "execution_count": 10,
     "metadata": {},
     "output_type": "execute_result"
    }
   ],
   "source": [
    "reviews.shape"
   ]
  },
  {
   "cell_type": "code",
   "execution_count": null,
   "metadata": {},
   "outputs": [],
   "source": []
  },
  {
   "cell_type": "code",
   "execution_count": 11,
   "metadata": {},
   "outputs": [],
   "source": [
    "#convert to list for easy manipulation"
   ]
  },
  {
   "cell_type": "code",
   "execution_count": 12,
   "metadata": {},
   "outputs": [
    {
     "data": {
      "text/plain": [
       "27748"
      ]
     },
     "execution_count": 12,
     "metadata": {},
     "output_type": "execute_result"
    }
   ],
   "source": [
    "reviews_list=reviews.review_text.values\n",
    "len(reviews_list)"
   ]
  },
  {
   "cell_type": "code",
   "execution_count": 13,
   "metadata": {},
   "outputs": [
    {
     "data": {
      "text/plain": [
       "numpy.ndarray"
      ]
     },
     "execution_count": 13,
     "metadata": {},
     "output_type": "execute_result"
    }
   ],
   "source": [
    "type(reviews_list)"
   ]
  },
  {
   "cell_type": "code",
   "execution_count": 14,
   "metadata": {},
   "outputs": [],
   "source": [
    "#text clean"
   ]
  },
  {
   "cell_type": "code",
   "execution_count": 15,
   "metadata": {},
   "outputs": [],
   "source": [
    "#1 normalize the case"
   ]
  },
  {
   "cell_type": "code",
   "execution_count": 16,
   "metadata": {},
   "outputs": [
    {
     "data": {
      "text/plain": [
       "['their service is worst, pricing in menu is different from bill. they can give you a bill with increased pricing. even for serving water,menu, order you need to call them 3-4 times even on a non busy day.',\n",
       " \"really appreciate their quality and timing . i have tried the thattil kutti dosa i've been addicted to the dosa really and the chutney... really good and money worth much better than a thattukada must try it\",\n",
       " 'went there on a friday night, the place was surprisingly empty. interesting menu which is almost fully made of dosas. i had bullseye dosa and cheese masala dosa. the bullseye dosa was really good, with the egg perfectly cooked to a half boiled state. the masala in the cheese masala was good, but the cheese was a bit too chewy for my liking. the chutney was good, the sambar was average. the dishes are reasonably priced.',\n",
       " 'a very decent place serving good food.\\r\\nordered chilli fish, chicken & pork sizzler.\\r\\neverything tasted good but pork could have been slightly better cooked.\\r\\ntried 2 beverages, both were very sweet.',\n",
       " 'one of the best places for steaks in the city. tried the beef steak with chili rum & grilled fish with orange and jalapenos. both were exceptionally good. the herbed rice and mashed potatoes serves alongside were equally delecatble. service is prompt and zomato gold is a great steal. if you are a steak lover, this place is a must visit. hope they come up with another ourself somewhere in the cbd.\\r\\n\\r\\nwish to be back soon.\\r\\nbon appetit !',\n",
       " 'really lovely place for steaks and sizzlers. tried whatã\\x83\\x83ã\\x82\\x83ã\\x83\\x82ã\\x82\\x82ã\\x83\\x83ã\\x82\\x82ã\\x83\\x82ã\\x82\\x92s at steak? it was so flavourful and delicious. the herb sauce is one of its kind. must try!!\\r\\n\\r\\nthe ambience is cozy and just right! loved it. ?',\n",
       " \"this place ia for ultimate steak lovers!\\r\\nboth chicken and pork steaks are just so scrumptious and succulent! we tried honey mustard based steakcious and what's in a steak these two dishes there and both were so tasty! the mocktails are also quite good so nice place to do an awesome dine-out with family and friend!\",\n",
       " \"it's a shame if you haven't tried once upon a flame. :)\\r\\n\\r\\nlip smacking food. for the first time i licked off a sizzler plate. it was that bloody good.\\r\\n\\r\\ntwo of us ordered fish chilly , chicken steak sizzler and pork steak. the sauce was killer , meat was tender and the sides were absolutely fresh.\\r\\n\\r\\nyou end up having old salad sides and mashed potatoes at a lot of places but they served everything super fresh.\\r\\n\\r\\ni just wish this place runs a packed house.\\r\\n\\r\\nmy only complaint is their drinks were tad too sweet\\r\\n\\r\\nhighly recommended.\",\n",
       " 'we visited this place after we were tired and hungry after roaming around agra lake. it is a newly opened place and as the name suggests their specialty is barbecued and smoked food. their menu as decent variety.....food taste is good. ambiance is likeable and overall a great place for family dine out.',\n",
       " 'went there for yesterday dinner. surprisingly this place is quite silent. and not that much of rush. we went there just to take some sizzlers. so 2 people ordered for 2 types of sizzler chicken. believe me the taste is really too yummy. i canã\\x83\\x83ã\\x82\\x83ã\\x83\\x82ã\\x82\\x82ã\\x83\\x83ã\\x82\\x82ã\\x83\\x82ã\\x82\\x92t resist myself to eat another one but sad for me we are already late and there closing time comes. so i will surely go there very soon. food is superb tasty and ambience staffs everything is too good. a great experience. highly recommended for sizzler lovers.',\n",
       " 'great restaurants serving amazing steaks. super courteous staff. you can see the owner on most days on the floor taking orders, serving, ensuring food and everything is fine.\\r\\n\\r\\nfood is just amazing, serving style, portion and taste all just right.\\r\\n\\r\\none of those restaurants which make you feel happy afterwards. to go for your meat, steak and burger cravings.',\n",
       " \"location - it is on the first floor, next to mcdonalds and opposite to punjabi rasoi\\r\\n\\r\\nambience - the place is dimly lit with wooden chairs and table- perfect setup for a steakhouse\\r\\n\\r\\nfood and drinks-\\r\\n\\r\\nthe pepper trail - we ordered this as per the server's recommendation and were not at all disappointed. the steak was cooked to perfection and the sauce perfectly complemented it. it is served along wt sides of herbed rice, mashed potatoes and steamed veggies.\\r\\n\\r\\nlike a virgin - lemon soda with ginger and mint\\r\\n\\r\\nnojito - virgin mojito\\r\\n\\r\\nchocolate mousse - this one has the perfect taste and texture, one of the best i have ever tasted\\r\\n\\r\\nprice and service-full marks for service. on a sunday night, this place was crowded and we had to wait for 15 mins but the service was quick . zomato 1+1 on food help us save some money and we paid around rs 800 for two ppl\",\n",
       " 'this place is famous for steak. the ambience is good not a big restaurant but not crowded too on weekends. the service is decent and should try out if you want semi healthy food.',\n",
       " \"ambience is peaceful with comfortable seating and yellow lights. the music is light and allows you to have a chat with your friends.\\r\\n\\r\\ncoming to the food, we ordered pepper trail steak and grilled cottage cheese salad along with mixed vegetable soup. steak comes with mashed potatoes, rice and grilled veggies. steak was perfectly cooked and juicy. mashed potatoes were way too yum, i think they had mixed cheese with it. soup was also creamy along with a lot of vegetables. for the salad, we ordered matbucha paprika dressing, however i didn't like it much. paneer was okay but the other veggies didn't seem to be fresh.\\r\\n\\r\\nstaff was courteous enough to accept zomato gold after we placed the order. service was also prompt.\\r\\n\\r\\nambience - 4/5\\r\\nfood - 4/5\\r\\nservice - 4.5/5\",\n",
       " 'we primarily went there to try out their steaks. they have quite a huge spread of varieties of steaks. me and my friend, both tried their beef steaks. the meat was tender and good. we thoroughly enjoyed. ambience is decent and the stuffs are quite helpful and friendly.',\n",
       " 'had been there on 31st december for dinner..the place was crowded, still we managed to get a table. we ordered some fish and chicken platters and few mocktails..the platters tasted good but the quantity was very less as per the price of dishes..mocktails were not that great..due to rush staffs were quite busy to attend each table but still they were trying their best..appreciate them for that..the place was dim lit but overall ambiance was good..can try once ??',\n",
       " 'we order chicken starch and the chicken steak. the quality of service and food was excellent. a must place to visit. thank you for wonderful service.',\n",
       " 'i wonder why it took me so long to discover this place in bangalore. on 1st jan, while scrolling through the restaurants near hsr layout, i accidentally came across this particular place and it was probably the best thing that happened to me that day.\\r\\nthe ambience was beautiful... the sitting arrangements, the setup,everything was just top notch... amazing people who served food... thanks to the person who attended our table was kind and lovely and helpful...\\r\\nwe order beef tenderloin and pork steak and a mocktail...all of them were just delicious... coming at a very reasonable price too..\\r\\nlooking forward to visiting this place again sometime soon... thanks for the wonderful evening, team ouaf ????',\n",
       " 'a nice place to have steak in bangalore. they also have vegetarian steak options. isnã\\x83\\x83ã\\x82\\x83ã\\x83\\x82ã\\x82\\x82ã\\x83\\x83ã\\x82\\x82ã\\x83\\x82ã\\x82\\x92t it amazing? the food is tasty. service is pretty quick. ambience is very pretty specially the lights on the ceiling. rates are very reasonable and if you have zomato gold membership itã\\x83\\x83ã\\x82\\x83ã\\x83\\x82ã\\x82\\x82ã\\x83\\x83ã\\x82\\x82ã\\x83\\x82ã\\x82\\x92s very easy on pocket. give it a try when you crave for steak.',\n",
       " \"awesome food and epic burgers i especially loved the service and how owner takes every attention to detail to every customer that comes and over then that i'll to give props to the chef's for the food begin my 1st time in bengaluru i am quite impressed with the restaurant #worthavisit #mustvisit #steakstastic #epicburgers\"]"
      ]
     },
     "execution_count": 16,
     "metadata": {},
     "output_type": "execute_result"
    }
   ],
   "source": [
    "reviews_lower=[txt.lower() for txt in reviews_list]\n",
    "reviews_lower[0:20]"
   ]
  },
  {
   "cell_type": "code",
   "execution_count": 17,
   "metadata": {},
   "outputs": [],
   "source": [
    "#remove line breaks"
   ]
  },
  {
   "cell_type": "code",
   "execution_count": null,
   "metadata": {},
   "outputs": [],
   "source": []
  },
  {
   "cell_type": "raw",
   "metadata": {},
   "source": []
  },
  {
   "cell_type": "code",
   "execution_count": 18,
   "metadata": {},
   "outputs": [],
   "source": [
    "reviews_lower=[\" \".join(txt.split()) for txt in reviews_lower]"
   ]
  },
  {
   "cell_type": "code",
   "execution_count": 19,
   "metadata": {},
   "outputs": [
    {
     "data": {
      "text/plain": [
       "['their service is worst, pricing in menu is different from bill. they can give you a bill with increased pricing. even for serving water,menu, order you need to call them 3-4 times even on a non busy day.',\n",
       " \"really appreciate their quality and timing . i have tried the thattil kutti dosa i've been addicted to the dosa really and the chutney... really good and money worth much better than a thattukada must try it\",\n",
       " 'went there on a friday night, the place was surprisingly empty. interesting menu which is almost fully made of dosas. i had bullseye dosa and cheese masala dosa. the bullseye dosa was really good, with the egg perfectly cooked to a half boiled state. the masala in the cheese masala was good, but the cheese was a bit too chewy for my liking. the chutney was good, the sambar was average. the dishes are reasonably priced.',\n",
       " 'a very decent place serving good food. ordered chilli fish, chicken & pork sizzler. everything tasted good but pork could have been slightly better cooked. tried 2 beverages, both were very sweet.',\n",
       " 'one of the best places for steaks in the city. tried the beef steak with chili rum & grilled fish with orange and jalapenos. both were exceptionally good. the herbed rice and mashed potatoes serves alongside were equally delecatble. service is prompt and zomato gold is a great steal. if you are a steak lover, this place is a must visit. hope they come up with another ourself somewhere in the cbd. wish to be back soon. bon appetit !',\n",
       " 'really lovely place for steaks and sizzlers. tried whatã\\x83\\x83ã\\x82\\x83ã\\x83\\x82ã\\x82\\x82ã\\x83\\x83ã\\x82\\x82ã\\x83\\x82ã\\x82\\x92s at steak? it was so flavourful and delicious. the herb sauce is one of its kind. must try!! the ambience is cozy and just right! loved it. ?',\n",
       " \"this place ia for ultimate steak lovers! both chicken and pork steaks are just so scrumptious and succulent! we tried honey mustard based steakcious and what's in a steak these two dishes there and both were so tasty! the mocktails are also quite good so nice place to do an awesome dine-out with family and friend!\",\n",
       " \"it's a shame if you haven't tried once upon a flame. :) lip smacking food. for the first time i licked off a sizzler plate. it was that bloody good. two of us ordered fish chilly , chicken steak sizzler and pork steak. the sauce was killer , meat was tender and the sides were absolutely fresh. you end up having old salad sides and mashed potatoes at a lot of places but they served everything super fresh. i just wish this place runs a packed house. my only complaint is their drinks were tad too sweet highly recommended.\",\n",
       " 'we visited this place after we were tired and hungry after roaming around agra lake. it is a newly opened place and as the name suggests their specialty is barbecued and smoked food. their menu as decent variety.....food taste is good. ambiance is likeable and overall a great place for family dine out.',\n",
       " 'went there for yesterday dinner. surprisingly this place is quite silent. and not that much of rush. we went there just to take some sizzlers. so 2 people ordered for 2 types of sizzler chicken. believe me the taste is really too yummy. i canã\\x83\\x83ã\\x82\\x83ã\\x83\\x82ã\\x82\\x82ã\\x83\\x83ã\\x82\\x82ã\\x83\\x82ã\\x82\\x92t resist myself to eat another one but sad for me we are already late and there closing time comes. so i will surely go there very soon. food is superb tasty and ambience staffs everything is too good. a great experience. highly recommended for sizzler lovers.',\n",
       " 'great restaurants serving amazing steaks. super courteous staff. you can see the owner on most days on the floor taking orders, serving, ensuring food and everything is fine. food is just amazing, serving style, portion and taste all just right. one of those restaurants which make you feel happy afterwards. to go for your meat, steak and burger cravings.',\n",
       " \"location - it is on the first floor, next to mcdonalds and opposite to punjabi rasoi ambience - the place is dimly lit with wooden chairs and table- perfect setup for a steakhouse food and drinks- the pepper trail - we ordered this as per the server's recommendation and were not at all disappointed. the steak was cooked to perfection and the sauce perfectly complemented it. it is served along wt sides of herbed rice, mashed potatoes and steamed veggies. like a virgin - lemon soda with ginger and mint nojito - virgin mojito chocolate mousse - this one has the perfect taste and texture, one of the best i have ever tasted price and service-full marks for service. on a sunday night, this place was crowded and we had to wait for 15 mins but the service was quick . zomato 1+1 on food help us save some money and we paid around rs 800 for two ppl\",\n",
       " 'this place is famous for steak. the ambience is good not a big restaurant but not crowded too on weekends. the service is decent and should try out if you want semi healthy food.',\n",
       " \"ambience is peaceful with comfortable seating and yellow lights. the music is light and allows you to have a chat with your friends. coming to the food, we ordered pepper trail steak and grilled cottage cheese salad along with mixed vegetable soup. steak comes with mashed potatoes, rice and grilled veggies. steak was perfectly cooked and juicy. mashed potatoes were way too yum, i think they had mixed cheese with it. soup was also creamy along with a lot of vegetables. for the salad, we ordered matbucha paprika dressing, however i didn't like it much. paneer was okay but the other veggies didn't seem to be fresh. staff was courteous enough to accept zomato gold after we placed the order. service was also prompt. ambience - 4/5 food - 4/5 service - 4.5/5\",\n",
       " 'we primarily went there to try out their steaks. they have quite a huge spread of varieties of steaks. me and my friend, both tried their beef steaks. the meat was tender and good. we thoroughly enjoyed. ambience is decent and the stuffs are quite helpful and friendly.',\n",
       " 'had been there on 31st december for dinner..the place was crowded, still we managed to get a table. we ordered some fish and chicken platters and few mocktails..the platters tasted good but the quantity was very less as per the price of dishes..mocktails were not that great..due to rush staffs were quite busy to attend each table but still they were trying their best..appreciate them for that..the place was dim lit but overall ambiance was good..can try once ??',\n",
       " 'we order chicken starch and the chicken steak. the quality of service and food was excellent. a must place to visit. thank you for wonderful service.',\n",
       " 'i wonder why it took me so long to discover this place in bangalore. on 1st jan, while scrolling through the restaurants near hsr layout, i accidentally came across this particular place and it was probably the best thing that happened to me that day. the ambience was beautiful... the sitting arrangements, the setup,everything was just top notch... amazing people who served food... thanks to the person who attended our table was kind and lovely and helpful... we order beef tenderloin and pork steak and a mocktail...all of them were just delicious... coming at a very reasonable price too.. looking forward to visiting this place again sometime soon... thanks for the wonderful evening, team ouaf ????',\n",
       " 'a nice place to have steak in bangalore. they also have vegetarian steak options. isnã\\x83\\x83ã\\x82\\x83ã\\x83\\x82ã\\x82\\x82ã\\x83\\x83ã\\x82\\x82ã\\x83\\x82ã\\x82\\x92t it amazing? the food is tasty. service is pretty quick. ambience is very pretty specially the lights on the ceiling. rates are very reasonable and if you have zomato gold membership itã\\x83\\x83ã\\x82\\x83ã\\x83\\x82ã\\x82\\x82ã\\x83\\x83ã\\x82\\x82ã\\x83\\x82ã\\x82\\x92s very easy on pocket. give it a try when you crave for steak.',\n",
       " \"awesome food and epic burgers i especially loved the service and how owner takes every attention to detail to every customer that comes and over then that i'll to give props to the chef's for the food begin my 1st time in bengaluru i am quite impressed with the restaurant #worthavisit #mustvisit #steakstastic #epicburgers\"]"
      ]
     },
     "execution_count": 19,
     "metadata": {},
     "output_type": "execute_result"
    }
   ],
   "source": [
    "reviews_lower[0:20]"
   ]
  },
  {
   "cell_type": "code",
   "execution_count": null,
   "metadata": {},
   "outputs": [],
   "source": []
  },
  {
   "cell_type": "code",
   "execution_count": 20,
   "metadata": {},
   "outputs": [],
   "source": [
    "#tokenize data"
   ]
  },
  {
   "cell_type": "code",
   "execution_count": 21,
   "metadata": {},
   "outputs": [],
   "source": [
    "from nltk.tokenize import word_tokenize"
   ]
  },
  {
   "cell_type": "code",
   "execution_count": 22,
   "metadata": {},
   "outputs": [
    {
     "name": "stderr",
     "output_type": "stream",
     "text": [
      "[nltk_data] Downloading package punkt to /home/labsuser/nltk_data...\n",
      "[nltk_data]   Package punkt is already up-to-date!\n"
     ]
    },
    {
     "data": {
      "text/plain": [
       "True"
      ]
     },
     "execution_count": 22,
     "metadata": {},
     "output_type": "execute_result"
    }
   ],
   "source": [
    "import nltk\n",
    "nltk.download('punkt')\n",
    "#as alternative to tokenize"
   ]
  },
  {
   "cell_type": "code",
   "execution_count": 23,
   "metadata": {},
   "outputs": [],
   "source": [
    "reviews_tokens=[word_tokenize(txt) for txt in reviews_lower]"
   ]
  },
  {
   "cell_type": "code",
   "execution_count": 24,
   "metadata": {},
   "outputs": [
    {
     "data": {
      "text/plain": [
       "[['their',\n",
       "  'service',\n",
       "  'is',\n",
       "  'worst',\n",
       "  ',',\n",
       "  'pricing',\n",
       "  'in',\n",
       "  'menu',\n",
       "  'is',\n",
       "  'different',\n",
       "  'from',\n",
       "  'bill',\n",
       "  '.',\n",
       "  'they',\n",
       "  'can',\n",
       "  'give',\n",
       "  'you',\n",
       "  'a',\n",
       "  'bill',\n",
       "  'with',\n",
       "  'increased',\n",
       "  'pricing',\n",
       "  '.',\n",
       "  'even',\n",
       "  'for',\n",
       "  'serving',\n",
       "  'water',\n",
       "  ',',\n",
       "  'menu',\n",
       "  ',',\n",
       "  'order',\n",
       "  'you',\n",
       "  'need',\n",
       "  'to',\n",
       "  'call',\n",
       "  'them',\n",
       "  '3-4',\n",
       "  'times',\n",
       "  'even',\n",
       "  'on',\n",
       "  'a',\n",
       "  'non',\n",
       "  'busy',\n",
       "  'day',\n",
       "  '.'],\n",
       " ['really',\n",
       "  'appreciate',\n",
       "  'their',\n",
       "  'quality',\n",
       "  'and',\n",
       "  'timing',\n",
       "  '.',\n",
       "  'i',\n",
       "  'have',\n",
       "  'tried',\n",
       "  'the',\n",
       "  'thattil',\n",
       "  'kutti',\n",
       "  'dosa',\n",
       "  'i',\n",
       "  \"'ve\",\n",
       "  'been',\n",
       "  'addicted',\n",
       "  'to',\n",
       "  'the',\n",
       "  'dosa',\n",
       "  'really',\n",
       "  'and',\n",
       "  'the',\n",
       "  'chutney',\n",
       "  '...',\n",
       "  'really',\n",
       "  'good',\n",
       "  'and',\n",
       "  'money',\n",
       "  'worth',\n",
       "  'much',\n",
       "  'better',\n",
       "  'than',\n",
       "  'a',\n",
       "  'thattukada',\n",
       "  'must',\n",
       "  'try',\n",
       "  'it'],\n",
       " ['went',\n",
       "  'there',\n",
       "  'on',\n",
       "  'a',\n",
       "  'friday',\n",
       "  'night',\n",
       "  ',',\n",
       "  'the',\n",
       "  'place',\n",
       "  'was',\n",
       "  'surprisingly',\n",
       "  'empty',\n",
       "  '.',\n",
       "  'interesting',\n",
       "  'menu',\n",
       "  'which',\n",
       "  'is',\n",
       "  'almost',\n",
       "  'fully',\n",
       "  'made',\n",
       "  'of',\n",
       "  'dosas',\n",
       "  '.',\n",
       "  'i',\n",
       "  'had',\n",
       "  'bullseye',\n",
       "  'dosa',\n",
       "  'and',\n",
       "  'cheese',\n",
       "  'masala',\n",
       "  'dosa',\n",
       "  '.',\n",
       "  'the',\n",
       "  'bullseye',\n",
       "  'dosa',\n",
       "  'was',\n",
       "  'really',\n",
       "  'good',\n",
       "  ',',\n",
       "  'with',\n",
       "  'the',\n",
       "  'egg',\n",
       "  'perfectly',\n",
       "  'cooked',\n",
       "  'to',\n",
       "  'a',\n",
       "  'half',\n",
       "  'boiled',\n",
       "  'state',\n",
       "  '.',\n",
       "  'the',\n",
       "  'masala',\n",
       "  'in',\n",
       "  'the',\n",
       "  'cheese',\n",
       "  'masala',\n",
       "  'was',\n",
       "  'good',\n",
       "  ',',\n",
       "  'but',\n",
       "  'the',\n",
       "  'cheese',\n",
       "  'was',\n",
       "  'a',\n",
       "  'bit',\n",
       "  'too',\n",
       "  'chewy',\n",
       "  'for',\n",
       "  'my',\n",
       "  'liking',\n",
       "  '.',\n",
       "  'the',\n",
       "  'chutney',\n",
       "  'was',\n",
       "  'good',\n",
       "  ',',\n",
       "  'the',\n",
       "  'sambar',\n",
       "  'was',\n",
       "  'average',\n",
       "  '.',\n",
       "  'the',\n",
       "  'dishes',\n",
       "  'are',\n",
       "  'reasonably',\n",
       "  'priced',\n",
       "  '.']]"
      ]
     },
     "execution_count": 24,
     "metadata": {},
     "output_type": "execute_result"
    }
   ],
   "source": [
    "reviews_tokens[0:3]"
   ]
  },
  {
   "cell_type": "code",
   "execution_count": null,
   "metadata": {},
   "outputs": [],
   "source": []
  },
  {
   "cell_type": "code",
   "execution_count": 25,
   "metadata": {},
   "outputs": [],
   "source": [
    "#remove stop words and punctuations"
   ]
  },
  {
   "cell_type": "code",
   "execution_count": 26,
   "metadata": {},
   "outputs": [],
   "source": [
    "from nltk.corpus import stopwords\n",
    "from string import punctuation"
   ]
  },
  {
   "cell_type": "code",
   "execution_count": 27,
   "metadata": {},
   "outputs": [
    {
     "name": "stderr",
     "output_type": "stream",
     "text": [
      "[nltk_data] Downloading package stopwords to\n",
      "[nltk_data]     /home/labsuser/nltk_data...\n",
      "[nltk_data]   Package stopwords is already up-to-date!\n"
     ]
    },
    {
     "data": {
      "text/plain": [
       "True"
      ]
     },
     "execution_count": 27,
     "metadata": {},
     "output_type": "execute_result"
    }
   ],
   "source": [
    "import nltk\n",
    "nltk.download('stopwords')"
   ]
  },
  {
   "cell_type": "code",
   "execution_count": null,
   "metadata": {},
   "outputs": [],
   "source": []
  },
  {
   "cell_type": "code",
   "execution_count": 28,
   "metadata": {},
   "outputs": [],
   "source": [
    "stop_nltk=stopwords.words('english')\n",
    "\n",
    "stop_punct=list(punctuation)"
   ]
  },
  {
   "cell_type": "code",
   "execution_count": 29,
   "metadata": {},
   "outputs": [
    {
     "name": "stdout",
     "output_type": "stream",
     "text": [
      "['!', '\"', '#', '$', '%', '&', \"'\", '(', ')', '*', '+', ',', '-', '.', '/', ':', ';', '<', '=', '>', '?', '@', '[', '\\\\', ']', '^', '_', '`', '{', '|', '}', '~']\n"
     ]
    }
   ],
   "source": [
    "print(stop_punct)"
   ]
  },
  {
   "cell_type": "code",
   "execution_count": 30,
   "metadata": {},
   "outputs": [
    {
     "name": "stdout",
     "output_type": "stream",
     "text": [
      "['i', 'me', 'my', 'myself', 'we', 'our', 'ours', 'ourselves', 'you', \"you're\", \"you've\", \"you'll\", \"you'd\", 'your', 'yours', 'yourself', 'yourselves', 'he', 'him', 'his', 'himself', 'she', \"she's\", 'her', 'hers', 'herself', 'it', \"it's\", 'its', 'itself', 'they', 'them', 'their', 'theirs', 'themselves', 'what', 'which', 'who', 'whom', 'this', 'that', \"that'll\", 'these', 'those', 'am', 'is', 'are', 'was', 'were', 'be', 'been', 'being', 'have', 'has', 'had', 'having', 'do', 'does', 'did', 'doing', 'a', 'an', 'the', 'and', 'but', 'if', 'or', 'because', 'as', 'until', 'while', 'of', 'at', 'by', 'for', 'with', 'about', 'against', 'between', 'into', 'through', 'during', 'before', 'after', 'above', 'below', 'to', 'from', 'up', 'down', 'in', 'out', 'on', 'off', 'over', 'under', 'again', 'further', 'then', 'once', 'here', 'there', 'when', 'where', 'why', 'how', 'all', 'any', 'both', 'each', 'few', 'more', 'most', 'other', 'some', 'such', 'no', 'nor', 'not', 'only', 'own', 'same', 'so', 'than', 'too', 'very', 's', 't', 'can', 'will', 'just', 'don', \"don't\", 'should', \"should've\", 'now', 'd', 'll', 'm', 'o', 're', 've', 'y', 'ain', 'aren', \"aren't\", 'couldn', \"couldn't\", 'didn', \"didn't\", 'doesn', \"doesn't\", 'hadn', \"hadn't\", 'hasn', \"hasn't\", 'haven', \"haven't\", 'isn', \"isn't\", 'ma', 'mightn', \"mightn't\", 'mustn', \"mustn't\", 'needn', \"needn't\", 'shan', \"shan't\", 'shouldn', \"shouldn't\", 'wasn', \"wasn't\", 'weren', \"weren't\", 'won', \"won't\", 'wouldn', \"wouldn't\"]\n"
     ]
    }
   ],
   "source": [
    "print(stop_nltk)"
   ]
  },
  {
   "cell_type": "code",
   "execution_count": null,
   "metadata": {},
   "outputs": [],
   "source": []
  },
  {
   "cell_type": "code",
   "execution_count": 31,
   "metadata": {},
   "outputs": [],
   "source": [
    "stop_nltk.remove('no')\n",
    "\n",
    "stop_nltk.remove('not')\n",
    "\n",
    "stop_nltk.remove('don')\n",
    "\n",
    "stop_nltk.remove('won')"
   ]
  },
  {
   "cell_type": "code",
   "execution_count": 32,
   "metadata": {},
   "outputs": [],
   "source": [
    "# final list for removal\n",
    "\n",
    "stop_final=stop_nltk+stop_punct+['...',\"''\",\"====\",'must']"
   ]
  },
  {
   "cell_type": "code",
   "execution_count": 33,
   "metadata": {},
   "outputs": [],
   "source": [
    "#remove the stop final\n",
    "def del_stop(txt):\n",
    "\n",
    "    return [term for term in txt if term not in stop_final]"
   ]
  },
  {
   "cell_type": "code",
   "execution_count": 34,
   "metadata": {},
   "outputs": [
    {
     "data": {
      "text/plain": [
       "['really',\n",
       " 'appreciate',\n",
       " 'quality',\n",
       " 'timing',\n",
       " 'tried',\n",
       " 'thattil',\n",
       " 'kutti',\n",
       " 'dosa',\n",
       " \"'ve\",\n",
       " 'addicted',\n",
       " 'dosa',\n",
       " 'really',\n",
       " 'chutney',\n",
       " 'really',\n",
       " 'good',\n",
       " 'money',\n",
       " 'worth',\n",
       " 'much',\n",
       " 'better',\n",
       " 'thattukada',\n",
       " 'try']"
      ]
     },
     "execution_count": 34,
     "metadata": {},
     "output_type": "execute_result"
    }
   ],
   "source": [
    "del_stop(reviews_tokens[1])"
   ]
  },
  {
   "cell_type": "code",
   "execution_count": null,
   "metadata": {},
   "outputs": [],
   "source": []
  },
  {
   "cell_type": "code",
   "execution_count": 35,
   "metadata": {},
   "outputs": [],
   "source": [
    "reviews_clean=[del_stop(txt) for txt in reviews_tokens]"
   ]
  },
  {
   "cell_type": "code",
   "execution_count": 36,
   "metadata": {},
   "outputs": [
    {
     "data": {
      "text/plain": [
       "[['service',\n",
       "  'worst',\n",
       "  'pricing',\n",
       "  'menu',\n",
       "  'different',\n",
       "  'bill',\n",
       "  'give',\n",
       "  'bill',\n",
       "  'increased',\n",
       "  'pricing',\n",
       "  'even',\n",
       "  'serving',\n",
       "  'water',\n",
       "  'menu',\n",
       "  'order',\n",
       "  'need',\n",
       "  'call',\n",
       "  '3-4',\n",
       "  'times',\n",
       "  'even',\n",
       "  'non',\n",
       "  'busy',\n",
       "  'day'],\n",
       " ['really',\n",
       "  'appreciate',\n",
       "  'quality',\n",
       "  'timing',\n",
       "  'tried',\n",
       "  'thattil',\n",
       "  'kutti',\n",
       "  'dosa',\n",
       "  \"'ve\",\n",
       "  'addicted',\n",
       "  'dosa',\n",
       "  'really',\n",
       "  'chutney',\n",
       "  'really',\n",
       "  'good',\n",
       "  'money',\n",
       "  'worth',\n",
       "  'much',\n",
       "  'better',\n",
       "  'thattukada',\n",
       "  'try'],\n",
       " ['went',\n",
       "  'friday',\n",
       "  'night',\n",
       "  'place',\n",
       "  'surprisingly',\n",
       "  'empty',\n",
       "  'interesting',\n",
       "  'menu',\n",
       "  'almost',\n",
       "  'fully',\n",
       "  'made',\n",
       "  'dosas',\n",
       "  'bullseye',\n",
       "  'dosa',\n",
       "  'cheese',\n",
       "  'masala',\n",
       "  'dosa',\n",
       "  'bullseye',\n",
       "  'dosa',\n",
       "  'really',\n",
       "  'good',\n",
       "  'egg',\n",
       "  'perfectly',\n",
       "  'cooked',\n",
       "  'half',\n",
       "  'boiled',\n",
       "  'state',\n",
       "  'masala',\n",
       "  'cheese',\n",
       "  'masala',\n",
       "  'good',\n",
       "  'cheese',\n",
       "  'bit',\n",
       "  'chewy',\n",
       "  'liking',\n",
       "  'chutney',\n",
       "  'good',\n",
       "  'sambar',\n",
       "  'average',\n",
       "  'dishes',\n",
       "  'reasonably',\n",
       "  'priced']]"
      ]
     },
     "execution_count": 36,
     "metadata": {},
     "output_type": "execute_result"
    }
   ],
   "source": [
    "reviews_clean[0:3]"
   ]
  },
  {
   "cell_type": "code",
   "execution_count": null,
   "metadata": {},
   "outputs": [],
   "source": []
  },
  {
   "cell_type": "code",
   "execution_count": 37,
   "metadata": {},
   "outputs": [
    {
     "data": {
      "text/plain": [
       "['service worst pricing menu different bill give bill increased pricing even serving water menu order need call 3-4 times even non busy day',\n",
       " \"really appreciate quality timing tried thattil kutti dosa 've addicted dosa really chutney really good money worth much better thattukada try\"]"
      ]
     },
     "execution_count": 37,
     "metadata": {},
     "output_type": "execute_result"
    }
   ],
   "source": [
    "reviews_clean=[\" \".join(txt) for txt in reviews_clean]\n",
    "\n",
    "reviews_clean[:2]"
   ]
  },
  {
   "cell_type": "code",
   "execution_count": null,
   "metadata": {},
   "outputs": [],
   "source": []
  },
  {
   "cell_type": "code",
   "execution_count": 38,
   "metadata": {},
   "outputs": [],
   "source": [
    "#create independent and depemdent set"
   ]
  },
  {
   "cell_type": "code",
   "execution_count": 39,
   "metadata": {},
   "outputs": [],
   "source": [
    "reviews_clean1=reviews_clean[:5000]"
   ]
  },
  {
   "cell_type": "code",
   "execution_count": 40,
   "metadata": {},
   "outputs": [],
   "source": [
    "# create Indep & dep set\n",
    "\n",
    "X=reviews_clean1\n",
    "\n",
    "y=reviews.rating[:5000]"
   ]
  },
  {
   "cell_type": "code",
   "execution_count": 41,
   "metadata": {},
   "outputs": [],
   "source": [
    "# split the data into trainset & test set\n",
    "\n",
    "from sklearn.model_selection import train_test_split\n",
    "\n",
    "X_train,X_test,y_train,y_test=train_test_split(X,y,test_size=0.30,random_state=42)"
   ]
  },
  {
   "cell_type": "code",
   "execution_count": null,
   "metadata": {},
   "outputs": [],
   "source": []
  },
  {
   "cell_type": "code",
   "execution_count": 42,
   "metadata": {},
   "outputs": [],
   "source": [
    "# apply tf-idf\n",
    "\n",
    "from sklearn.feature_extraction.text import TfidfVectorizer\n",
    "\n",
    "vectorizer=TfidfVectorizer(max_features=5000)"
   ]
  },
  {
   "cell_type": "code",
   "execution_count": 43,
   "metadata": {},
   "outputs": [],
   "source": [
    "X_train_features=vectorizer.fit_transform(X_train)"
   ]
  },
  {
   "cell_type": "code",
   "execution_count": 44,
   "metadata": {},
   "outputs": [],
   "source": [
    "X_test_features=vectorizer.transform(X_test)"
   ]
  },
  {
   "cell_type": "code",
   "execution_count": 45,
   "metadata": {},
   "outputs": [],
   "source": [
    "from sklearn.ensemble import RandomForestRegressor\n",
    "reg=RandomForestRegressor()"
   ]
  },
  {
   "cell_type": "code",
   "execution_count": 46,
   "metadata": {},
   "outputs": [
    {
     "data": {
      "text/plain": [
       "RandomForestRegressor()"
      ]
     },
     "execution_count": 46,
     "metadata": {},
     "output_type": "execute_result"
    }
   ],
   "source": [
    "reg.fit(X_train_features,y_train)"
   ]
  },
  {
   "cell_type": "code",
   "execution_count": 47,
   "metadata": {},
   "outputs": [],
   "source": [
    "y_train_pred=reg.predict(X_train_features)\n",
    "y_test_pred=reg.predict(X_test_features)"
   ]
  },
  {
   "cell_type": "code",
   "execution_count": 48,
   "metadata": {},
   "outputs": [
    {
     "data": {
      "text/plain": [
       "0.07615397852568821"
      ]
     },
     "execution_count": 48,
     "metadata": {},
     "output_type": "execute_result"
    }
   ],
   "source": [
    "from sklearn.metrics import mean_squared_error\n",
    "\n",
    "mse=mean_squared_error(y_train_pred,y_train)\n",
    "\n",
    "mse"
   ]
  },
  {
   "cell_type": "code",
   "execution_count": 49,
   "metadata": {},
   "outputs": [
    {
     "data": {
      "text/plain": [
       "0.2976742562857842"
      ]
     },
     "execution_count": 49,
     "metadata": {},
     "output_type": "execute_result"
    }
   ],
   "source": [
    "mse1=mean_squared_error(y_test_pred,y_test)\n",
    "\n",
    "mse1"
   ]
  },
  {
   "cell_type": "code",
   "execution_count": null,
   "metadata": {},
   "outputs": [],
   "source": []
  },
  {
   "cell_type": "code",
   "execution_count": 51,
   "metadata": {},
   "outputs": [],
   "source": [
    "# identify performance\n",
    "\n",
    "res_df=pd.DataFrame({'review':X_test,'rating':y_test,'rating_pred':y_test_pred})"
   ]
  },
  {
   "cell_type": "raw",
   "metadata": {},
   "source": []
  },
  {
   "cell_type": "code",
   "execution_count": 52,
   "metadata": {},
   "outputs": [
    {
     "data": {
      "text/html": [
       "<div>\n",
       "<style scoped>\n",
       "    .dataframe tbody tr th:only-of-type {\n",
       "        vertical-align: middle;\n",
       "    }\n",
       "\n",
       "    .dataframe tbody tr th {\n",
       "        vertical-align: top;\n",
       "    }\n",
       "\n",
       "    .dataframe thead th {\n",
       "        text-align: right;\n",
       "    }\n",
       "</style>\n",
       "<table border=\"1\" class=\"dataframe\">\n",
       "  <thead>\n",
       "    <tr style=\"text-align: right;\">\n",
       "      <th></th>\n",
       "      <th>review</th>\n",
       "      <th>rating</th>\n",
       "      <th>rating_pred</th>\n",
       "    </tr>\n",
       "  </thead>\n",
       "  <tbody>\n",
       "    <tr>\n",
       "      <th>1501</th>\n",
       "      <td>100 ft boutique restaurant one favourite place...</td>\n",
       "      <td>5.0</td>\n",
       "      <td>4.725</td>\n",
       "    </tr>\n",
       "    <tr>\n",
       "      <th>2586</th>\n",
       "      <td>went place today lunch located strategically p...</td>\n",
       "      <td>3.5</td>\n",
       "      <td>3.530</td>\n",
       "    </tr>\n",
       "    <tr>\n",
       "      <th>2653</th>\n",
       "      <td>sad people sad people ããããããããâ...</td>\n",
       "      <td>2.0</td>\n",
       "      <td>3.345</td>\n",
       "    </tr>\n",
       "    <tr>\n",
       "      <th>1055</th>\n",
       "      <td>super testy food awesome experience fast suppl...</td>\n",
       "      <td>4.5</td>\n",
       "      <td>4.460</td>\n",
       "    </tr>\n",
       "    <tr>\n",
       "      <th>705</th>\n",
       "      <td>place great food music ambience fine brewery w...</td>\n",
       "      <td>5.0</td>\n",
       "      <td>4.700</td>\n",
       "    </tr>\n",
       "    <tr>\n",
       "      <th>...</th>\n",
       "      <td>...</td>\n",
       "      <td>...</td>\n",
       "      <td>...</td>\n",
       "    </tr>\n",
       "    <tr>\n",
       "      <th>3563</th>\n",
       "      <td>good food service reasonable rate.manily 's ty...</td>\n",
       "      <td>4.0</td>\n",
       "      <td>4.480</td>\n",
       "    </tr>\n",
       "    <tr>\n",
       "      <th>1538</th>\n",
       "      <td>ordered dhoosa puri chai mid night mind blowin...</td>\n",
       "      <td>5.0</td>\n",
       "      <td>4.865</td>\n",
       "    </tr>\n",
       "    <tr>\n",
       "      <th>1837</th>\n",
       "      <td>extremely happy order food also good tasty</td>\n",
       "      <td>5.0</td>\n",
       "      <td>5.000</td>\n",
       "    </tr>\n",
       "    <tr>\n",
       "      <th>2380</th>\n",
       "      <td>ambience decent service little slow asked wate...</td>\n",
       "      <td>3.0</td>\n",
       "      <td>3.020</td>\n",
       "    </tr>\n",
       "    <tr>\n",
       "      <th>1912</th>\n",
       "      <td>best place quick bites pure south indian affor...</td>\n",
       "      <td>5.0</td>\n",
       "      <td>4.940</td>\n",
       "    </tr>\n",
       "  </tbody>\n",
       "</table>\n",
       "<p>1500 rows × 3 columns</p>\n",
       "</div>"
      ],
      "text/plain": [
       "                                                 review  rating  rating_pred\n",
       "1501  100 ft boutique restaurant one favourite place...     5.0        4.725\n",
       "2586  went place today lunch located strategically p...     3.5        3.530\n",
       "2653  sad people sad people ããããããããâ...     2.0        3.345\n",
       "1055  super testy food awesome experience fast suppl...     4.5        4.460\n",
       "705   place great food music ambience fine brewery w...     5.0        4.700\n",
       "...                                                 ...     ...          ...\n",
       "3563  good food service reasonable rate.manily 's ty...     4.0        4.480\n",
       "1538  ordered dhoosa puri chai mid night mind blowin...     5.0        4.865\n",
       "1837         extremely happy order food also good tasty     5.0        5.000\n",
       "2380  ambience decent service little slow asked wate...     3.0        3.020\n",
       "1912  best place quick bites pure south indian affor...     5.0        4.940\n",
       "\n",
       "[1500 rows x 3 columns]"
      ]
     },
     "execution_count": 52,
     "metadata": {},
     "output_type": "execute_result"
    }
   ],
   "source": [
    "res_df"
   ]
  },
  {
   "cell_type": "code",
   "execution_count": null,
   "metadata": {},
   "outputs": [],
   "source": []
  },
  {
   "cell_type": "code",
   "execution_count": null,
   "metadata": {},
   "outputs": [],
   "source": [
    "#libraries to save the ML models are Joblib and pickle"
   ]
  },
  {
   "cell_type": "code",
   "execution_count": 53,
   "metadata": {},
   "outputs": [
    {
     "name": "stdout",
     "output_type": "stream",
     "text": [
      "model saved\n"
     ]
    }
   ],
   "source": [
    "# joblib\n",
    "\n",
    "import joblib\n",
    "\n",
    "joblib.dump(reg,'Rating_pred.pkl')\n",
    "\n",
    "print('model saved')"
   ]
  },
  {
   "cell_type": "code",
   "execution_count": null,
   "metadata": {},
   "outputs": [],
   "source": []
  },
  {
   "cell_type": "code",
   "execution_count": 54,
   "metadata": {},
   "outputs": [
    {
     "name": "stdout",
     "output_type": "stream",
     "text": [
      "model loaded\n"
     ]
    }
   ],
   "source": [
    "# load the model \n",
    "\n",
    "model=joblib.load('Rating_pred.pkl')\n",
    "\n",
    "print('model loaded')"
   ]
  },
  {
   "cell_type": "code",
   "execution_count": 55,
   "metadata": {},
   "outputs": [],
   "source": [
    "review='This is one of the best place to visit, very good food & overall service'"
   ]
  },
  {
   "cell_type": "code",
   "execution_count": 56,
   "metadata": {},
   "outputs": [],
   "source": [
    "vector_review=vectorizer.transform([review])"
   ]
  },
  {
   "cell_type": "code",
   "execution_count": 58,
   "metadata": {},
   "outputs": [
    {
     "data": {
      "text/plain": [
       "array([4.405])"
      ]
     },
     "execution_count": 58,
     "metadata": {},
     "output_type": "execute_result"
    }
   ],
   "source": [
    "rating_review=model.predict(vector_review)\n",
    "rating_review"
   ]
  },
  {
   "cell_type": "code",
   "execution_count": null,
   "metadata": {},
   "outputs": [],
   "source": []
  },
  {
   "cell_type": "code",
   "execution_count": null,
   "metadata": {},
   "outputs": [],
   "source": []
  },
  {
   "cell_type": "code",
   "execution_count": null,
   "metadata": {},
   "outputs": [],
   "source": []
  }
 ],
 "metadata": {
  "kernelspec": {
   "display_name": "Python 3",
   "language": "python",
   "name": "python3"
  },
  "language_info": {
   "codemirror_mode": {
    "name": "ipython",
    "version": 3
   },
   "file_extension": ".py",
   "mimetype": "text/x-python",
   "name": "python",
   "nbconvert_exporter": "python",
   "pygments_lexer": "ipython3",
   "version": "3.7.6"
  }
 },
 "nbformat": 4,
 "nbformat_minor": 4
}
