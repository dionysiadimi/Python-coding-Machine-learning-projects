{
  "nbformat": 4,
  "nbformat_minor": 0,
  "metadata": {
    "colab": {
      "provenance": [],
      "authorship_tag": "ABX9TyP2Qum7ax8jT7r1v9tXJefb",
      "include_colab_link": true
    },
    "kernelspec": {
      "name": "python3",
      "display_name": "Python 3"
    },
    "language_info": {
      "name": "python"
    }
  },
  "cells": [
    {
      "cell_type": "markdown",
      "metadata": {
        "id": "view-in-github",
        "colab_type": "text"
      },
      "source": [
        "<a href=\"https://colab.research.google.com/github/dionysiadimi/matzaris/blob/main/Untitled7.ipynb\" target=\"_parent\"><img src=\"https://colab.research.google.com/assets/colab-badge.svg\" alt=\"Open In Colab\"/></a>"
      ]
    },
    {
      "cell_type": "code",
      "execution_count": 17,
      "metadata": {
        "id": "Va3ysTQv-Tnc"
      },
      "outputs": [],
      "source": [
        "import pandas as pd\n",
        "import numpy as np\n",
        "import matplotlib.pyplot as plt\n"
      ]
    },
    {
      "cell_type": "code",
      "source": [
        "import scipy"
      ],
      "metadata": {
        "id": "3VtkYyCYCexj"
      },
      "execution_count": 18,
      "outputs": []
    },
    {
      "cell_type": "code",
      "source": [
        "!pip install leidenalg"
      ],
      "metadata": {
        "colab": {
          "base_uri": "https://localhost:8080/"
        },
        "id": "M-6ey4kQCi6b",
        "outputId": "03d0b0a8-5c65-49a0-8d2a-82f60e1736b8"
      },
      "execution_count": 19,
      "outputs": [
        {
          "output_type": "stream",
          "name": "stdout",
          "text": [
            "Requirement already satisfied: leidenalg in /usr/local/lib/python3.10/dist-packages (0.10.1)\n",
            "Requirement already satisfied: igraph<0.11,>=0.10.0 in /usr/local/lib/python3.10/dist-packages (from leidenalg) (0.10.6)\n",
            "Requirement already satisfied: texttable>=1.6.2 in /usr/local/lib/python3.10/dist-packages (from igraph<0.11,>=0.10.0->leidenalg) (1.6.7)\n"
          ]
        }
      ]
    },
    {
      "cell_type": "code",
      "source": [
        "!pip install louvain scanpy"
      ],
      "metadata": {
        "colab": {
          "base_uri": "https://localhost:8080/"
        },
        "id": "xXrD6D91C1yP",
        "outputId": "4655ba5e-258c-4221-9bc3-a8c0d5aa8a7e"
      },
      "execution_count": 20,
      "outputs": [
        {
          "output_type": "stream",
          "name": "stdout",
          "text": [
            "Requirement already satisfied: louvain in /usr/local/lib/python3.10/dist-packages (0.8.1)\n",
            "Requirement already satisfied: scanpy in /usr/local/lib/python3.10/dist-packages (1.9.3)\n",
            "Requirement already satisfied: igraph<0.11,>=0.10.0 in /usr/local/lib/python3.10/dist-packages (from louvain) (0.10.6)\n",
            "Requirement already satisfied: anndata>=0.7.4 in /usr/local/lib/python3.10/dist-packages (from scanpy) (0.9.2)\n",
            "Requirement already satisfied: numpy>=1.17.0 in /usr/local/lib/python3.10/dist-packages (from scanpy) (1.23.5)\n",
            "Requirement already satisfied: matplotlib>=3.4 in /usr/local/lib/python3.10/dist-packages (from scanpy) (3.7.1)\n",
            "Requirement already satisfied: pandas>=1.0 in /usr/local/lib/python3.10/dist-packages (from scanpy) (1.5.3)\n",
            "Requirement already satisfied: scipy>=1.4 in /usr/local/lib/python3.10/dist-packages (from scanpy) (1.10.1)\n",
            "Requirement already satisfied: seaborn in /usr/local/lib/python3.10/dist-packages (from scanpy) (0.12.2)\n",
            "Requirement already satisfied: h5py>=3 in /usr/local/lib/python3.10/dist-packages (from scanpy) (3.9.0)\n",
            "Requirement already satisfied: tqdm in /usr/local/lib/python3.10/dist-packages (from scanpy) (4.66.1)\n",
            "Requirement already satisfied: scikit-learn>=0.22 in /usr/local/lib/python3.10/dist-packages (from scanpy) (1.2.2)\n",
            "Requirement already satisfied: statsmodels>=0.10.0rc2 in /usr/local/lib/python3.10/dist-packages (from scanpy) (0.14.0)\n",
            "Requirement already satisfied: patsy in /usr/local/lib/python3.10/dist-packages (from scanpy) (0.5.3)\n",
            "Requirement already satisfied: networkx>=2.3 in /usr/local/lib/python3.10/dist-packages (from scanpy) (3.1)\n",
            "Requirement already satisfied: natsort in /usr/local/lib/python3.10/dist-packages (from scanpy) (8.4.0)\n",
            "Requirement already satisfied: joblib in /usr/local/lib/python3.10/dist-packages (from scanpy) (1.3.2)\n",
            "Requirement already satisfied: numba>=0.41.0 in /usr/local/lib/python3.10/dist-packages (from scanpy) (0.56.4)\n",
            "Requirement already satisfied: umap-learn>=0.3.10 in /usr/local/lib/python3.10/dist-packages (from scanpy) (0.5.3)\n",
            "Requirement already satisfied: packaging in /usr/local/lib/python3.10/dist-packages (from scanpy) (23.1)\n",
            "Requirement already satisfied: session-info in /usr/local/lib/python3.10/dist-packages (from scanpy) (1.0.0)\n",
            "Requirement already satisfied: texttable>=1.6.2 in /usr/local/lib/python3.10/dist-packages (from igraph<0.11,>=0.10.0->louvain) (1.6.7)\n",
            "Requirement already satisfied: contourpy>=1.0.1 in /usr/local/lib/python3.10/dist-packages (from matplotlib>=3.4->scanpy) (1.1.0)\n",
            "Requirement already satisfied: cycler>=0.10 in /usr/local/lib/python3.10/dist-packages (from matplotlib>=3.4->scanpy) (0.11.0)\n",
            "Requirement already satisfied: fonttools>=4.22.0 in /usr/local/lib/python3.10/dist-packages (from matplotlib>=3.4->scanpy) (4.42.0)\n",
            "Requirement already satisfied: kiwisolver>=1.0.1 in /usr/local/lib/python3.10/dist-packages (from matplotlib>=3.4->scanpy) (1.4.4)\n",
            "Requirement already satisfied: pillow>=6.2.0 in /usr/local/lib/python3.10/dist-packages (from matplotlib>=3.4->scanpy) (9.4.0)\n",
            "Requirement already satisfied: pyparsing>=2.3.1 in /usr/local/lib/python3.10/dist-packages (from matplotlib>=3.4->scanpy) (3.1.1)\n",
            "Requirement already satisfied: python-dateutil>=2.7 in /usr/local/lib/python3.10/dist-packages (from matplotlib>=3.4->scanpy) (2.8.2)\n",
            "Requirement already satisfied: llvmlite<0.40,>=0.39.0dev0 in /usr/local/lib/python3.10/dist-packages (from numba>=0.41.0->scanpy) (0.39.1)\n",
            "Requirement already satisfied: setuptools in /usr/local/lib/python3.10/dist-packages (from numba>=0.41.0->scanpy) (67.7.2)\n",
            "Requirement already satisfied: pytz>=2020.1 in /usr/local/lib/python3.10/dist-packages (from pandas>=1.0->scanpy) (2023.3)\n",
            "Requirement already satisfied: threadpoolctl>=2.0.0 in /usr/local/lib/python3.10/dist-packages (from scikit-learn>=0.22->scanpy) (3.2.0)\n",
            "Requirement already satisfied: six in /usr/local/lib/python3.10/dist-packages (from patsy->scanpy) (1.16.0)\n",
            "Requirement already satisfied: pynndescent>=0.5 in /usr/local/lib/python3.10/dist-packages (from umap-learn>=0.3.10->scanpy) (0.5.10)\n",
            "Requirement already satisfied: stdlib-list in /usr/local/lib/python3.10/dist-packages (from session-info->scanpy) (0.9.0)\n"
          ]
        }
      ]
    },
    {
      "cell_type": "code",
      "source": [
        "!pip install kb-python"
      ],
      "metadata": {
        "colab": {
          "base_uri": "https://localhost:8080/"
        },
        "id": "aFXcxEA1DD_L",
        "outputId": "c772d97d-beff-4fc1-e774-368b05fc4285"
      },
      "execution_count": 21,
      "outputs": [
        {
          "output_type": "stream",
          "name": "stdout",
          "text": [
            "Requirement already satisfied: kb-python in /usr/local/lib/python3.10/dist-packages (0.27.3)\n",
            "Requirement already satisfied: anndata>=0.6.22.post1 in /usr/local/lib/python3.10/dist-packages (from kb-python) (0.9.2)\n",
            "Requirement already satisfied: h5py>=2.10.0 in /usr/local/lib/python3.10/dist-packages (from kb-python) (3.9.0)\n",
            "Requirement already satisfied: Jinja2>2.10.1 in /usr/local/lib/python3.10/dist-packages (from kb-python) (3.1.2)\n",
            "Requirement already satisfied: loompy>=3.0.6 in /usr/local/lib/python3.10/dist-packages (from kb-python) (3.0.7)\n",
            "Requirement already satisfied: nbconvert>=5.6.0 in /usr/local/lib/python3.10/dist-packages (from kb-python) (6.5.4)\n",
            "Requirement already satisfied: nbformat>=4.4.0 in /usr/local/lib/python3.10/dist-packages (from kb-python) (5.9.2)\n",
            "Requirement already satisfied: ngs-tools>=1.7.3 in /usr/local/lib/python3.10/dist-packages (from kb-python) (1.8.4)\n",
            "Requirement already satisfied: numpy>=1.17.2 in /usr/local/lib/python3.10/dist-packages (from kb-python) (1.23.5)\n",
            "Requirement already satisfied: pandas>=1.0.0 in /usr/local/lib/python3.10/dist-packages (from kb-python) (1.5.3)\n",
            "Requirement already satisfied: plotly>=4.5.0 in /usr/local/lib/python3.10/dist-packages (from kb-python) (5.15.0)\n",
            "Requirement already satisfied: requests>=2.22.0 in /usr/local/lib/python3.10/dist-packages (from kb-python) (2.31.0)\n",
            "Requirement already satisfied: scanpy>=1.4.4.post1 in /usr/local/lib/python3.10/dist-packages (from kb-python) (1.9.3)\n",
            "Requirement already satisfied: scikit-learn>=0.21.3 in /usr/local/lib/python3.10/dist-packages (from kb-python) (1.2.2)\n",
            "Requirement already satisfied: typing-extensions>=3.7.4 in /usr/local/lib/python3.10/dist-packages (from kb-python) (4.7.1)\n",
            "Requirement already satisfied: scipy>1.4 in /usr/local/lib/python3.10/dist-packages (from anndata>=0.6.22.post1->kb-python) (1.10.1)\n",
            "Requirement already satisfied: natsort in /usr/local/lib/python3.10/dist-packages (from anndata>=0.6.22.post1->kb-python) (8.4.0)\n",
            "Requirement already satisfied: packaging>=20 in /usr/local/lib/python3.10/dist-packages (from anndata>=0.6.22.post1->kb-python) (23.1)\n",
            "Requirement already satisfied: MarkupSafe>=2.0 in /usr/local/lib/python3.10/dist-packages (from Jinja2>2.10.1->kb-python) (2.1.3)\n",
            "Requirement already satisfied: setuptools in /usr/local/lib/python3.10/dist-packages (from loompy>=3.0.6->kb-python) (67.7.2)\n",
            "Requirement already satisfied: numba in /usr/local/lib/python3.10/dist-packages (from loompy>=3.0.6->kb-python) (0.56.4)\n",
            "Requirement already satisfied: click in /usr/local/lib/python3.10/dist-packages (from loompy>=3.0.6->kb-python) (8.1.6)\n",
            "Requirement already satisfied: numpy-groupies in /usr/local/lib/python3.10/dist-packages (from loompy>=3.0.6->kb-python) (0.9.22)\n",
            "Requirement already satisfied: lxml in /usr/local/lib/python3.10/dist-packages (from nbconvert>=5.6.0->kb-python) (4.9.3)\n",
            "Requirement already satisfied: beautifulsoup4 in /usr/local/lib/python3.10/dist-packages (from nbconvert>=5.6.0->kb-python) (4.11.2)\n",
            "Requirement already satisfied: bleach in /usr/local/lib/python3.10/dist-packages (from nbconvert>=5.6.0->kb-python) (6.0.0)\n",
            "Requirement already satisfied: defusedxml in /usr/local/lib/python3.10/dist-packages (from nbconvert>=5.6.0->kb-python) (0.7.1)\n",
            "Requirement already satisfied: entrypoints>=0.2.2 in /usr/local/lib/python3.10/dist-packages (from nbconvert>=5.6.0->kb-python) (0.4)\n",
            "Requirement already satisfied: jupyter-core>=4.7 in /usr/local/lib/python3.10/dist-packages (from nbconvert>=5.6.0->kb-python) (5.3.1)\n",
            "Requirement already satisfied: jupyterlab-pygments in /usr/local/lib/python3.10/dist-packages (from nbconvert>=5.6.0->kb-python) (0.2.2)\n",
            "Requirement already satisfied: mistune<2,>=0.8.1 in /usr/local/lib/python3.10/dist-packages (from nbconvert>=5.6.0->kb-python) (0.8.4)\n",
            "Requirement already satisfied: nbclient>=0.5.0 in /usr/local/lib/python3.10/dist-packages (from nbconvert>=5.6.0->kb-python) (0.8.0)\n",
            "Requirement already satisfied: pandocfilters>=1.4.1 in /usr/local/lib/python3.10/dist-packages (from nbconvert>=5.6.0->kb-python) (1.5.0)\n",
            "Requirement already satisfied: pygments>=2.4.1 in /usr/local/lib/python3.10/dist-packages (from nbconvert>=5.6.0->kb-python) (2.16.1)\n",
            "Requirement already satisfied: tinycss2 in /usr/local/lib/python3.10/dist-packages (from nbconvert>=5.6.0->kb-python) (1.2.1)\n",
            "Requirement already satisfied: traitlets>=5.0 in /usr/local/lib/python3.10/dist-packages (from nbconvert>=5.6.0->kb-python) (5.7.1)\n",
            "Requirement already satisfied: fastjsonschema in /usr/local/lib/python3.10/dist-packages (from nbformat>=4.4.0->kb-python) (2.18.0)\n",
            "Requirement already satisfied: jsonschema>=2.6 in /usr/local/lib/python3.10/dist-packages (from nbformat>=4.4.0->kb-python) (4.19.0)\n",
            "Requirement already satisfied: joblib>=1.0.1 in /usr/local/lib/python3.10/dist-packages (from ngs-tools>=1.7.3->kb-python) (1.3.2)\n",
            "Requirement already satisfied: pysam>=0.16.0.1 in /usr/local/lib/python3.10/dist-packages (from ngs-tools>=1.7.3->kb-python) (0.21.0)\n",
            "Requirement already satisfied: shortuuid>=1.0.1 in /usr/local/lib/python3.10/dist-packages (from ngs-tools>=1.7.3->kb-python) (1.0.11)\n",
            "Requirement already satisfied: tqdm>=4.50.0 in /usr/local/lib/python3.10/dist-packages (from ngs-tools>=1.7.3->kb-python) (4.66.1)\n",
            "Requirement already satisfied: python-dateutil>=2.8.1 in /usr/local/lib/python3.10/dist-packages (from pandas>=1.0.0->kb-python) (2.8.2)\n",
            "Requirement already satisfied: pytz>=2020.1 in /usr/local/lib/python3.10/dist-packages (from pandas>=1.0.0->kb-python) (2023.3)\n",
            "Requirement already satisfied: tenacity>=6.2.0 in /usr/local/lib/python3.10/dist-packages (from plotly>=4.5.0->kb-python) (8.2.3)\n",
            "Requirement already satisfied: charset-normalizer<4,>=2 in /usr/local/lib/python3.10/dist-packages (from requests>=2.22.0->kb-python) (3.2.0)\n",
            "Requirement already satisfied: idna<4,>=2.5 in /usr/local/lib/python3.10/dist-packages (from requests>=2.22.0->kb-python) (3.4)\n",
            "Requirement already satisfied: urllib3<3,>=1.21.1 in /usr/local/lib/python3.10/dist-packages (from requests>=2.22.0->kb-python) (2.0.4)\n",
            "Requirement already satisfied: certifi>=2017.4.17 in /usr/local/lib/python3.10/dist-packages (from requests>=2.22.0->kb-python) (2023.7.22)\n",
            "Requirement already satisfied: matplotlib>=3.4 in /usr/local/lib/python3.10/dist-packages (from scanpy>=1.4.4.post1->kb-python) (3.7.1)\n",
            "Requirement already satisfied: seaborn in /usr/local/lib/python3.10/dist-packages (from scanpy>=1.4.4.post1->kb-python) (0.12.2)\n",
            "Requirement already satisfied: statsmodels>=0.10.0rc2 in /usr/local/lib/python3.10/dist-packages (from scanpy>=1.4.4.post1->kb-python) (0.14.0)\n",
            "Requirement already satisfied: patsy in /usr/local/lib/python3.10/dist-packages (from scanpy>=1.4.4.post1->kb-python) (0.5.3)\n",
            "Requirement already satisfied: networkx>=2.3 in /usr/local/lib/python3.10/dist-packages (from scanpy>=1.4.4.post1->kb-python) (3.1)\n",
            "Requirement already satisfied: umap-learn>=0.3.10 in /usr/local/lib/python3.10/dist-packages (from scanpy>=1.4.4.post1->kb-python) (0.5.3)\n",
            "Requirement already satisfied: session-info in /usr/local/lib/python3.10/dist-packages (from scanpy>=1.4.4.post1->kb-python) (1.0.0)\n",
            "Requirement already satisfied: threadpoolctl>=2.0.0 in /usr/local/lib/python3.10/dist-packages (from scikit-learn>=0.21.3->kb-python) (3.2.0)\n",
            "Requirement already satisfied: attrs>=22.2.0 in /usr/local/lib/python3.10/dist-packages (from jsonschema>=2.6->nbformat>=4.4.0->kb-python) (23.1.0)\n",
            "Requirement already satisfied: jsonschema-specifications>=2023.03.6 in /usr/local/lib/python3.10/dist-packages (from jsonschema>=2.6->nbformat>=4.4.0->kb-python) (2023.7.1)\n",
            "Requirement already satisfied: referencing>=0.28.4 in /usr/local/lib/python3.10/dist-packages (from jsonschema>=2.6->nbformat>=4.4.0->kb-python) (0.30.2)\n",
            "Requirement already satisfied: rpds-py>=0.7.1 in /usr/local/lib/python3.10/dist-packages (from jsonschema>=2.6->nbformat>=4.4.0->kb-python) (0.9.2)\n",
            "Requirement already satisfied: platformdirs>=2.5 in /usr/local/lib/python3.10/dist-packages (from jupyter-core>=4.7->nbconvert>=5.6.0->kb-python) (3.10.0)\n",
            "Requirement already satisfied: contourpy>=1.0.1 in /usr/local/lib/python3.10/dist-packages (from matplotlib>=3.4->scanpy>=1.4.4.post1->kb-python) (1.1.0)\n",
            "Requirement already satisfied: cycler>=0.10 in /usr/local/lib/python3.10/dist-packages (from matplotlib>=3.4->scanpy>=1.4.4.post1->kb-python) (0.11.0)\n",
            "Requirement already satisfied: fonttools>=4.22.0 in /usr/local/lib/python3.10/dist-packages (from matplotlib>=3.4->scanpy>=1.4.4.post1->kb-python) (4.42.0)\n",
            "Requirement already satisfied: kiwisolver>=1.0.1 in /usr/local/lib/python3.10/dist-packages (from matplotlib>=3.4->scanpy>=1.4.4.post1->kb-python) (1.4.4)\n",
            "Requirement already satisfied: pillow>=6.2.0 in /usr/local/lib/python3.10/dist-packages (from matplotlib>=3.4->scanpy>=1.4.4.post1->kb-python) (9.4.0)\n",
            "Requirement already satisfied: pyparsing>=2.3.1 in /usr/local/lib/python3.10/dist-packages (from matplotlib>=3.4->scanpy>=1.4.4.post1->kb-python) (3.1.1)\n",
            "Requirement already satisfied: jupyter-client>=6.1.12 in /usr/local/lib/python3.10/dist-packages (from nbclient>=0.5.0->nbconvert>=5.6.0->kb-python) (6.1.12)\n",
            "Requirement already satisfied: llvmlite<0.40,>=0.39.0dev0 in /usr/local/lib/python3.10/dist-packages (from numba->loompy>=3.0.6->kb-python) (0.39.1)\n",
            "Requirement already satisfied: cython in /usr/local/lib/python3.10/dist-packages (from pysam>=0.16.0.1->ngs-tools>=1.7.3->kb-python) (0.29.36)\n",
            "Requirement already satisfied: six>=1.5 in /usr/local/lib/python3.10/dist-packages (from python-dateutil>=2.8.1->pandas>=1.0.0->kb-python) (1.16.0)\n",
            "Requirement already satisfied: pynndescent>=0.5 in /usr/local/lib/python3.10/dist-packages (from umap-learn>=0.3.10->scanpy>=1.4.4.post1->kb-python) (0.5.10)\n",
            "Requirement already satisfied: soupsieve>1.2 in /usr/local/lib/python3.10/dist-packages (from beautifulsoup4->nbconvert>=5.6.0->kb-python) (2.4.1)\n",
            "Requirement already satisfied: webencodings in /usr/local/lib/python3.10/dist-packages (from bleach->nbconvert>=5.6.0->kb-python) (0.5.1)\n",
            "Requirement already satisfied: stdlib-list in /usr/local/lib/python3.10/dist-packages (from session-info->scanpy>=1.4.4.post1->kb-python) (0.9.0)\n",
            "Requirement already satisfied: pyzmq>=13 in /usr/local/lib/python3.10/dist-packages (from jupyter-client>=6.1.12->nbclient>=0.5.0->nbconvert>=5.6.0->kb-python) (23.2.1)\n",
            "Requirement already satisfied: tornado>=4.1 in /usr/local/lib/python3.10/dist-packages (from jupyter-client>=6.1.12->nbclient>=0.5.0->nbconvert>=5.6.0->kb-python) (6.3.2)\n"
          ]
        }
      ]
    },
    {
      "cell_type": "code",
      "source": [],
      "metadata": {
        "id": "Rob8Xt_UDPjj"
      },
      "execution_count": 21,
      "outputs": []
    },
    {
      "cell_type": "code",
      "source": [],
      "metadata": {
        "id": "uUUE7TiFDmDD"
      },
      "execution_count": 21,
      "outputs": []
    },
    {
      "cell_type": "code",
      "source": [
        "!wget https://cf.10xgenomics.com/samples/spatial-exp/1.3.0/Visium_FFPE_Human_Breast_Cancer/Visium_FFPE_Human_Breast_Cancer_fastqs.tar"
      ],
      "metadata": {
        "colab": {
          "base_uri": "https://localhost:8080/"
        },
        "id": "gUUrb5SPDmFb",
        "outputId": "5f843b7e-3d9f-451a-ea16-b8bb1b73dcaf"
      },
      "execution_count": 22,
      "outputs": [
        {
          "output_type": "stream",
          "name": "stdout",
          "text": [
            "--2023-08-18 01:50:47--  https://cf.10xgenomics.com/samples/spatial-exp/1.3.0/Visium_FFPE_Human_Breast_Cancer/Visium_FFPE_Human_Breast_Cancer_fastqs.tar\n",
            "Resolving cf.10xgenomics.com (cf.10xgenomics.com)... 104.18.0.173, 104.18.1.173, 2606:4700::6812:ad, ...\n",
            "Connecting to cf.10xgenomics.com (cf.10xgenomics.com)|104.18.0.173|:443... connected.\n",
            "HTTP request sent, awaiting response... 200 OK\n",
            "Length: 5278996480 (4.9G) [application/x-tar]\n",
            "Saving to: ‘Visium_FFPE_Human_Breast_Cancer_fastqs.tar.1’\n",
            "\n",
            "Visium_FFPE_Human_B 100%[===================>]   4.92G   222MB/s    in 36s     \n",
            "\n",
            "2023-08-18 01:51:23 (139 MB/s) - ‘Visium_FFPE_Human_Breast_Cancer_fastqs.tar.1’ saved [5278996480/5278996480]\n",
            "\n"
          ]
        }
      ]
    },
    {
      "cell_type": "code",
      "source": [],
      "metadata": {
        "id": "bI1pTjCrDmH9"
      },
      "execution_count": 22,
      "outputs": []
    },
    {
      "cell_type": "code",
      "source": [
        "!tar xf Visium_FFPE_Human_Breast_Cancer_fastqs.tar"
      ],
      "metadata": {
        "id": "054XqnV2DmLB"
      },
      "execution_count": 23,
      "outputs": []
    },
    {
      "cell_type": "code",
      "source": [
        "#Download the human index"
      ],
      "metadata": {
        "id": "_UytcrbZDmNd"
      },
      "execution_count": 24,
      "outputs": []
    },
    {
      "cell_type": "code",
      "source": [
        "!kb ref -d human -i index.idx -g t2g.txt -f1 trascriptome.fasta"
      ],
      "metadata": {
        "colab": {
          "base_uri": "https://localhost:8080/"
        },
        "id": "60KveE3SDmQG",
        "outputId": "9ddb4f37-742e-4699-f829-22426df4c63b"
      },
      "execution_count": 25,
      "outputs": [
        {
          "output_type": "stream",
          "name": "stdout",
          "text": [
            "[2023-08-18 01:52:16,433]    INFO [download] Skipping download because some files already exist. Use the --overwrite flag to overwrite.\n"
          ]
        }
      ]
    },
    {
      "cell_type": "code",
      "source": [
        "!kb count --h5ad -i index.idx -g t2g.txt -x 10xv1 -o output --filter bustools -t 2 \\\n",
        "Visium_FFPE_Human_Breast_Cancer_fastqs.tar.1"
      ],
      "metadata": {
        "colab": {
          "base_uri": "https://localhost:8080/"
        },
        "id": "PberFty8DmTn",
        "outputId": "c3a3b624-3785-4ab4-cf68-b0047dbb10a0"
      },
      "execution_count": 29,
      "outputs": [
        {
          "output_type": "stream",
          "name": "stdout",
          "text": [
            "[2023-08-18 01:56:27,033]    INFO [count] Using index index.idx to generate BUS file to output from\n",
            "[2023-08-18 01:56:27,034]    INFO [count]         Visium_FFPE_Human_Breast_Cancer_fastqs.tar.1\n",
            "[2023-08-18 01:56:28,042]   ERROR [count] kallisto 0.48.0\n",
            "Generates BUS files for single-cell sequencing\n",
            "\n",
            "Usage: kallisto bus [arguments] FASTQ-files\n",
            "\n",
            "Required arguments:\n",
            "-i, --index=STRING            Filename for the kallisto index to be used for\n",
            "pseudoalignment\n",
            "-o, --output-dir=STRING       Directory to write output to\n",
            "\n",
            "Optional arguments:\n",
            "-x, --technology=STRING       Single-cell technology used\n",
            "-l, --list                    List all single-cell technologies supported\n",
            "-B, --batch=FILE              Process files listed in FILE\n",
            "-t, --threads=INT             Number of threads to use (default: 1)\n",
            "-b, --bam                     Input file is a BAM file\n",
            "-n, --num                     Output number of read in flag column (incompatible with --bam)\n",
            "-T, --tag=STRING              5′ tag sequence to identify UMI reads for certain technologies\n",
            "--fr-stranded             Strand specific reads for UMI-tagged reads, first read forward\n",
            "--rf-stranded             Strand specific reads for UMI-tagged reads, first read reverse\n",
            "--unstranded              Treat all read as non-strand-specific\n",
            "--paired                  Treat reads as paired\n",
            "--genomebam               Project pseudoalignments to genome sorted BAM file\n",
            "-g, --gtf                     GTF file for transcriptome information\n",
            "(required for --genomebam)\n",
            "-c, --chromosomes             Tab separated file with chromosome names and lengths\n",
            "(optional for --genomebam, but recommended)\n",
            "--verbose                 Print out progress information every 1M proccessed reads\n",
            "\n",
            "[bus] Note: Strand option was not specified; setting it to --fr-stranded for specified technology\n",
            "Error: Number of files (1) does not match number of input files required by technology 10XV1 (3)\n",
            "[2023-08-18 01:56:28,043]   ERROR [main] An exception occurred\n",
            "Traceback (most recent call last):\n",
            "  File \"/usr/local/lib/python3.10/dist-packages/kb_python/main.py\", line 1305, in main\n",
            "    COMMAND_TO_FUNCTION[args.command](parser, args, temp_dir=temp_dir)\n",
            "  File \"/usr/local/lib/python3.10/dist-packages/kb_python/main.py\", line 550, in parse_count\n",
            "    count(\n",
            "  File \"/usr/local/lib/python3.10/dist-packages/ngs_tools/logging.py\", line 62, in inner\n",
            "    return func(*args, **kwargs)\n",
            "  File \"/usr/local/lib/python3.10/dist-packages/kb_python/count.py\", line 1038, in count\n",
            "    bus_result = kallisto_bus(\n",
            "  File \"/usr/local/lib/python3.10/dist-packages/kb_python/validate.py\", line 116, in inner\n",
            "    results = func(*args, **kwargs)\n",
            "  File \"/usr/local/lib/python3.10/dist-packages/kb_python/count.py\", line 150, in kallisto_bus\n",
            "    run_executable(command)\n",
            "  File \"/usr/local/lib/python3.10/dist-packages/kb_python/dry/__init__.py\", line 25, in inner\n",
            "    return func(*args, **kwargs)\n",
            "  File \"/usr/local/lib/python3.10/dist-packages/kb_python/utils.py\", line 203, in run_executable\n",
            "    raise sp.CalledProcessError(p.returncode, ' '.join(command))\n",
            "subprocess.CalledProcessError: Command '/usr/local/lib/python3.10/dist-packages/kb_python/bins/linux/kallisto/kallisto bus -i index.idx -o output -x 10xv1 -t 2 Visium_FFPE_Human_Breast_Cancer_fastqs.tar.1' returned non-zero exit status 1.\n"
          ]
        }
      ]
    },
    {
      "cell_type": "code",
      "source": [],
      "metadata": {
        "id": "Jrc8GBLwSOpD"
      },
      "execution_count": 26,
      "outputs": []
    }
  ]
}