{
  "cells": [
    {
      "cell_type": "markdown",
      "metadata": {
        "id": "view-in-github",
        "colab_type": "text"
      },
      "source": [
        "<a href=\"https://colab.research.google.com/github/dionysiadimi/matzaris/blob/main/NLP_practice_wordvec2.ipynb\" target=\"_parent\"><img src=\"https://colab.research.google.com/assets/colab-badge.svg\" alt=\"Open In Colab\"/></a>"
      ]
    },
    {
      "cell_type": "code",
      "execution_count": 1,
      "metadata": {
        "id": "Lt6N41guVA0u"
      },
      "outputs": [],
      "source": [
        "import gensim\n",
        "import gzip"
      ]
    },
    {
      "cell_type": "code",
      "execution_count": 2,
      "metadata": {
        "id": "S-E9qu4fWxMc"
      },
      "outputs": [],
      "source": [
        "#Load the data\n",
        "data_file='reviews_data.txt.gz'"
      ]
    },
    {
      "cell_type": "code",
      "execution_count": 3,
      "metadata": {
        "colab": {
          "base_uri": "https://localhost:8080/"
        },
        "id": "jheh_ouMW2dS",
        "outputId": "44e153f6-9022-445d-f4e7-af8a4bfe1c3d"
      },
      "outputs": [
        {
          "output_type": "stream",
          "name": "stdout",
          "text": [
            "b\"Oct 12 2009 \\tNice trendy hotel location not too bad.\\tI stayed in this hotel for one night. As this is a fairly new place some of the taxi drivers did not know where it was and/or did not want to drive there. Once I have eventually arrived at the hotel, I was very pleasantly surprised with the decor of the lobby/ground floor area. It was very stylish and modern. I found the reception's staff geeting me with 'Aloha' a bit out of place, but I guess they are briefed to say that to keep up the coroporate image.As I have a Starwood Preferred Guest member, I was given a small gift upon-check in. It was only a couple of fridge magnets in a gift box, but nevertheless a nice gesture.My room was nice and roomy, there are tea and coffee facilities in each room and you get two complimentary bottles of water plus some toiletries by 'bliss'.The location is not great. It is at the last metro stop and you then need to take a taxi, but if you are not planning on going to see the historic sites in Beijing, then you will be ok.I chose to have some breakfast in the hotel, which was really tasty and there was a good selection of dishes. There are a couple of computers to use in the communal area, as well as a pool table. There is also a small swimming pool and a gym area.I would definitely stay in this hotel again, but only if I did not plan to travel to central Beijing, as it can take a long time. The location is ok if you plan to do a lot of shopping, as there is a big shopping centre just few minutes away from the hotel and there are plenty of eating options around, including restaurants that serve a dog meat!\\t\\r\\n\"\n"
          ]
        }
      ],
      "source": [
        "with gzip.open (data_file, 'rb') as f:\n",
        "    for i,line in enumerate (f):\n",
        "        print(line)\n",
        "        break"
      ]
    },
    {
      "cell_type": "code",
      "execution_count": 4,
      "metadata": {
        "colab": {
          "base_uri": "https://localhost:8080/"
        },
        "id": "n2ZuJ931W80z",
        "outputId": "347e5aa6-4eea-4ecf-bcba-8e2390559a6b"
      },
      "outputs": [
        {
          "output_type": "stream",
          "name": "stdout",
          "text": [
            "['oct', 'nice', 'trendy', 'hotel', 'location', 'not', 'too', 'bad', 'stayed', 'in', 'this', 'hotel', 'for', 'one', 'night', 'as', 'this', 'is', 'fairly', 'new', 'place', 'some', 'of', 'the', 'taxi', 'drivers', 'did', 'not', 'know', 'where', 'it', 'was', 'and', 'or', 'did', 'not', 'want', 'to', 'drive', 'there', 'once', 'have', 'eventually', 'arrived', 'at', 'the', 'hotel', 'was', 'very', 'pleasantly', 'surprised', 'with', 'the', 'decor', 'of', 'the', 'lobby', 'ground', 'floor', 'area', 'it', 'was', 'very', 'stylish', 'and', 'modern', 'found', 'the', 'reception', 'staff', 'geeting', 'me', 'with', 'aloha', 'bit', 'out', 'of', 'place', 'but', 'guess', 'they', 'are', 'briefed', 'to', 'say', 'that', 'to', 'keep', 'up', 'the', 'coroporate', 'image', 'as', 'have', 'starwood', 'preferred', 'guest', 'member', 'was', 'given', 'small', 'gift', 'upon', 'check', 'in', 'it', 'was', 'only', 'couple', 'of', 'fridge', 'magnets', 'in', 'gift', 'box', 'but', 'nevertheless', 'nice', 'gesture', 'my', 'room', 'was', 'nice', 'and', 'roomy', 'there', 'are', 'tea', 'and', 'coffee', 'facilities', 'in', 'each', 'room', 'and', 'you', 'get', 'two', 'complimentary', 'bottles', 'of', 'water', 'plus', 'some', 'toiletries', 'by', 'bliss', 'the', 'location', 'is', 'not', 'great', 'it', 'is', 'at', 'the', 'last', 'metro', 'stop', 'and', 'you', 'then', 'need', 'to', 'take', 'taxi', 'but', 'if', 'you', 'are', 'not', 'planning', 'on', 'going', 'to', 'see', 'the', 'historic', 'sites', 'in', 'beijing', 'then', 'you', 'will', 'be', 'ok', 'chose', 'to', 'have', 'some', 'breakfast', 'in', 'the', 'hotel', 'which', 'was', 'really', 'tasty', 'and', 'there', 'was', 'good', 'selection', 'of', 'dishes', 'there', 'are', 'couple', 'of', 'computers', 'to', 'use', 'in', 'the', 'communal', 'area', 'as', 'well', 'as', 'pool', 'table', 'there', 'is', 'also', 'small', 'swimming', 'pool', 'and', 'gym', 'area', 'would', 'definitely', 'stay', 'in', 'this', 'hotel', 'again', 'but', 'only', 'if', 'did', 'not', 'plan', 'to', 'travel', 'to', 'central', 'beijing', 'as', 'it', 'can', 'take', 'long', 'time', 'the', 'location', 'is', 'ok', 'if', 'you', 'plan', 'to', 'do', 'lot', 'of', 'shopping', 'as', 'there', 'is', 'big', 'shopping', 'centre', 'just', 'few', 'minutes', 'away', 'from', 'the', 'hotel', 'and', 'there', 'are', 'plenty', 'of', 'eating', 'options', 'around', 'including', 'restaurants', 'that', 'serve', 'dog', 'meat']\n"
          ]
        }
      ],
      "source": [
        "def read_input(input_file):\n",
        "\n",
        "    with gzip.open (data_file,'rb') as f:\n",
        "\n",
        "        for i,line in enumerate(f):\n",
        "\n",
        "#do some preprocessing and return list of words for each review\n",
        "\n",
        "            yield gensim.utils.simple_preprocess(line)\n",
        "\n",
        "\n",
        "\n",
        "documents = list (read_input (data_file))\n",
        "print(documents[0])"
      ]
    },
    {
      "cell_type": "code",
      "execution_count": 5,
      "metadata": {
        "colab": {
          "base_uri": "https://localhost:8080/"
        },
        "id": "8AgHjdVmZHPG",
        "outputId": "5514873c-39cf-48fd-e97a-8bc4b9899577"
      },
      "outputs": [
        {
          "output_type": "stream",
          "name": "stderr",
          "text": [
            "WARNING:gensim.models.word2vec:Effective 'alpha' higher than previous training cycles\n"
          ]
        },
        {
          "output_type": "stream",
          "name": "stdout",
          "text": [
            "done\n"
          ]
        }
      ],
      "source": [
        "model = gensim.models.Word2Vec (documents, vector_size=150, window=10, min_count=2, workers=10)\n",
        "model.train(documents,total_examples=len(documents),epochs=10)\n",
        "print(\"done\")"
      ]
    },
    {
      "cell_type": "code",
      "execution_count": 6,
      "metadata": {
        "id": "beKRnba7ZHYQ",
        "colab": {
          "base_uri": "https://localhost:8080/"
        },
        "outputId": "6ea19ee0-1c05-4dca-d689-25aae1a1e951"
      },
      "outputs": [
        {
          "output_type": "execute_result",
          "data": {
            "text/plain": [
              "[('pleased', 0.8125395178794861),\n",
              " ('satisfied', 0.736203134059906),\n",
              " ('delighted', 0.6786088943481445),\n",
              " ('thrilled', 0.6595179438591003),\n",
              " ('impressed', 0.6409305334091187),\n",
              " ('disappointed', 0.5736947655677795),\n",
              " ('grateful', 0.5705417990684509),\n",
              " ('dissapointed', 0.5513719320297241),\n",
              " ('unhappy', 0.5383116006851196),\n",
              " ('willing', 0.5296647548675537)]"
            ]
          },
          "metadata": {},
          "execution_count": 6
        }
      ],
      "source": [
        "w1 = \"happy\"\n",
        "model.wv.most_similar (positive=w1)"
      ]
    },
    {
      "cell_type": "code",
      "execution_count": 7,
      "metadata": {
        "id": "dmqDxvrLZHbJ",
        "colab": {
          "base_uri": "https://localhost:8080/"
        },
        "outputId": "11f1270a-f0fa-48e0-af24-f90e56c0db43"
      },
      "outputs": [
        {
          "output_type": "execute_result",
          "data": {
            "text/plain": [
              "[('sceptical', 0.66683429479599),\n",
              " ('skeptical', 0.6527382731437683),\n",
              " ('nervous', 0.6379716396331787),\n",
              " ('dubious', 0.6376100182533264),\n",
              " ('apprehensive', 0.6175447702407837),\n",
              " ('aprehensive', 0.5868393182754517),\n",
              " ('hesitant', 0.5820196866989136),\n",
              " ('leery', 0.5733124613761902),\n",
              " ('concerned', 0.5643314123153687),\n",
              " ('leary', 0.5635297894477844)]"
            ]
          },
          "metadata": {},
          "execution_count": 7
        }
      ],
      "source": [
        "w2=\"optimistic\"\n",
        "model.wv.most_similar(positive=w2)"
      ]
    },
    {
      "cell_type": "code",
      "execution_count": 8,
      "metadata": {
        "id": "ahg4EFaJZHeT",
        "colab": {
          "base_uri": "https://localhost:8080/"
        },
        "outputId": "57d12bde-3f0f-4b0d-a82b-00a61895101a"
      },
      "outputs": [
        {
          "output_type": "execute_result",
          "data": {
            "text/plain": [
              "[('filthy', 0.867985188961029),\n",
              " ('stained', 0.7833871245384216),\n",
              " ('unclean', 0.7809044718742371),\n",
              " ('dusty', 0.7637720704078674),\n",
              " ('grubby', 0.7514355778694153),\n",
              " ('smelly', 0.7408572435379028),\n",
              " ('disgusting', 0.7281147241592407),\n",
              " ('mouldy', 0.7264565229415894),\n",
              " ('gross', 0.7221524715423584),\n",
              " ('dingy', 0.7174485921859741)]"
            ]
          },
          "metadata": {},
          "execution_count": 8
        }
      ],
      "source": [
        "w3=\"dirty\"\n",
        "model.wv.most_similar(positive=w3)"
      ]
    },
    {
      "cell_type": "code",
      "execution_count": 10,
      "metadata": {
        "id": "z8nNXLs-ZHgt",
        "colab": {
          "base_uri": "https://localhost:8080/"
        },
        "outputId": "5bb8f61d-f766-4888-b165-d3250f68f744"
      },
      "outputs": [
        {
          "output_type": "stream",
          "name": "stdout",
          "text": [
            "[('filthy', 0.867985188961029), ('stained', 0.7833871245384216), ('unclean', 0.7809044718742371), ('dusty', 0.7637720704078674), ('grubby', 0.7514355778694153), ('smelly', 0.7408572435379028), ('disgusting', 0.7281147241592407), ('mouldy', 0.7264565229415894), ('gross', 0.7221524715423584), ('dingy', 0.7174485921859741)]\n"
          ]
        }
      ],
      "source": [
        "print(model.wv.most_similar(positive=w3))"
      ]
    },
    {
      "cell_type": "code",
      "source": [],
      "metadata": {
        "id": "H30JojErzt5a"
      },
      "execution_count": null,
      "outputs": []
    }
  ],
  "metadata": {
    "colab": {
      "provenance": [],
      "authorship_tag": "ABX9TyPEo3TVKQx3ujZnIrV91vNT",
      "include_colab_link": true
    },
    "kernelspec": {
      "display_name": "Python 3",
      "name": "python3"
    },
    "language_info": {
      "name": "python"
    }
  },
  "nbformat": 4,
  "nbformat_minor": 0
}