{
 "cells": [
  {
   "cell_type": "code",
   "execution_count": 46,
   "metadata": {
    "colab": {
     "base_uri": "https://localhost:8080/"
    },
    "id": "eeEL7Pi6BdWO",
    "outputId": "ffed8cae-65d3-4b4b-9696-c7073f0b704c"
   },
   "outputs": [
    {
     "name": "stderr",
     "output_type": "stream",
     "text": [
      "[nltk_data] Downloading collection 'all'\n",
      "[nltk_data]    | \n",
      "[nltk_data]    | Downloading package abc to /home/c65cc937-896c-4265-\n",
      "[nltk_data]    |     a70d-9491200ae896/nltk_data...\n",
      "[nltk_data]    |   Package abc is already up-to-date!\n",
      "[nltk_data]    | Downloading package alpino to /home/c65cc937-896c-\n",
      "[nltk_data]    |     4265-a70d-9491200ae896/nltk_data...\n",
      "[nltk_data]    |   Package alpino is already up-to-date!\n",
      "[nltk_data]    | Downloading package averaged_perceptron_tagger to /ho\n",
      "[nltk_data]    |     me/c65cc937-896c-4265-a70d-\n",
      "[nltk_data]    |     9491200ae896/nltk_data...\n",
      "[nltk_data]    |   Package averaged_perceptron_tagger is already up-\n",
      "[nltk_data]    |       to-date!\n",
      "[nltk_data]    | Downloading package averaged_perceptron_tagger_ru to \n",
      "[nltk_data]    |     /home/c65cc937-896c-4265-a70d-\n",
      "[nltk_data]    |     9491200ae896/nltk_data...\n",
      "[nltk_data]    |   Package averaged_perceptron_tagger_ru is already\n",
      "[nltk_data]    |       up-to-date!\n",
      "[nltk_data]    | Downloading package basque_grammars to /home/c65cc937\n",
      "[nltk_data]    |     -896c-4265-a70d-9491200ae896/nltk_data...\n",
      "[nltk_data]    |   Package basque_grammars is already up-to-date!\n",
      "[nltk_data]    | Downloading package bcp47 to /home/c65cc937-896c-\n",
      "[nltk_data]    |     4265-a70d-9491200ae896/nltk_data...\n",
      "[nltk_data]    |   Package bcp47 is already up-to-date!\n",
      "[nltk_data]    | Downloading package biocreative_ppi to /home/c65cc937\n",
      "[nltk_data]    |     -896c-4265-a70d-9491200ae896/nltk_data...\n",
      "[nltk_data]    |   Package biocreative_ppi is already up-to-date!\n",
      "[nltk_data]    | Downloading package bllip_wsj_no_aux to /home/c65cc93\n",
      "[nltk_data]    |     7-896c-4265-a70d-9491200ae896/nltk_data...\n",
      "[nltk_data]    |   Package bllip_wsj_no_aux is already up-to-date!\n",
      "[nltk_data]    | Downloading package book_grammars to /home/c65cc937-\n",
      "[nltk_data]    |     896c-4265-a70d-9491200ae896/nltk_data...\n",
      "[nltk_data]    |   Package book_grammars is already up-to-date!\n",
      "[nltk_data]    | Downloading package brown to /home/c65cc937-896c-\n",
      "[nltk_data]    |     4265-a70d-9491200ae896/nltk_data...\n",
      "[nltk_data]    |   Package brown is already up-to-date!\n",
      "[nltk_data]    | Downloading package brown_tei to /home/c65cc937-896c-\n",
      "[nltk_data]    |     4265-a70d-9491200ae896/nltk_data...\n",
      "[nltk_data]    |   Package brown_tei is already up-to-date!\n",
      "[nltk_data]    | Downloading package cess_cat to /home/c65cc937-896c-\n",
      "[nltk_data]    |     4265-a70d-9491200ae896/nltk_data...\n",
      "[nltk_data]    |   Package cess_cat is already up-to-date!\n",
      "[nltk_data]    | Downloading package cess_esp to /home/c65cc937-896c-\n",
      "[nltk_data]    |     4265-a70d-9491200ae896/nltk_data...\n",
      "[nltk_data]    |   Package cess_esp is already up-to-date!\n",
      "[nltk_data]    | Downloading package chat80 to /home/c65cc937-896c-\n",
      "[nltk_data]    |     4265-a70d-9491200ae896/nltk_data...\n",
      "[nltk_data]    |   Package chat80 is already up-to-date!\n",
      "[nltk_data]    | Downloading package city_database to /home/c65cc937-\n",
      "[nltk_data]    |     896c-4265-a70d-9491200ae896/nltk_data...\n",
      "[nltk_data]    |   Package city_database is already up-to-date!\n",
      "[nltk_data]    | Downloading package cmudict to /home/c65cc937-896c-\n",
      "[nltk_data]    |     4265-a70d-9491200ae896/nltk_data...\n",
      "[nltk_data]    |   Package cmudict is already up-to-date!\n",
      "[nltk_data]    | Downloading package comparative_sentences to /home/c6\n",
      "[nltk_data]    |     5cc937-896c-4265-a70d-9491200ae896/nltk_data...\n",
      "[nltk_data]    |   Package comparative_sentences is already up-to-\n",
      "[nltk_data]    |       date!\n",
      "[nltk_data]    | Downloading package comtrans to /home/c65cc937-896c-\n",
      "[nltk_data]    |     4265-a70d-9491200ae896/nltk_data...\n",
      "[nltk_data]    |   Package comtrans is already up-to-date!\n",
      "[nltk_data]    | Downloading package conll2000 to /home/c65cc937-896c-\n",
      "[nltk_data]    |     4265-a70d-9491200ae896/nltk_data...\n",
      "[nltk_data]    |   Package conll2000 is already up-to-date!\n",
      "[nltk_data]    | Downloading package conll2002 to /home/c65cc937-896c-\n",
      "[nltk_data]    |     4265-a70d-9491200ae896/nltk_data...\n",
      "[nltk_data]    |   Package conll2002 is already up-to-date!\n",
      "[nltk_data]    | Downloading package conll2007 to /home/c65cc937-896c-\n",
      "[nltk_data]    |     4265-a70d-9491200ae896/nltk_data...\n",
      "[nltk_data]    |   Package conll2007 is already up-to-date!\n",
      "[nltk_data]    | Downloading package crubadan to /home/c65cc937-896c-\n",
      "[nltk_data]    |     4265-a70d-9491200ae896/nltk_data...\n",
      "[nltk_data]    |   Package crubadan is already up-to-date!\n",
      "[nltk_data]    | Downloading package dependency_treebank to /home/c65c\n",
      "[nltk_data]    |     c937-896c-4265-a70d-9491200ae896/nltk_data...\n",
      "[nltk_data]    |   Package dependency_treebank is already up-to-date!\n",
      "[nltk_data]    | Downloading package dolch to /home/c65cc937-896c-\n",
      "[nltk_data]    |     4265-a70d-9491200ae896/nltk_data...\n",
      "[nltk_data]    |   Package dolch is already up-to-date!\n",
      "[nltk_data]    | Downloading package europarl_raw to /home/c65cc937-\n",
      "[nltk_data]    |     896c-4265-a70d-9491200ae896/nltk_data...\n",
      "[nltk_data]    |   Package europarl_raw is already up-to-date!\n",
      "[nltk_data]    | Downloading package extended_omw to /home/c65cc937-\n",
      "[nltk_data]    |     896c-4265-a70d-9491200ae896/nltk_data...\n",
      "[nltk_data]    |   Package extended_omw is already up-to-date!\n",
      "[nltk_data]    | Downloading package floresta to /home/c65cc937-896c-\n",
      "[nltk_data]    |     4265-a70d-9491200ae896/nltk_data...\n",
      "[nltk_data]    |   Package floresta is already up-to-date!\n",
      "[nltk_data]    | Downloading package framenet_v15 to /home/c65cc937-\n",
      "[nltk_data]    |     896c-4265-a70d-9491200ae896/nltk_data...\n",
      "[nltk_data]    |   Package framenet_v15 is already up-to-date!\n",
      "[nltk_data]    | Downloading package framenet_v17 to /home/c65cc937-\n",
      "[nltk_data]    |     896c-4265-a70d-9491200ae896/nltk_data...\n",
      "[nltk_data]    |   Package framenet_v17 is already up-to-date!\n",
      "[nltk_data]    | Downloading package gazetteers to /home/c65cc937-\n",
      "[nltk_data]    |     896c-4265-a70d-9491200ae896/nltk_data...\n",
      "[nltk_data]    |   Package gazetteers is already up-to-date!\n",
      "[nltk_data]    | Downloading package genesis to /home/c65cc937-896c-\n",
      "[nltk_data]    |     4265-a70d-9491200ae896/nltk_data...\n",
      "[nltk_data]    |   Package genesis is already up-to-date!\n",
      "[nltk_data]    | Downloading package gutenberg to /home/c65cc937-896c-\n",
      "[nltk_data]    |     4265-a70d-9491200ae896/nltk_data...\n",
      "[nltk_data]    |   Package gutenberg is already up-to-date!\n",
      "[nltk_data]    | Downloading package ieer to /home/c65cc937-896c-4265-\n",
      "[nltk_data]    |     a70d-9491200ae896/nltk_data...\n",
      "[nltk_data]    |   Package ieer is already up-to-date!\n",
      "[nltk_data]    | Downloading package inaugural to /home/c65cc937-896c-\n",
      "[nltk_data]    |     4265-a70d-9491200ae896/nltk_data...\n",
      "[nltk_data]    |   Package inaugural is already up-to-date!\n",
      "[nltk_data]    | Downloading package indian to /home/c65cc937-896c-\n",
      "[nltk_data]    |     4265-a70d-9491200ae896/nltk_data...\n",
      "[nltk_data]    |   Package indian is already up-to-date!\n",
      "[nltk_data]    | Downloading package jeita to /home/c65cc937-896c-\n",
      "[nltk_data]    |     4265-a70d-9491200ae896/nltk_data...\n",
      "[nltk_data]    |   Package jeita is already up-to-date!\n",
      "[nltk_data]    | Downloading package kimmo to /home/c65cc937-896c-\n",
      "[nltk_data]    |     4265-a70d-9491200ae896/nltk_data...\n",
      "[nltk_data]    |   Package kimmo is already up-to-date!\n",
      "[nltk_data]    | Downloading package knbc to /home/c65cc937-896c-4265-\n",
      "[nltk_data]    |     a70d-9491200ae896/nltk_data...\n",
      "[nltk_data]    |   Package knbc is already up-to-date!\n",
      "[nltk_data]    | Downloading package large_grammars to /home/c65cc937-\n",
      "[nltk_data]    |     896c-4265-a70d-9491200ae896/nltk_data...\n",
      "[nltk_data]    |   Package large_grammars is already up-to-date!\n",
      "[nltk_data]    | Downloading package lin_thesaurus to /home/c65cc937-\n",
      "[nltk_data]    |     896c-4265-a70d-9491200ae896/nltk_data...\n",
      "[nltk_data]    |   Package lin_thesaurus is already up-to-date!\n",
      "[nltk_data]    | Downloading package mac_morpho to /home/c65cc937-\n",
      "[nltk_data]    |     896c-4265-a70d-9491200ae896/nltk_data...\n",
      "[nltk_data]    |   Package mac_morpho is already up-to-date!\n",
      "[nltk_data]    | Downloading package machado to /home/c65cc937-896c-\n",
      "[nltk_data]    |     4265-a70d-9491200ae896/nltk_data...\n",
      "[nltk_data]    |   Package machado is already up-to-date!\n",
      "[nltk_data]    | Downloading package masc_tagged to /home/c65cc937-\n",
      "[nltk_data]    |     896c-4265-a70d-9491200ae896/nltk_data...\n",
      "[nltk_data]    |   Package masc_tagged is already up-to-date!\n",
      "[nltk_data]    | Downloading package maxent_ne_chunker to /home/c65cc9\n",
      "[nltk_data]    |     37-896c-4265-a70d-9491200ae896/nltk_data...\n",
      "[nltk_data]    |   Package maxent_ne_chunker is already up-to-date!\n",
      "[nltk_data]    | Downloading package maxent_treebank_pos_tagger to /ho\n",
      "[nltk_data]    |     me/c65cc937-896c-4265-a70d-\n",
      "[nltk_data]    |     9491200ae896/nltk_data...\n",
      "[nltk_data]    |   Package maxent_treebank_pos_tagger is already up-\n",
      "[nltk_data]    |       to-date!\n",
      "[nltk_data]    | Downloading package moses_sample to /home/c65cc937-\n",
      "[nltk_data]    |     896c-4265-a70d-9491200ae896/nltk_data...\n",
      "[nltk_data]    |   Package moses_sample is already up-to-date!\n",
      "[nltk_data]    | Downloading package movie_reviews to /home/c65cc937-\n",
      "[nltk_data]    |     896c-4265-a70d-9491200ae896/nltk_data...\n",
      "[nltk_data]    |   Package movie_reviews is already up-to-date!\n",
      "[nltk_data]    | Downloading package mte_teip5 to /home/c65cc937-896c-\n",
      "[nltk_data]    |     4265-a70d-9491200ae896/nltk_data...\n",
      "[nltk_data]    |   Package mte_teip5 is already up-to-date!\n",
      "[nltk_data]    | Downloading package mwa_ppdb to /home/c65cc937-896c-\n",
      "[nltk_data]    |     4265-a70d-9491200ae896/nltk_data...\n",
      "[nltk_data]    |   Package mwa_ppdb is already up-to-date!\n",
      "[nltk_data]    | Downloading package names to /home/c65cc937-896c-\n",
      "[nltk_data]    |     4265-a70d-9491200ae896/nltk_data...\n",
      "[nltk_data]    |   Package names is already up-to-date!\n",
      "[nltk_data]    | Downloading package nombank.1.0 to /home/c65cc937-\n",
      "[nltk_data]    |     896c-4265-a70d-9491200ae896/nltk_data...\n",
      "[nltk_data]    |   Package nombank.1.0 is already up-to-date!\n",
      "[nltk_data]    | Downloading package nonbreaking_prefixes to /home/c65\n",
      "[nltk_data]    |     cc937-896c-4265-a70d-9491200ae896/nltk_data...\n",
      "[nltk_data]    |   Package nonbreaking_prefixes is already up-to-date!\n",
      "[nltk_data]    | Downloading package nps_chat to /home/c65cc937-896c-\n",
      "[nltk_data]    |     4265-a70d-9491200ae896/nltk_data...\n",
      "[nltk_data]    |   Package nps_chat is already up-to-date!\n",
      "[nltk_data]    | Downloading package omw to /home/c65cc937-896c-4265-\n",
      "[nltk_data]    |     a70d-9491200ae896/nltk_data...\n",
      "[nltk_data]    |   Package omw is already up-to-date!\n",
      "[nltk_data]    | Downloading package omw-1.4 to /home/c65cc937-896c-\n",
      "[nltk_data]    |     4265-a70d-9491200ae896/nltk_data...\n",
      "[nltk_data]    |   Package omw-1.4 is already up-to-date!\n",
      "[nltk_data]    | Downloading package opinion_lexicon to /home/c65cc937\n",
      "[nltk_data]    |     -896c-4265-a70d-9491200ae896/nltk_data...\n",
      "[nltk_data]    |   Package opinion_lexicon is already up-to-date!\n",
      "[nltk_data]    | Downloading package panlex_swadesh to /home/c65cc937-\n",
      "[nltk_data]    |     896c-4265-a70d-9491200ae896/nltk_data...\n",
      "[nltk_data]    |   Package panlex_swadesh is already up-to-date!\n",
      "[nltk_data]    | Downloading package paradigms to /home/c65cc937-896c-\n",
      "[nltk_data]    |     4265-a70d-9491200ae896/nltk_data...\n",
      "[nltk_data]    |   Package paradigms is already up-to-date!\n",
      "[nltk_data]    | Downloading package pe08 to /home/c65cc937-896c-4265-\n",
      "[nltk_data]    |     a70d-9491200ae896/nltk_data...\n",
      "[nltk_data]    |   Package pe08 is already up-to-date!\n",
      "[nltk_data]    | Downloading package perluniprops to /home/c65cc937-\n",
      "[nltk_data]    |     896c-4265-a70d-9491200ae896/nltk_data...\n",
      "[nltk_data]    |   Package perluniprops is already up-to-date!\n",
      "[nltk_data]    | Downloading package pil to /home/c65cc937-896c-4265-\n",
      "[nltk_data]    |     a70d-9491200ae896/nltk_data...\n",
      "[nltk_data]    |   Package pil is already up-to-date!\n",
      "[nltk_data]    | Downloading package pl196x to /home/c65cc937-896c-\n",
      "[nltk_data]    |     4265-a70d-9491200ae896/nltk_data...\n",
      "[nltk_data]    |   Package pl196x is already up-to-date!\n",
      "[nltk_data]    | Downloading package porter_test to /home/c65cc937-\n",
      "[nltk_data]    |     896c-4265-a70d-9491200ae896/nltk_data...\n",
      "[nltk_data]    |   Package porter_test is already up-to-date!\n",
      "[nltk_data]    | Downloading package ppattach to /home/c65cc937-896c-\n",
      "[nltk_data]    |     4265-a70d-9491200ae896/nltk_data...\n",
      "[nltk_data]    |   Package ppattach is already up-to-date!\n",
      "[nltk_data]    | Downloading package problem_reports to /home/c65cc937\n",
      "[nltk_data]    |     -896c-4265-a70d-9491200ae896/nltk_data...\n",
      "[nltk_data]    |   Package problem_reports is already up-to-date!\n",
      "[nltk_data]    | Downloading package product_reviews_1 to /home/c65cc9\n",
      "[nltk_data]    |     37-896c-4265-a70d-9491200ae896/nltk_data...\n",
      "[nltk_data]    |   Package product_reviews_1 is already up-to-date!\n",
      "[nltk_data]    | Downloading package product_reviews_2 to /home/c65cc9\n",
      "[nltk_data]    |     37-896c-4265-a70d-9491200ae896/nltk_data...\n",
      "[nltk_data]    |   Package product_reviews_2 is already up-to-date!\n",
      "[nltk_data]    | Downloading package propbank to /home/c65cc937-896c-\n",
      "[nltk_data]    |     4265-a70d-9491200ae896/nltk_data...\n",
      "[nltk_data]    |   Package propbank is already up-to-date!\n",
      "[nltk_data]    | Downloading package pros_cons to /home/c65cc937-896c-\n",
      "[nltk_data]    |     4265-a70d-9491200ae896/nltk_data...\n",
      "[nltk_data]    |   Package pros_cons is already up-to-date!\n",
      "[nltk_data]    | Downloading package ptb to /home/c65cc937-896c-4265-\n",
      "[nltk_data]    |     a70d-9491200ae896/nltk_data...\n",
      "[nltk_data]    |   Package ptb is already up-to-date!\n",
      "[nltk_data]    | Downloading package punkt to /home/c65cc937-896c-\n",
      "[nltk_data]    |     4265-a70d-9491200ae896/nltk_data...\n",
      "[nltk_data]    |   Package punkt is already up-to-date!\n",
      "[nltk_data]    | Downloading package qc to /home/c65cc937-896c-4265-\n",
      "[nltk_data]    |     a70d-9491200ae896/nltk_data...\n",
      "[nltk_data]    |   Package qc is already up-to-date!\n",
      "[nltk_data]    | Downloading package reuters to /home/c65cc937-896c-\n",
      "[nltk_data]    |     4265-a70d-9491200ae896/nltk_data...\n",
      "[nltk_data]    |   Package reuters is already up-to-date!\n",
      "[nltk_data]    | Downloading package rslp to /home/c65cc937-896c-4265-\n",
      "[nltk_data]    |     a70d-9491200ae896/nltk_data...\n",
      "[nltk_data]    |   Package rslp is already up-to-date!\n",
      "[nltk_data]    | Downloading package rte to /home/c65cc937-896c-4265-\n",
      "[nltk_data]    |     a70d-9491200ae896/nltk_data...\n",
      "[nltk_data]    |   Package rte is already up-to-date!\n",
      "[nltk_data]    | Downloading package sample_grammars to /home/c65cc937\n",
      "[nltk_data]    |     -896c-4265-a70d-9491200ae896/nltk_data...\n",
      "[nltk_data]    |   Package sample_grammars is already up-to-date!\n",
      "[nltk_data]    | Downloading package semcor to /home/c65cc937-896c-\n",
      "[nltk_data]    |     4265-a70d-9491200ae896/nltk_data...\n",
      "[nltk_data]    |   Package semcor is already up-to-date!\n",
      "[nltk_data]    | Downloading package senseval to /home/c65cc937-896c-\n",
      "[nltk_data]    |     4265-a70d-9491200ae896/nltk_data...\n",
      "[nltk_data]    |   Package senseval is already up-to-date!\n",
      "[nltk_data]    | Downloading package sentence_polarity to /home/c65cc9\n",
      "[nltk_data]    |     37-896c-4265-a70d-9491200ae896/nltk_data...\n",
      "[nltk_data]    |   Package sentence_polarity is already up-to-date!\n",
      "[nltk_data]    | Downloading package sentiwordnet to /home/c65cc937-\n",
      "[nltk_data]    |     896c-4265-a70d-9491200ae896/nltk_data...\n",
      "[nltk_data]    |   Package sentiwordnet is already up-to-date!\n",
      "[nltk_data]    | Downloading package shakespeare to /home/c65cc937-\n",
      "[nltk_data]    |     896c-4265-a70d-9491200ae896/nltk_data...\n",
      "[nltk_data]    |   Package shakespeare is already up-to-date!\n",
      "[nltk_data]    | Downloading package sinica_treebank to /home/c65cc937\n",
      "[nltk_data]    |     -896c-4265-a70d-9491200ae896/nltk_data...\n",
      "[nltk_data]    |   Package sinica_treebank is already up-to-date!\n",
      "[nltk_data]    | Downloading package smultron to /home/c65cc937-896c-\n",
      "[nltk_data]    |     4265-a70d-9491200ae896/nltk_data...\n",
      "[nltk_data]    |   Package smultron is already up-to-date!\n",
      "[nltk_data]    | Downloading package snowball_data to /home/c65cc937-\n",
      "[nltk_data]    |     896c-4265-a70d-9491200ae896/nltk_data...\n",
      "[nltk_data]    |   Package snowball_data is already up-to-date!\n",
      "[nltk_data]    | Downloading package spanish_grammars to /home/c65cc93\n",
      "[nltk_data]    |     7-896c-4265-a70d-9491200ae896/nltk_data...\n",
      "[nltk_data]    |   Package spanish_grammars is already up-to-date!\n",
      "[nltk_data]    | Downloading package state_union to /home/c65cc937-\n",
      "[nltk_data]    |     896c-4265-a70d-9491200ae896/nltk_data...\n",
      "[nltk_data]    |   Package state_union is already up-to-date!\n",
      "[nltk_data]    | Downloading package stopwords to /home/c65cc937-896c-\n",
      "[nltk_data]    |     4265-a70d-9491200ae896/nltk_data...\n",
      "[nltk_data]    |   Package stopwords is already up-to-date!\n",
      "[nltk_data]    | Downloading package subjectivity to /home/c65cc937-\n",
      "[nltk_data]    |     896c-4265-a70d-9491200ae896/nltk_data...\n",
      "[nltk_data]    |   Package subjectivity is already up-to-date!\n",
      "[nltk_data]    | Downloading package swadesh to /home/c65cc937-896c-\n",
      "[nltk_data]    |     4265-a70d-9491200ae896/nltk_data...\n",
      "[nltk_data]    |   Package swadesh is already up-to-date!\n",
      "[nltk_data]    | Downloading package switchboard to /home/c65cc937-\n",
      "[nltk_data]    |     896c-4265-a70d-9491200ae896/nltk_data...\n",
      "[nltk_data]    |   Package switchboard is already up-to-date!\n",
      "[nltk_data]    | Downloading package tagsets to /home/c65cc937-896c-\n",
      "[nltk_data]    |     4265-a70d-9491200ae896/nltk_data...\n",
      "[nltk_data]    |   Package tagsets is already up-to-date!\n",
      "[nltk_data]    | Downloading package timit to /home/c65cc937-896c-\n",
      "[nltk_data]    |     4265-a70d-9491200ae896/nltk_data...\n",
      "[nltk_data]    |   Package timit is already up-to-date!\n",
      "[nltk_data]    | Downloading package toolbox to /home/c65cc937-896c-\n",
      "[nltk_data]    |     4265-a70d-9491200ae896/nltk_data...\n",
      "[nltk_data]    |   Package toolbox is already up-to-date!\n",
      "[nltk_data]    | Downloading package treebank to /home/c65cc937-896c-\n",
      "[nltk_data]    |     4265-a70d-9491200ae896/nltk_data...\n",
      "[nltk_data]    |   Package treebank is already up-to-date!\n",
      "[nltk_data]    | Downloading package twitter_samples to /home/c65cc937\n",
      "[nltk_data]    |     -896c-4265-a70d-9491200ae896/nltk_data...\n",
      "[nltk_data]    |   Package twitter_samples is already up-to-date!\n",
      "[nltk_data]    | Downloading package udhr to /home/c65cc937-896c-4265-\n",
      "[nltk_data]    |     a70d-9491200ae896/nltk_data...\n",
      "[nltk_data]    |   Package udhr is already up-to-date!\n",
      "[nltk_data]    | Downloading package udhr2 to /home/c65cc937-896c-\n",
      "[nltk_data]    |     4265-a70d-9491200ae896/nltk_data...\n",
      "[nltk_data]    |   Package udhr2 is already up-to-date!\n",
      "[nltk_data]    | Downloading package unicode_samples to /home/c65cc937\n",
      "[nltk_data]    |     -896c-4265-a70d-9491200ae896/nltk_data...\n",
      "[nltk_data]    |   Package unicode_samples is already up-to-date!\n",
      "[nltk_data]    | Downloading package universal_tagset to /home/c65cc93\n",
      "[nltk_data]    |     7-896c-4265-a70d-9491200ae896/nltk_data...\n",
      "[nltk_data]    |   Package universal_tagset is already up-to-date!\n",
      "[nltk_data]    | Downloading package universal_treebanks_v20 to /home/\n",
      "[nltk_data]    |     c65cc937-896c-4265-a70d-9491200ae896/nltk_data...\n",
      "[nltk_data]    |   Package universal_treebanks_v20 is already up-to-\n",
      "[nltk_data]    |       date!\n",
      "[nltk_data]    | Downloading package vader_lexicon to /home/c65cc937-\n",
      "[nltk_data]    |     896c-4265-a70d-9491200ae896/nltk_data...\n",
      "[nltk_data]    |   Package vader_lexicon is already up-to-date!\n",
      "[nltk_data]    | Downloading package verbnet to /home/c65cc937-896c-\n",
      "[nltk_data]    |     4265-a70d-9491200ae896/nltk_data...\n",
      "[nltk_data]    |   Package verbnet is already up-to-date!\n",
      "[nltk_data]    | Downloading package verbnet3 to /home/c65cc937-896c-\n",
      "[nltk_data]    |     4265-a70d-9491200ae896/nltk_data...\n",
      "[nltk_data]    |   Package verbnet3 is already up-to-date!\n",
      "[nltk_data]    | Downloading package webtext to /home/c65cc937-896c-\n",
      "[nltk_data]    |     4265-a70d-9491200ae896/nltk_data...\n",
      "[nltk_data]    |   Package webtext is already up-to-date!\n",
      "[nltk_data]    | Downloading package wmt15_eval to /home/c65cc937-\n",
      "[nltk_data]    |     896c-4265-a70d-9491200ae896/nltk_data...\n",
      "[nltk_data]    |   Package wmt15_eval is already up-to-date!\n",
      "[nltk_data]    | Downloading package word2vec_sample to /home/c65cc937\n",
      "[nltk_data]    |     -896c-4265-a70d-9491200ae896/nltk_data...\n",
      "[nltk_data]    |   Package word2vec_sample is already up-to-date!\n",
      "[nltk_data]    | Downloading package wordnet to /home/c65cc937-896c-\n",
      "[nltk_data]    |     4265-a70d-9491200ae896/nltk_data...\n",
      "[nltk_data]    |   Package wordnet is already up-to-date!\n",
      "[nltk_data]    | Downloading package wordnet2021 to /home/c65cc937-\n",
      "[nltk_data]    |     896c-4265-a70d-9491200ae896/nltk_data...\n",
      "[nltk_data]    |   Package wordnet2021 is already up-to-date!\n",
      "[nltk_data]    | Downloading package wordnet2022 to /home/c65cc937-\n",
      "[nltk_data]    |     896c-4265-a70d-9491200ae896/nltk_data...\n",
      "[nltk_data]    |   Package wordnet2022 is already up-to-date!\n",
      "[nltk_data]    | Downloading package wordnet31 to /home/c65cc937-896c-\n",
      "[nltk_data]    |     4265-a70d-9491200ae896/nltk_data...\n",
      "[nltk_data]    |   Package wordnet31 is already up-to-date!\n",
      "[nltk_data]    | Downloading package wordnet_ic to /home/c65cc937-\n",
      "[nltk_data]    |     896c-4265-a70d-9491200ae896/nltk_data...\n",
      "[nltk_data]    |   Package wordnet_ic is already up-to-date!\n",
      "[nltk_data]    | Downloading package words to /home/c65cc937-896c-\n",
      "[nltk_data]    |     4265-a70d-9491200ae896/nltk_data...\n",
      "[nltk_data]    |   Package words is already up-to-date!\n",
      "[nltk_data]    | Downloading package ycoe to /home/c65cc937-896c-4265-\n",
      "[nltk_data]    |     a70d-9491200ae896/nltk_data...\n",
      "[nltk_data]    |   Package ycoe is already up-to-date!\n",
      "[nltk_data]    | \n",
      "[nltk_data]  Done downloading collection all\n"
     ]
    },
    {
     "data": {
      "text/plain": [
       "True"
      ]
     },
     "execution_count": 46,
     "metadata": {},
     "output_type": "execute_result"
    }
   ],
   "source": [
    "import pandas as pd\n",
    "import re\n",
    "import nltk\n",
    "nltk.download('all')"
   ]
  },
  {
   "cell_type": "code",
   "execution_count": 47,
   "metadata": {
    "colab": {
     "base_uri": "https://localhost:8080/",
     "height": 478
    },
    "id": "qkuiGvimBgfn",
    "outputId": "2ae03e46-bfc3-46b2-8b1d-8c95681a5356"
   },
   "outputs": [
    {
     "data": {
      "text/html": [
       "<div>\n",
       "<style scoped>\n",
       "    .dataframe tbody tr th:only-of-type {\n",
       "        vertical-align: middle;\n",
       "    }\n",
       "\n",
       "    .dataframe tbody tr th {\n",
       "        vertical-align: top;\n",
       "    }\n",
       "\n",
       "    .dataframe thead th {\n",
       "        text-align: right;\n",
       "    }\n",
       "</style>\n",
       "<table border=\"1\" class=\"dataframe\">\n",
       "  <thead>\n",
       "    <tr style=\"text-align: right;\">\n",
       "      <th></th>\n",
       "      <th>sentiment</th>\n",
       "      <th>review</th>\n",
       "    </tr>\n",
       "  </thead>\n",
       "  <tbody>\n",
       "    <tr>\n",
       "      <th>0</th>\n",
       "      <td>1</td>\n",
       "      <td>Good but need updates and improvements</td>\n",
       "    </tr>\n",
       "    <tr>\n",
       "      <th>1</th>\n",
       "      <td>0</td>\n",
       "      <td>Worst mobile i have bought ever, Battery is dr...</td>\n",
       "    </tr>\n",
       "    <tr>\n",
       "      <th>2</th>\n",
       "      <td>1</td>\n",
       "      <td>when I will get my 10% cash back.... its alrea...</td>\n",
       "    </tr>\n",
       "    <tr>\n",
       "      <th>3</th>\n",
       "      <td>1</td>\n",
       "      <td>Good</td>\n",
       "    </tr>\n",
       "    <tr>\n",
       "      <th>4</th>\n",
       "      <td>0</td>\n",
       "      <td>The worst phone everThey have changed the last...</td>\n",
       "    </tr>\n",
       "    <tr>\n",
       "      <th>...</th>\n",
       "      <td>...</td>\n",
       "      <td>...</td>\n",
       "    </tr>\n",
       "    <tr>\n",
       "      <th>14670</th>\n",
       "      <td>1</td>\n",
       "      <td>I really like the phone, Everything is working...</td>\n",
       "    </tr>\n",
       "    <tr>\n",
       "      <th>14671</th>\n",
       "      <td>1</td>\n",
       "      <td>The Lenovo K8 Note is awesome. It takes best p...</td>\n",
       "    </tr>\n",
       "    <tr>\n",
       "      <th>14672</th>\n",
       "      <td>1</td>\n",
       "      <td>Awesome Gaget.. @ this price</td>\n",
       "    </tr>\n",
       "    <tr>\n",
       "      <th>14673</th>\n",
       "      <td>1</td>\n",
       "      <td>This phone is nice processing will be successf...</td>\n",
       "    </tr>\n",
       "    <tr>\n",
       "      <th>14674</th>\n",
       "      <td>1</td>\n",
       "      <td>Good product but the pakeging was not enough.</td>\n",
       "    </tr>\n",
       "  </tbody>\n",
       "</table>\n",
       "<p>14675 rows × 2 columns</p>\n",
       "</div>"
      ],
      "text/plain": [
       "       sentiment                                             review\n",
       "0              1             Good but need updates and improvements\n",
       "1              0  Worst mobile i have bought ever, Battery is dr...\n",
       "2              1  when I will get my 10% cash back.... its alrea...\n",
       "3              1                                               Good\n",
       "4              0  The worst phone everThey have changed the last...\n",
       "...          ...                                                ...\n",
       "14670          1  I really like the phone, Everything is working...\n",
       "14671          1  The Lenovo K8 Note is awesome. It takes best p...\n",
       "14672          1                       Awesome Gaget.. @ this price\n",
       "14673          1  This phone is nice processing will be successf...\n",
       "14674          1      Good product but the pakeging was not enough.\n",
       "\n",
       "[14675 rows x 2 columns]"
      ]
     },
     "execution_count": 47,
     "metadata": {},
     "output_type": "execute_result"
    }
   ],
   "source": [
    "data=pd.read_csv('K8 Reviews.csv')\n",
    "data"
   ]
  },
  {
   "cell_type": "code",
   "execution_count": 48,
   "metadata": {
    "colab": {
     "base_uri": "https://localhost:8080/"
    },
    "id": "4yRYcoLRDx73",
    "outputId": "64e1421a-7902-4e84-8de6-f64d4e03ae95"
   },
   "outputs": [
    {
     "data": {
      "text/plain": [
       "(14675, 2)"
      ]
     },
     "execution_count": 48,
     "metadata": {},
     "output_type": "execute_result"
    }
   ],
   "source": [
    "data.shape"
   ]
  },
  {
   "cell_type": "code",
   "execution_count": 49,
   "metadata": {
    "colab": {
     "base_uri": "https://localhost:8080/"
    },
    "id": "fWfBfLHnDyD0",
    "outputId": "01d4ff89-3e1a-4d7b-d4ef-40bc59db6c95"
   },
   "outputs": [
    {
     "data": {
      "text/plain": [
       "sentiment    0\n",
       "review       0\n",
       "dtype: int64"
      ]
     },
     "execution_count": 49,
     "metadata": {},
     "output_type": "execute_result"
    }
   ],
   "source": [
    "data.isnull().sum()"
   ]
  },
  {
   "cell_type": "code",
   "execution_count": 50,
   "metadata": {
    "colab": {
     "base_uri": "https://localhost:8080/"
    },
    "id": "znTyAPr6DyGs",
    "outputId": "8dd9f1d9-520a-49ff-e524-9d70f43b1f0e"
   },
   "outputs": [],
   "source": [
    "#Data processing"
   ]
  },
  {
   "cell_type": "code",
   "execution_count": 51,
   "metadata": {
    "colab": {
     "base_uri": "https://localhost:8080/"
    },
    "id": "GlWuXlRBDyJd",
    "outputId": "4964f27e-ca38-4251-a4ab-1f2866fe362d"
   },
   "outputs": [],
   "source": [
    "#Lower case"
   ]
  },
  {
   "cell_type": "code",
   "execution_count": 52,
   "metadata": {
    "colab": {
     "base_uri": "https://localhost:8080/"
    },
    "id": "C-HoRZNyDyL_",
    "outputId": "922337fc-803a-4736-ceab-6682334f95f8"
   },
   "outputs": [],
   "source": [
    "review = data['review'].str.lower().to_list()"
   ]
  },
  {
   "cell_type": "code",
   "execution_count": 53,
   "metadata": {
    "colab": {
     "base_uri": "https://localhost:8080/"
    },
    "id": "ye6bLLK7DyOk",
    "outputId": "11ec9385-1880-4a49-ef1c-2e8fc96b2a05"
   },
   "outputs": [
    {
     "data": {
      "text/plain": [
       "['good but need updates and improvements',\n",
       " \"worst mobile i have bought ever, battery is draining like hell, backup is only 6 to 7 hours with internet uses, even if i put mobile idle its getting discharged.this is biggest lie from amazon & lenove which is not at all expected, they are making full by saying that battery is 4000mah & booster charger is fake, it takes at least 4 to 5 hours to be fully charged.don't know how lenovo will survive by making full of us.please don;t go for this else you will regret like me.\",\n",
       " 'when i will get my 10% cash back.... its already 15 january..',\n",
       " 'good',\n",
       " 'the worst phone everthey have changed the last phone but the problem is still same and the amazon is not returning the phone .highly disappointing of amazon',\n",
       " \"only i'm telling don't buyi'm totally disappointedpoor batterypoor camerawaste of money\",\n",
       " 'phone is awesome. but while charging, it heats up allot..really a genuine reason to hate lenovo k8 note']"
      ]
     },
     "execution_count": 53,
     "metadata": {},
     "output_type": "execute_result"
    }
   ],
   "source": [
    "review[:7]\n"
   ]
  },
  {
   "cell_type": "code",
   "execution_count": 54,
   "metadata": {
    "colab": {
     "base_uri": "https://localhost:8080/"
    },
    "id": "BBY1or1TDyRU",
    "outputId": "53675ec4-731e-4415-d0df-610e05a6f9cb"
   },
   "outputs": [
    {
     "name": "stderr",
     "output_type": "stream",
     "text": [
      "<>:2: DeprecationWarning: invalid escape sequence '\\]'\n",
      "<>:2: DeprecationWarning: invalid escape sequence '\\]'\n",
      "/tmp/ipykernel_88/2381822906.py:2: DeprecationWarning: invalid escape sequence '\\]'\n",
      "  review = [re.sub(\"[.,|:@='~^0-9\\\\\\]\", \" \", x) for x in review]\n"
     ]
    }
   ],
   "source": [
    "#to further extract punctuations and other special characters\n",
    "review = [re.sub(\"[.,|:@='~^0-9\\\\\\]\", \" \", x) for x in review]"
   ]
  },
  {
   "cell_type": "code",
   "execution_count": 55,
   "metadata": {
    "colab": {
     "base_uri": "https://localhost:8080/"
    },
    "id": "jxPtFsFHI241",
    "outputId": "5d58f45e-d283-447e-c280-2c01781aa6d4"
   },
   "outputs": [],
   "source": [
    "#Tokenize the reviews using NLTKs word_tokenize function."
   ]
  },
  {
   "cell_type": "code",
   "execution_count": 56,
   "metadata": {
    "colab": {
     "base_uri": "https://localhost:8080/"
    },
    "id": "dmvJjv85DyT1",
    "outputId": "56a1c6ac-c068-4afa-ca31-e2efada7fda4"
   },
   "outputs": [
    {
     "name": "stdout",
     "output_type": "stream",
     "text": [
      "[['good', 'but', 'need', 'updates', 'and', 'improvements'], ['worst', 'mobile', 'i', 'have', 'bought', 'ever', 'battery', 'is', 'draining', 'like', 'hell', 'backup', 'is', 'only', 'to', 'hours', 'with', 'internet', 'uses', 'even', 'if', 'i', 'put', 'mobile', 'idle', 'its', 'getting', 'discharged', 'this', 'is', 'biggest', 'lie', 'from', 'amazon', '&', 'lenove', 'which', 'is', 'not', 'at', 'all', 'expected', 'they', 'are', 'making', 'full', 'by', 'saying', 'that', 'battery', 'is', 'mah', '&', 'booster', 'charger', 'is', 'fake', 'it', 'takes', 'at', 'least', 'to', 'hours', 'to', 'be', 'fully', 'charged', 'don', 't', 'know', 'how', 'lenovo', 'will', 'survive', 'by', 'making', 'full', 'of', 'us', 'please', 'don', ';', 't', 'go', 'for', 'this', 'else', 'you', 'will', 'regret', 'like', 'me'], ['when', 'i', 'will', 'get', 'my', '%', 'cash', 'back', 'its', 'already', 'january'], ['good'], ['the', 'worst', 'phone', 'everthey', 'have', 'changed', 'the', 'last', 'phone', 'but', 'the', 'problem', 'is', 'still', 'same', 'and', 'the', 'amazon', 'is', 'not', 'returning', 'the', 'phone', 'highly', 'disappointing', 'of', 'amazon']]\n"
     ]
    }
   ],
   "source": [
    "from nltk import word_tokenize\n",
    "\n",
    "review_tokens = [word_tokenize(x) for x in review]\n",
    "print(review_tokens[:5])"
   ]
  },
  {
   "cell_type": "code",
   "execution_count": null,
   "metadata": {
    "colab": {
     "base_uri": "https://localhost:8080/"
    },
    "id": "Sv7caJXII9HG",
    "outputId": "89d7b802-78dc-4203-c27b-fa7f994e0308"
   },
   "outputs": [],
   "source": []
  },
  {
   "cell_type": "code",
   "execution_count": 57,
   "metadata": {
    "colab": {
     "base_uri": "https://localhost:8080/"
    },
    "id": "x4Sxp5_ZI9Qc",
    "outputId": "fcc55680-0163-48c8-fda2-c12eb4b9d18f"
   },
   "outputs": [],
   "source": [
    "# Perform parts-of-speech tagging on each sentence using the NLTK POS tagger."
   ]
  },
  {
   "cell_type": "code",
   "execution_count": 58,
   "metadata": {
    "colab": {
     "base_uri": "https://localhost:8080/"
    },
    "id": "6jpdnsTrI9Tk",
    "outputId": "a87bd7e1-1a32-4d3e-ef2b-3b47f79151e4"
   },
   "outputs": [
    {
     "name": "stdout",
     "output_type": "stream",
     "text": [
      "[[('good', 'JJ'), ('but', 'CC'), ('need', 'VBP'), ('updates', 'NNS'), ('and', 'CC'), ('improvements', 'NNS')], [('worst', 'JJS'), ('mobile', 'NN'), ('i', 'NN'), ('have', 'VBP'), ('bought', 'VBN'), ('ever', 'RB'), ('battery', 'NN'), ('is', 'VBZ'), ('draining', 'VBG'), ('like', 'IN'), ('hell', 'NN'), ('backup', 'NN'), ('is', 'VBZ'), ('only', 'RB'), ('to', 'TO'), ('hours', 'NNS'), ('with', 'IN'), ('internet', 'NN'), ('uses', 'NNS'), ('even', 'RB'), ('if', 'IN'), ('i', 'JJ'), ('put', 'VBP'), ('mobile', 'JJ'), ('idle', 'NN'), ('its', 'PRP$'), ('getting', 'VBG'), ('discharged', 'VBN'), ('this', 'DT'), ('is', 'VBZ'), ('biggest', 'JJS'), ('lie', 'NN'), ('from', 'IN'), ('amazon', 'NN'), ('&', 'CC'), ('lenove', 'NN'), ('which', 'WDT'), ('is', 'VBZ'), ('not', 'RB'), ('at', 'IN'), ('all', 'DT'), ('expected', 'VBN'), ('they', 'PRP'), ('are', 'VBP'), ('making', 'VBG'), ('full', 'JJ'), ('by', 'IN'), ('saying', 'VBG'), ('that', 'DT'), ('battery', 'NN'), ('is', 'VBZ'), ('mah', 'JJ'), ('&', 'CC'), ('booster', 'NN'), ('charger', 'NN'), ('is', 'VBZ'), ('fake', 'JJ'), ('it', 'PRP'), ('takes', 'VBZ'), ('at', 'IN'), ('least', 'JJS'), ('to', 'TO'), ('hours', 'NNS'), ('to', 'TO'), ('be', 'VB'), ('fully', 'RB'), ('charged', 'VBN'), ('don', 'NN'), ('t', 'NN'), ('know', 'VB'), ('how', 'WRB'), ('lenovo', 'JJ'), ('will', 'MD'), ('survive', 'VB'), ('by', 'IN'), ('making', 'VBG'), ('full', 'JJ'), ('of', 'IN'), ('us', 'PRP'), ('please', 'VB'), ('don', 'NN'), (';', ':'), ('t', 'CC'), ('go', 'VB'), ('for', 'IN'), ('this', 'DT'), ('else', 'JJ'), ('you', 'PRP'), ('will', 'MD'), ('regret', 'VB'), ('like', 'IN'), ('me', 'PRP')], [('when', 'WRB'), ('i', 'NN'), ('will', 'MD'), ('get', 'VB'), ('my', 'PRP$'), ('%', 'NN'), ('cash', 'NN'), ('back', 'RB'), ('its', 'PRP$'), ('already', 'RB'), ('january', 'JJ')], [('good', 'JJ')], [('the', 'DT'), ('worst', 'JJS'), ('phone', 'NN'), ('everthey', 'NN'), ('have', 'VBP'), ('changed', 'VBN'), ('the', 'DT'), ('last', 'JJ'), ('phone', 'NN'), ('but', 'CC'), ('the', 'DT'), ('problem', 'NN'), ('is', 'VBZ'), ('still', 'RB'), ('same', 'JJ'), ('and', 'CC'), ('the', 'DT'), ('amazon', 'NN'), ('is', 'VBZ'), ('not', 'RB'), ('returning', 'VBG'), ('the', 'DT'), ('phone', 'NN'), ('highly', 'RB'), ('disappointing', 'JJ'), ('of', 'IN'), ('amazon', 'NN')], [('only', 'RB'), ('i', 'JJ'), ('m', 'VBP'), ('telling', 'VBG'), ('don', 'NN'), ('t', 'NN'), ('buyi', 'NN'), ('m', 'NN'), ('totally', 'RB'), ('disappointedpoor', 'JJ'), ('batterypoor', 'JJ'), ('camerawaste', 'NN'), ('of', 'IN'), ('money', 'NN')], [('phone', 'NN'), ('is', 'VBZ'), ('awesome', 'JJ'), ('but', 'CC'), ('while', 'IN'), ('charging', 'VBG'), ('it', 'PRP'), ('heats', 'VBZ'), ('up', 'RP'), ('allot', 'RB'), ('really', 'RB'), ('a', 'DT'), ('genuine', 'JJ'), ('reason', 'NN'), ('to', 'TO'), ('hate', 'VB'), ('lenovo', 'JJ'), ('k', 'NN'), ('note', 'NN')]]\n"
     ]
    }
   ],
   "source": [
    "from nltk import pos_tag\n",
    "review_postags = [pos_tag(x) for x in review_tokens]\n",
    "print(review_postags[:7])\n",
    "#I used an external source for this code, it was easier for me to undersatnd it"
   ]
  },
  {
   "cell_type": "code",
   "execution_count": 59,
   "metadata": {
    "colab": {
     "base_uri": "https://localhost:8080/"
    },
    "id": "8QoFduV8I9WN",
    "outputId": "8616ce2a-53c6-45e0-e505-827cea496ee7"
   },
   "outputs": [],
   "source": [
    "# For the topic model, we should  want to include only nouns.\n",
    "#1 Find out all the POS tags that correspond to nouns.\n",
    "\n",
    "#2 Limit the data to only terms with these tags.\n"
   ]
  },
  {
   "cell_type": "code",
   "execution_count": 60,
   "metadata": {
    "colab": {
     "base_uri": "https://localhost:8080/"
    },
    "id": "pz-lzJlII9Ym",
    "outputId": "ff6a6114-9c8f-43a7-da4a-726c2ff520aa"
   },
   "outputs": [
    {
     "name": "stdout",
     "output_type": "stream",
     "text": [
      "[['updates', 'improvements'], ['mobile', 'i', 'battery', 'hell', 'backup', 'hours', 'internet', 'uses', 'idle', 'lie', 'amazon', 'lenove', 'battery', 'booster', 'charger', 'hours', 'don', 't', 'don'], ['i', '%', 'cash'], [], ['phone', 'everthey', 'phone', 'problem', 'amazon', 'phone', 'amazon']]\n"
     ]
    }
   ],
   "source": [
    "nountags = ['NN', 'NNS', 'NNP', 'NNPS']\n",
    "review_postags_nouns = []\n",
    "\n",
    "for x in review_postags:\n",
    "    noun_tokens = [token_tag[0] for token_tag in x if token_tag[1] in nountags]\n",
    "    review_postags_nouns.append(noun_tokens)\n",
    "\n",
    "print(review_postags_nouns[:5])\n",
    "#I used an external source for this code, it was easier for me to understand it"
   ]
  },
  {
   "cell_type": "code",
   "execution_count": 61,
   "metadata": {
    "colab": {
     "base_uri": "https://localhost:8080/"
    },
    "id": "EfE_ghDNI9eL",
    "outputId": "d9a3dbbc-985b-46c8-ea4f-422a8171dd65"
   },
   "outputs": [],
   "source": [
    "#Lemmatize.\n",
    "\n",
    "#Different forms of the terms need to be treated as one.\n",
    "\n",
    "#No need to provide POS tag to lemmatizer for now."
   ]
  },
  {
   "cell_type": "code",
   "execution_count": 62,
   "metadata": {
    "colab": {
     "base_uri": "https://localhost:8080/"
    },
    "id": "AjujQoOBI9hF",
    "outputId": "74bd8d4c-8006-449f-8e69-008ac8c94bdc"
   },
   "outputs": [
    {
     "name": "stdout",
     "output_type": "stream",
     "text": [
      "[['update', 'improvement'], ['mobile', 'i', 'battery', 'hell', 'backup', 'hour', 'internet', 'us', 'idle', 'lie', 'amazon', 'lenove', 'battery', 'booster', 'charger', 'hour', 'don', 't', 'don'], ['i', '%', 'cash'], [], ['phone', 'everthey', 'phone', 'problem', 'amazon', 'phone', 'amazon'], ['don', 't', 'buyi', 'm', 'camerawaste', 'money'], ['phone', 'reason', 'k', 'note'], ['battery', 'level']]\n"
     ]
    }
   ],
   "source": [
    "from nltk import WordNetLemmatizer\n",
    "\n",
    "yd = WordNetLemmatizer()\n",
    "\n",
    "review_postags_nouns_lem = []\n",
    "\n",
    "for x in review_postags_nouns:\n",
    "    lem_tokens = [yd.lemmatize(token, 'n') for token in x]\n",
    "    review_postags_nouns_lem.append(lem_tokens)\n",
    "\n",
    "print(review_postags_nouns_lem[:8])\n",
    "\n",
    "#for this code I used external source, it was easier for me to comprehend it"
   ]
  },
  {
   "cell_type": "code",
   "execution_count": 63,
   "metadata": {
    "colab": {
     "base_uri": "https://localhost:8080/"
    },
    "id": "hr7k2IpGI9kB",
    "outputId": "5cf5e06a-6fd8-49e2-fa89-22d61fa45f7c"
   },
   "outputs": [],
   "source": [
    "# Remove stopwords and punctuation (if there are any)."
   ]
  },
  {
   "cell_type": "code",
   "execution_count": 64,
   "metadata": {
    "colab": {
     "base_uri": "https://localhost:8080/"
    },
    "id": "nctwkaJrSVhc",
    "outputId": "ec8d72ce-9962-4c65-ea4a-1d603f04519a"
   },
   "outputs": [],
   "source": [
    "from nltk.corpus import stopwords\n",
    "import string"
   ]
  },
  {
   "cell_type": "code",
   "execution_count": 65,
   "metadata": {
    "colab": {
     "base_uri": "https://localhost:8080/"
    },
    "id": "n_B9yXUwTxSs",
    "outputId": "82beba4b-4e7a-4461-ead4-4ee8dbd98403"
   },
   "outputs": [],
   "source": [
    "st = stopwords.words(\"english\")\n",
    "pun = list(string.punctuation)"
   ]
  },
  {
   "cell_type": "code",
   "execution_count": 66,
   "metadata": {
    "colab": {
     "base_uri": "https://localhost:8080/"
    },
    "id": "eM-eGv16TxVY",
    "outputId": "79e1e87b-ac36-4ad2-8bd1-5e08d4a6a47d"
   },
   "outputs": [],
   "source": [
    "total= st+ pun"
   ]
  },
  {
   "cell_type": "code",
   "execution_count": 67,
   "metadata": {
    "colab": {
     "base_uri": "https://localhost:8080/"
    },
    "id": "4fRtHRt6TxYR",
    "outputId": "c2ed0f5a-fd3b-4bc2-b4be-ea9a1cd9eb16"
   },
   "outputs": [],
   "source": [
    "review_preprocessed =[]"
   ]
  },
  {
   "cell_type": "code",
   "execution_count": 68,
   "metadata": {
    "colab": {
     "base_uri": "https://localhost:8080/"
    },
    "id": "qMtJLrgvTxbA",
    "outputId": "8bf34fdf-8f1f-4177-f96c-3e8f1354cce1"
   },
   "outputs": [
    {
     "name": "stdout",
     "output_type": "stream",
     "text": [
      "[['update', 'improvement'], ['mobile', 'battery', 'hell', 'backup', 'hour', 'internet', 'us', 'idle', 'lie', 'amazon', 'lenove', 'battery', 'booster', 'charger', 'hour'], ['cash'], [], ['phone', 'everthey', 'phone', 'problem', 'amazon', 'phone', 'amazon'], ['buyi', 'camerawaste', 'money'], ['phone', 'reason', 'note']]\n"
     ]
    }
   ],
   "source": [
    "for x in review_postags_nouns_lem:\n",
    "    if len(x)>0:\n",
    "        preprocessed_tokens = [token for token in x if token not in total and len(token)>1]\n",
    "        review_preprocessed.append(preprocessed_tokens)\n",
    "    else:\n",
    "        review_preprocessed.append(x)\n",
    "\n",
    "print(review_preprocessed[:7])"
   ]
  },
  {
   "cell_type": "code",
   "execution_count": 69,
   "metadata": {
    "colab": {
     "base_uri": "https://localhost:8080/"
    },
    "id": "6DWDEqexSVkG",
    "outputId": "7e23b697-fd1e-44c7-b742-b836c6aafbf1"
   },
   "outputs": [],
   "source": [
    "#Create a topic model using LDA on the cleaned-up data with 12 topics.\n",
    "\n",
    "#Print out the top terms for each topic.\n",
    "\n",
    "#What is the coherence of the model with the c_v metric?"
   ]
  },
  {
   "cell_type": "code",
   "execution_count": 70,
   "metadata": {
    "colab": {
     "base_uri": "https://localhost:8080/"
    },
    "id": "b-9-5JikSVmo",
    "outputId": "81db1735-0f31-4390-8913-b9f3f6ef2439"
   },
   "outputs": [],
   "source": [
    "import gensim\n",
    "from gensim.corpora import Dictionary\n",
    "import numpy as np\n",
    "\n",
    "np.random.seed(100)"
   ]
  },
  {
   "cell_type": "code",
   "execution_count": 71,
   "metadata": {
    "colab": {
     "base_uri": "https://localhost:8080/"
    },
    "id": "NQLHvBxSSVpC",
    "outputId": "7a600fa9-beb5-4a5b-8da5-06181912eab5"
   },
   "outputs": [],
   "source": [
    "dictionary = Dictionary(review_preprocessed)"
   ]
  },
  {
   "cell_type": "code",
   "execution_count": 72,
   "metadata": {
    "colab": {
     "base_uri": "https://localhost:8080/"
    },
    "id": "jPJN8MEXSVrn",
    "outputId": "178da124-36c4-4d14-f150-dd4df5fe0c36"
   },
   "outputs": [],
   "source": [
    "dictionary.filter_extremes(no_below=5, no_above=.5 )"
   ]
  },
  {
   "cell_type": "code",
   "execution_count": 73,
   "metadata": {
    "colab": {
     "base_uri": "https://localhost:8080/"
    },
    "id": "b1Wc0iz-I9mY",
    "outputId": "f0bdab40-4e87-4183-f6a3-5148d319164d"
   },
   "outputs": [
    {
     "name": "stdout",
     "output_type": "stream",
     "text": [
      "Dictionary<1128 unique tokens: ['improvement', 'update', 'amazon', 'backup', 'battery']...>\n"
     ]
    }
   ],
   "source": [
    "print(dictionary)"
   ]
  },
  {
   "cell_type": "code",
   "execution_count": 74,
   "metadata": {
    "colab": {
     "base_uri": "https://localhost:8080/"
    },
    "id": "EdBA5eErliph",
    "outputId": "0e3a9eea-35bb-419b-c9e4-be8d8ff72716"
   },
   "outputs": [],
   "source": [
    "bow_texta = [dictionary.doc2bow(x) for x in review_preprocessed]"
   ]
  },
  {
   "cell_type": "code",
   "execution_count": 75,
   "metadata": {
    "colab": {
     "base_uri": "https://localhost:8080/"
    },
    "id": "07Qqz-X3lpvS",
    "outputId": "f439786f-04be-4c33-9273-550705a8e88a"
   },
   "outputs": [
    {
     "data": {
      "text/plain": [
       "[[(0, 1), (1, 1)],\n",
       " [(2, 1),\n",
       "  (3, 1),\n",
       "  (4, 2),\n",
       "  (5, 1),\n",
       "  (6, 1),\n",
       "  (7, 1),\n",
       "  (8, 2),\n",
       "  (9, 1),\n",
       "  (10, 1),\n",
       "  (11, 1),\n",
       "  (12, 1),\n",
       "  (13, 1)],\n",
       " [(14, 1)],\n",
       " [],\n",
       " [(2, 2), (15, 3), (16, 1)],\n",
       " [(17, 1)],\n",
       " [(15, 1), (18, 1), (19, 1)],\n",
       " [(4, 1), (20, 1)]]"
      ]
     },
     "execution_count": 75,
     "metadata": {},
     "output_type": "execute_result"
    }
   ],
   "source": [
    "bow_texta[0:8]"
   ]
  },
  {
   "cell_type": "code",
   "execution_count": 76,
   "metadata": {
    "colab": {
     "base_uri": "https://localhost:8080/"
    },
    "id": "_DdBApAhlx-j",
    "outputId": "03049971-33c6-4d08-d854-ceddec4b6419"
   },
   "outputs": [
    {
     "name": "stdout",
     "output_type": "stream",
     "text": [
      "Word 'phone' comes 2 times in this sample review\n",
      "Word 'problem' comes 2 times in this sample review\n",
      "Word 'note' comes 1 times in this sample review\n",
      "Word 'hanging' comes 1 times in this sample review\n",
      "Word 'lenovo' comes 1 times in this sample review\n",
      "Word 'station' comes 1 times in this sample review\n",
      "Word 'year' comes 1 times in this sample review\n"
     ]
    }
   ],
   "source": [
    "example_bow = bow_texta[8]\n",
    "\n",
    "for x in example_bow:\n",
    "    print(\"Word '{}' comes {} times in this sample review\".format(dictionary[x[0]], x[1]))"
   ]
  },
  {
   "cell_type": "code",
   "execution_count": 77,
   "metadata": {
    "colab": {
     "base_uri": "https://localhost:8080/"
    },
    "id": "hlVTNs6PlyBX",
    "outputId": "7ef2bd42-f866-4d48-d7e2-fdfe10359d4d"
   },
   "outputs": [],
   "source": [
    "#LDA model from gensim library"
   ]
  },
  {
   "cell_type": "code",
   "execution_count": 78,
   "metadata": {
    "colab": {
     "base_uri": "https://localhost:8080/"
    },
    "id": "M8T_KGUTlyD4",
    "outputId": "1dd8ca78-1081-42d6-8f8d-2c0f21c258eb"
   },
   "outputs": [],
   "source": [
    "lda_model = gensim.models.LdaMulticore(bow_texta,\n",
    "                                   num_topics = 12,\n",
    "                                   id2word = dictionary,\n",
    "                                   workers=2,\n",
    "                                   passes = 70)"
   ]
  },
  {
   "cell_type": "code",
   "execution_count": 79,
   "metadata": {
    "colab": {
     "base_uri": "https://localhost:8080/"
    },
    "id": "ECRAaQdjlyGq",
    "outputId": "1ca7dc22-67d3-41ac-cdec-f2915a890fcb"
   },
   "outputs": [
    {
     "data": {
      "text/plain": [
       "[(0,\n",
       "  '0.084*\"hai\" + 0.041*\"hang\" + 0.029*\"volta\" + 0.027*\"class\" + 0.026*\"ho\" + 0.025*\"hi\" + 0.024*\"plz\" + 0.023*\"cell\" + 0.018*\"bhi\" + 0.017*\"version\"'),\n",
       " (1,\n",
       "  '0.082*\"device\" + 0.059*\"update\" + 0.057*\"time\" + 0.050*\"issue\" + 0.040*\"video\" + 0.034*\"software\" + 0.033*\"display\" + 0.028*\"review\" + 0.027*\"lot\" + 0.024*\"work\"'),\n",
       " (2,\n",
       "  '0.549*\"product\" + 0.069*\"money\" + 0.059*\"value\" + 0.053*\"charger\" + 0.025*\"worth\" + 0.024*\"excellent\" + 0.018*\"amazon\" + 0.014*\"delivery\" + 0.014*\"lenovo\" + 0.012*\"month\"'),\n",
       " (3,\n",
       "  '0.108*\"screen\" + 0.069*\"everything\" + 0.066*\"glass\" + 0.057*\"budget\" + 0.048*\"star\" + 0.033*\"gorilla\" + 0.025*\"quality\" + 0.024*\"side\" + 0.022*\"hand\" + 0.020*\"day\"'),\n",
       " (4,\n",
       "  '0.579*\"phone\" + 0.107*\"price\" + 0.052*\"performance\" + 0.044*\"range\" + 0.029*\"feature\" + 0.012*\"time\" + 0.012*\"look\" + 0.012*\"month\" + 0.008*\"specification\" + 0.006*\"wise\"'),\n",
       " (5,\n",
       "  '0.313*\"mobile\" + 0.083*\"speaker\" + 0.046*\"note\" + 0.038*\"sound\" + 0.034*\"superb\" + 0.030*\"dolby\" + 0.027*\"headphone\" + 0.027*\"killer\" + 0.020*\"lenovo\" + 0.019*\"experience\"'),\n",
       " (6,\n",
       "  '0.120*\"phone\" + 0.091*\"issue\" + 0.048*\"service\" + 0.046*\"amazon\" + 0.031*\"lenovo\" + 0.030*\"day\" + 0.029*\"network\" + 0.026*\"time\" + 0.024*\"problem\" + 0.021*\"customer\"'),\n",
       " (7,\n",
       "  '0.044*\"feature\" + 0.039*\"note\" + 0.036*\"option\" + 0.029*\"processor\" + 0.026*\"ram\" + 0.025*\"gb\" + 0.024*\"screen\" + 0.024*\"music\" + 0.023*\"android\" + 0.022*\"lenovo\"'),\n",
       " (8,\n",
       "  '0.233*\"problem\" + 0.118*\"note\" + 0.080*\"heating\" + 0.040*\"network\" + 0.039*\"heat\" + 0.038*\"call\" + 0.020*\"lenovo\" + 0.018*\"smartphone\" + 0.014*\"ok\" + 0.013*\"voice\"'),\n",
       " (9,\n",
       "  '0.307*\"camera\" + 0.120*\"quality\" + 0.066*\"phone\" + 0.040*\"battery\" + 0.027*\"performance\" + 0.026*\"mode\" + 0.018*\"sound\" + 0.017*\"front\" + 0.017*\"depth\" + 0.015*\"picture\"'),\n",
       " (10,\n",
       "  '0.110*\"money\" + 0.093*\"waste\" + 0.048*\"delivery\" + 0.046*\"box\" + 0.042*\"earphone\" + 0.038*\"expectation\" + 0.030*\"piece\" + 0.026*\"thanks\" + 0.024*\"dont\" + 0.024*\"set\"'),\n",
       " (11,\n",
       "  '0.288*\"battery\" + 0.058*\"hour\" + 0.056*\"backup\" + 0.053*\"day\" + 0.034*\"issue\" + 0.032*\"life\" + 0.032*\"charge\" + 0.029*\"time\" + 0.026*\"charger\" + 0.024*\"drain\"')]"
      ]
     },
     "execution_count": 79,
     "metadata": {},
     "output_type": "execute_result"
    }
   ],
   "source": [
    "lda_model.print_topics()"
   ]
  },
  {
   "cell_type": "code",
   "execution_count": 80,
   "metadata": {
    "colab": {
     "base_uri": "https://localhost:8080/"
    },
    "id": "bbfi3FfAlyJT",
    "outputId": "6666afa0-b929-4cab-b3c3-e1ea444ade96"
   },
   "outputs": [
    {
     "name": "stdout",
     "output_type": "stream",
     "text": [
      "Coherence Score for this LDA model is:  0.5702192450871543\n"
     ]
    }
   ],
   "source": [
    "from gensim.models import CoherenceModel\n",
    "\n",
    "coherence_score = CoherenceModel(model=lda_model, texts=review_preprocessed, dictionary=dictionary, coherence='c_v')\n",
    "coherence_lda = coherence_score.get_coherence()\n",
    "print('Coherence Score for this LDA model is: ', coherence_lda)"
   ]
  },
  {
   "cell_type": "code",
   "execution_count": 81,
   "metadata": {
    "colab": {
     "base_uri": "https://localhost:8080/"
    },
    "id": "8fCSxYMalyL2",
    "outputId": "78a873a9-23d6-46a4-e9e0-4528289d0492"
   },
   "outputs": [],
   "source": [
    "# Analyze the topics through the business lens.\n",
    "\n",
    "#Determine which of the topics can be combined."
   ]
  },
  {
   "cell_type": "code",
   "execution_count": 82,
   "metadata": {
    "colab": {
     "base_uri": "https://localhost:8080/"
    },
    "id": "NOmtGMSGlyOf",
    "outputId": "3cc02397-9f3d-47e8-acb6-f38604c8a6c0"
   },
   "outputs": [
    {
     "name": "stdout",
     "output_type": "stream",
     "text": [
      "Defaulting to user installation because normal site-packages is not writeable\n",
      "Looking in links: /usr/share/pip-wheels\n",
      "Requirement already satisfied: pyLDAvis in ./.local/lib/python3.11/site-packages (3.4.1)\n",
      "Requirement already satisfied: numpy>=1.24.2 in /opt/conda/envs/anaconda-panel-2023.05-py310/lib/python3.11/site-packages (from pyLDAvis) (1.24.3)\n",
      "Requirement already satisfied: scipy in /opt/conda/envs/anaconda-panel-2023.05-py310/lib/python3.11/site-packages (from pyLDAvis) (1.10.1)\n",
      "Requirement already satisfied: pandas>=2.0.0 in ./.local/lib/python3.11/site-packages (from pyLDAvis) (2.0.3)\n",
      "Requirement already satisfied: joblib>=1.2.0 in /opt/conda/envs/anaconda-panel-2023.05-py310/lib/python3.11/site-packages (from pyLDAvis) (1.2.0)\n",
      "Requirement already satisfied: jinja2 in /opt/conda/envs/anaconda-panel-2023.05-py310/lib/python3.11/site-packages (from pyLDAvis) (3.1.2)\n",
      "Requirement already satisfied: numexpr in /opt/conda/envs/anaconda-panel-2023.05-py310/lib/python3.11/site-packages (from pyLDAvis) (2.8.4)\n",
      "Requirement already satisfied: funcy in ./.local/lib/python3.11/site-packages (from pyLDAvis) (2.0)\n",
      "Requirement already satisfied: scikit-learn>=1.0.0 in /opt/conda/envs/anaconda-panel-2023.05-py310/lib/python3.11/site-packages (from pyLDAvis) (1.2.2)\n",
      "Requirement already satisfied: gensim in /opt/conda/envs/anaconda-panel-2023.05-py310/lib/python3.11/site-packages (from pyLDAvis) (4.3.0)\n",
      "Requirement already satisfied: setuptools in /opt/conda/envs/anaconda-panel-2023.05-py310/lib/python3.11/site-packages (from pyLDAvis) (67.8.0)\n",
      "Requirement already satisfied: python-dateutil>=2.8.2 in /opt/conda/envs/anaconda-panel-2023.05-py310/lib/python3.11/site-packages (from pandas>=2.0.0->pyLDAvis) (2.8.2)\n",
      "Requirement already satisfied: pytz>=2020.1 in /opt/conda/envs/anaconda-panel-2023.05-py310/lib/python3.11/site-packages (from pandas>=2.0.0->pyLDAvis) (2022.7)\n",
      "Requirement already satisfied: tzdata>=2022.1 in ./.local/lib/python3.11/site-packages (from pandas>=2.0.0->pyLDAvis) (2023.3)\n",
      "Requirement already satisfied: threadpoolctl>=2.0.0 in /opt/conda/envs/anaconda-panel-2023.05-py310/lib/python3.11/site-packages (from scikit-learn>=1.0.0->pyLDAvis) (2.2.0)\n",
      "Requirement already satisfied: smart-open>=1.8.1 in /opt/conda/envs/anaconda-panel-2023.05-py310/lib/python3.11/site-packages (from gensim->pyLDAvis) (5.2.1)\n",
      "Requirement already satisfied: FuzzyTM>=0.4.0 in ./.local/lib/python3.11/site-packages (from gensim->pyLDAvis) (2.0.5)\n",
      "Requirement already satisfied: MarkupSafe>=2.0 in /opt/conda/envs/anaconda-panel-2023.05-py310/lib/python3.11/site-packages (from jinja2->pyLDAvis) (2.1.1)\n",
      "Requirement already satisfied: pyfume in ./.local/lib/python3.11/site-packages (from FuzzyTM>=0.4.0->gensim->pyLDAvis) (0.2.25)\n",
      "Requirement already satisfied: six>=1.5 in /opt/conda/envs/anaconda-panel-2023.05-py310/lib/python3.11/site-packages (from python-dateutil>=2.8.2->pandas>=2.0.0->pyLDAvis) (1.16.0)\n",
      "Requirement already satisfied: simpful in ./.local/lib/python3.11/site-packages (from pyfume->FuzzyTM>=0.4.0->gensim->pyLDAvis) (2.11.0)\n",
      "Requirement already satisfied: fst-pso in ./.local/lib/python3.11/site-packages (from pyfume->FuzzyTM>=0.4.0->gensim->pyLDAvis) (1.8.1)\n",
      "Requirement already satisfied: miniful in ./.local/lib/python3.11/site-packages (from fst-pso->pyfume->FuzzyTM>=0.4.0->gensim->pyLDAvis) (0.0.6)\n"
     ]
    }
   ],
   "source": [
    "!pip install pyLDAvis # To visualize lda model, I had to search for this code, I am not sure if it was mentioned to the live classes!! I think there should be more practise. I am aware we had a lot of topics to cover, but there should be 2 more live classes for practise!\n",
    "\n",
    "\n"
   ]
  },
  {
   "cell_type": "code",
   "execution_count": 83,
   "metadata": {
    "id": "g1cWYbVRyJ8z"
   },
   "outputs": [],
   "source": [
    "import warnings\n",
    "warnings.simplefilter('ignore')\n"
   ]
  },
  {
   "cell_type": "code",
   "execution_count": 84,
   "metadata": {},
   "outputs": [],
   "source": [
    "import pyLDAvis\n",
    "import pyLDAvis.gensim_models as gensimvis\n",
    "pyLDAvis.enable_notebook()"
   ]
  },
  {
   "cell_type": "code",
   "execution_count": 85,
   "metadata": {
    "id": "qq8NopWywDIY"
   },
   "outputs": [],
   "source": [
    "import pyLDAvis.gensim\n",
    "\n",
    "pyLDAvis.enable_notebook()\n"
   ]
  },
  {
   "cell_type": "code",
   "execution_count": 86,
   "metadata": {
    "id": "fae9LSWjveZl"
   },
   "outputs": [],
   "source": [
    "\n",
    "#LDAvis_prepared = pyLDAvis.gensim.prepare(lda_model, bow_texta, dictionary)\n"
   ]
  },
  {
   "cell_type": "code",
   "execution_count": 87,
   "metadata": {
    "id": "vCE2OCIivecV"
   },
   "outputs": [],
   "source": [
    "#pyLDAvis.save_html(LDAvis_prepared, 'LDA_model_vis'+'.html')"
   ]
  },
  {
   "cell_type": "code",
   "execution_count": 88,
   "metadata": {
    "id": "KT6ill3xvpAv"
   },
   "outputs": [
    {
     "data": {
      "text/html": [
       "\n",
       "<link rel=\"stylesheet\" type=\"text/css\" href=\"https://cdn.jsdelivr.net/gh/bmabey/pyLDAvis@3.4.0/pyLDAvis/js/ldavis.v1.0.0.css\">\n",
       "\n",
       "\n",
       "<div id=\"ldavis_el881403259698368805347006312\" style=\"background-color:white;\"></div>\n",
       "<script type=\"text/javascript\">\n",
       "\n",
       "var ldavis_el881403259698368805347006312_data = {\"mdsDat\": {\"x\": [-0.2573048362602525, -0.09036338156457352, -0.1746603896887247, 0.03465989553162017, -0.26673652390324865, -0.03423750863311479, 0.10056762743167312, 0.1271048080220398, 0.2135461368724868, 0.02857109332605379, 0.21433990783910684, 0.10451317102693315], \"y\": [-0.05827621913494882, 0.023796981841420695, -0.15098611913661178, 0.2254544883658573, -0.035952077169979765, 0.03738234143678999, 0.2378716052753965, 0.17055844050676758, -0.2498581936994326, 0.05219816383702485, -0.206859708646201, -0.045329703476082506], \"topics\": [1, 2, 3, 4, 5, 6, 7, 8, 9, 10, 11, 12], \"cluster\": [1, 1, 1, 1, 1, 1, 1, 1, 1, 1, 1, 1], \"Freq\": [13.581668814802835, 13.35937195563357, 11.991147986798765, 10.966821409460257, 10.400177980102525, 7.577091545451056, 7.559698698614102, 5.876917521441056, 5.292237289132411, 4.762319562740933, 4.696789165658302, 3.9357580701641846]}, \"tinfo\": {\"Term\": [\"phone\", \"product\", \"camera\", \"battery\", \"mobile\", \"problem\", \"quality\", \"note\", \"price\", \"issue\", \"money\", \"screen\", \"device\", \"heating\", \"hour\", \"speaker\", \"performance\", \"backup\", \"waste\", \"service\", \"day\", \"time\", \"charger\", \"amazon\", \"network\", \"update\", \"hai\", \"range\", \"everything\", \"feature\", \"camera\", \"front\", \"depth\", \"clarity\", \"effect\", \"mp\", \"pic\", \"cam\", \"rear\", \"selfie\", \"bokeh\", \"weight\", \"build\", \"picture\", \"focus\", \"setup\", \"blur\", \"scanner\", \"world\", \"background\", \"clearity\", \"capture\", \"duel\", \"camra\", \"quality\", \"joke\", \"dslr\", \"selfies\", \"object\", \"detection\", \"flash\", \"fingerprint\", \"mode\", \"image\", \"mark\", \"photo\", \"size\", \"sound\", \"light\", \"feel\", \"design\", \"performance\", \"display\", \"phone\", \"battery\", \"speed\", \"backup\", \"feature\", \"processor\", \"bit\", \"thing\", \"service\", \"customer\", \"replacement\", \"return\", \"center\", \"care\", \"centre\", \"year\", \"policy\", \"team\", \"request\", \"th\", \"fine\", \"airtel\", \"coverage\", \"solution\", \"matter\", \"forum\", \"trust\", \"reset\", \"repair\", \"reply\", \"visit\", \"trouble\", \"feedback\", \"jio\", \"oct\", \"aug\", \"manufacturing\", \"strength\", \"amazon\", \"refund\", \"help\", \"warranty\", \"issue\", \"please\", \"sim\", \"purchase\", \"network\", \"period\", \"check\", \"exchange\", \"lenovo\", \"phone\", \"day\", \"month\", \"time\", \"problem\", \"support\", \"call\", \"experience\", \"lot\", \"week\", \"hour\", \"drain\", \"charging\", \"mah\", \"hr\", \"bill\", \"recording\", \"capacity\", \"draining\", \"record\", \"drainage\", \"standby\", \"msg\", \"charge\", \"idle\", \"advantage\", \"consumption\", \"quick\", \"mh\", \"increase\", \"pick\", \"vodafone\", \"discharge\", \"limit\", \"life\", \"wont\", \"wtf\", \"tooo\", \"flashlight\", \"heatup\", \"battery\", \"turbo\", \"backup\", \"handset\", \"fast\", \"percentage\", \"percent\", \"usage\", \"use\", \"day\", \"charger\", \"internet\", \"min\", \"minute\", \"time\", \"issue\", \"performance\", \"power\", \"game\", \"data\", \"thing\", \"month\", \"ram\", \"gb\", \"android\", \"stock\", \"card\", \"cast\", \"memory\", \"gallery\", \"core\", \"tv\", \"awesome\", \"storage\", \"deca\", \"google\", \"player\", \"facility\", \"ringtone\", \"setting\", \"space\", \"future\", \"file\", \"sm\", \"sd\", \"rom\", \"icon\", \"gold\", \"mind\", \"restart\", \"copy\", \"inbuilt\", \"contact\", \"music\", \"processor\", \"option\", \"message\", \"slot\", \"apps\", \"feature\", \"point\", \"support\", \"app\", \"application\", \"note\", \"screen\", \"con\", \"call\", \"button\", \"lenovo\", \"sim\", \"phone\", \"software\", \"price\", \"range\", \"wise\", \"segment\", \"smart\", \"love\", \"battry\", \"lenevo\", \"gift\", \"ph\", \"gr\", \"mobail\", \"book\", \"ha\", \"subject\", \"cashback\", \"west\", \"trap\", \"temp\", \"regret\", \"indoor\", \"g+\", \"mid\", \"iska\", \"hitting\", \"better\", \"bty\", \"comparison\", \"marketing\", \"avoid\", \"accessory\", \"phone\", \"spec\", \"choice\", \"look\", \"performance\", \"specification\", \"word\", \"feature\", \"doubt\", \"market\", \"moto\", \"others\", \"brand\", \"month\", \"go\", \"buy\", \"time\", \"configuration\", \"review\", \"bit\", \"thank\", \"one\", \"week\", \"device\", \"video\", \"nothing\", \"super\", \"bug\", \"oreo\", \"brightness\", \"bluetooth\", \"hope\", \"youtube\", \"fone\", \"patch\", \"fix\", \"security\", \"tone\", \"pixel\", \"beast\", \"wireless\", \"daylight\", \"download\", \"otherwise\", \"requirement\", \"folder\", \"overall\", \"someone\", \"update\", \"search\", \"lenova\", \"effort\", \"provide\", \"god\", \"review\", \"system\", \"software\", \"name\", \"game\", \"management\", \"display\", \"lag\", \"lot\", \"work\", \"ui\", \"time\", \"issue\", \"week\", \"apps\", \"heat\", \"lenovo\", \"mode\", \"day\", \"month\", \"heating\", \"usage\", \"user\", \"ok\", \"recorder\", \"hanging\", \"paper\", \"face\", \"caller\", \"list\", \"water\", \"mera\", \"manager\", \"batter\", \"status\", \"auto\", \"perfect\", \"panel\", \"navigation\", \"gmail\", \"indicator\", \"bettry\", \"history\", \"anybody\", \"lock\", \"connection\", \"selfi\", \"engineer\", \"unlock\", \"respect\", \"minimum\", \"colour\", \"heating\", \"problem\", \"change\", \"disappointment\", \"heat\", \"reception\", \"note\", \"smartphone\", \"voice\", \"good\", \"mi\", \"call\", \"finger\", \"network\", \"print\", \"signal\", \"wifi\", \"redmi\", \"speed\", \"light\", \"lenovo\", \"connectivity\", \"notification\", \"data\", \"month\", \"volta\", \"feature\", \"please\", \"mobile\", \"speaker\", \"superb\", \"killer\", \"output\", \"cool\", \"bottom\", \"packing\", \"china\", \"test\", \"wastage\", \"discount\", \"operating\", \"pack\", \"fraud\", \"fire\", \"impression\", \"seal\", \"form\", \"mention\", \"peace\", \"family\", \"coolpad\", \"verry\", \"loudspeaker\", \"dnt\", \"basis\", \"mint\", \"responsibility\", \"electronics\", \"cost\", \"headphone\", \"dolby\", \"atmos\", \"pls\", \"volume\", \"feeling\", \"function\", \"jack\", \"sound\", \"vr\", \"sale\", \"thank\", \"note\", \"experience\", \"side\", \"lenovo\", \"feature\", \"system\", \"music\", \"power\", \"company\", \"work\", \"get\", \"product\", \"value\", \"excellent\", \"seller\", \"worth\", \"wrost\", \"flipkart\", \"iam\", \"packaging\", \"mobil\", \"ti\", \"awsome\", \"phonecamera\", \"combination\", \"kharab\", \"divice\", \"cheat\", \"duration\", \"man\", \"courier\", \"nyc\", \"invoice\", \"worthless\", \"buying\", \"amazing\", \"whats\", \"rupee\", \"faltu\", \"difficulty\", \"deal\", \"charger\", \"money\", \"delivery\", \"amazon\", \"buy\", \"month\", \"turbo\", \"thanks\", \"lenovo\", \"cash\", \"experience\", \"application\", \"purchase\", \"please\", \"warranty\", \"cable\", \"everything\", \"glass\", \"budget\", \"star\", \"gorilla\", \"scratch\", \"series\", \"guard\", \"mob\", \"phon\", \"job\", \"description\", \"pc\", \"protection\", \"fall\", \"operation\", \"crack\", \"foot\", \"break\", \"smartphones\", \"mean\", \"yes\", \"bye\", \"okay\", \"tag\", \"alot\", \"spot\", \"stereo\", \"din\", \"height\", \"aspect\", \"rest\", \"screen\", \"hand\", \"side\", \"phn\", \"pocket\", \"rating\", \"case\", \"button\", \"quality\", \"company\", \"day\", \"display\", \"thing\", \"key\", \"lenovo\", \"option\", \"sensor\", \"waste\", \"box\", \"earphone\", \"set\", \"gud\", \"head\", \"hotspot\", \"bt\", \"sir\", \"net\", \"bettery\", \"working\", \"pin\", \"wow\", \"smooth\", \"port\", \"nice\", \"expectation\", \"thats\", \"avarage\", \"packet\", \"betry\", \"wire\", \"piece\", \"cpu\", \"lie\", \"headset\", \"handsfree\", \"offer\", \"diwali\", \"package\", \"item\", \"dont\", \"till\", \"delivery\", \"date\", \"money\", \"thanks\", \"processing\", \"cover\", \"model\", \"thing\", \"condition\", \"bit\", \"touch\", \"number\", \"hai\", \"class\", \"ho\", \"hi\", \"cell\", \"bhi\", \"ka\", \"ki\", \"bahut\", \"ye\", \"par\", \"ke\", \"damage\", \"bekar\", \"raha\", \"lte\", \"se\", \"nahi\", \"suck\", \"nhi\", \"hota\", \"ko\", \"koi\", \"aur\", \"toh\", \"paisa\", \"bed\", \"mat\", \"hone\", \"rha\", \"hang\", \"plz\", \"iron\", \"volta\", \"process\", \"version\", \"show\", \"time\", \"lenovo\"], \"Freq\": [6778.0, 2268.0, 3259.0, 3127.0, 1435.0, 1624.0, 1370.0, 1241.0, 873.0, 1565.0, 686.0, 609.0, 486.0, 543.0, 539.0, 380.0, 936.0, 632.0, 340.0, 501.0, 979.0, 1025.0, 460.0, 560.0, 536.0, 375.0, 259.0, 356.0, 258.0, 841.0, 3258.404124689505, 181.94176287971254, 177.2671756362241, 130.54284853625546, 125.80380302222068, 117.88035305794313, 77.99065151626601, 76.8498694785988, 68.68993428460556, 66.78313758510599, 44.825523502492246, 39.891024674068845, 39.66062437223675, 155.55010998466332, 28.53824265524381, 22.865544567581342, 21.92325460544869, 21.07236692516033, 18.730267074373753, 26.075036694124744, 16.092965525457927, 15.243252865726403, 13.483685501438945, 13.308691368510488, 1275.6396011846407, 11.347453695564688, 10.763047594354147, 10.645930629441498, 8.97165901947214, 8.275048329206301, 94.44993957443918, 54.25940808490681, 270.65913262576356, 85.12979500710166, 131.61341075299893, 117.4939194065797, 27.10957070703001, 192.5261900697139, 76.64599847492698, 48.40546060782215, 53.94346085576993, 290.13368635579053, 129.81566879753257, 704.0257117974123, 427.34087627375874, 85.0281211695074, 110.88279954420592, 107.28044324413409, 72.68548307277318, 53.34427936476332, 53.546239725765, 500.39061005084824, 221.36591877007572, 173.32559876034463, 164.7546597188546, 143.23351842119564, 115.5457598320351, 88.03613836003738, 84.02639724118623, 82.37450351947341, 57.395403275783494, 53.639619971174454, 52.259025747510215, 31.210971023096096, 22.391243649977206, 20.949863692287366, 56.90693208918137, 18.40262602290346, 17.988936294978345, 17.348897772094407, 17.21640701643783, 17.19002055915349, 16.27075470321284, 15.901997467424172, 15.888789670019353, 15.594163154842713, 137.82971182948418, 15.3147719232062, 15.234432481578615, 13.66006521623858, 39.55849566123751, 483.5273644097834, 78.13307536821614, 64.51688640882196, 64.7283714236882, 944.3399687980801, 162.56243001550942, 181.95654167893144, 126.07160343331907, 298.94154957305545, 20.435600939542397, 24.175482439720113, 30.578596883429054, 325.13676756635726, 1252.895250593003, 308.029660263566, 190.13202622707863, 271.2508189563145, 247.0304258776019, 80.75566146395681, 111.39651795456612, 84.84651174072884, 81.62070602750877, 67.44324091830148, 538.433351604873, 222.75189561097596, 190.87514218338183, 145.8731539265011, 219.5016963176891, 61.076571635909424, 44.05672759991711, 41.185337838182775, 38.28394582104684, 26.018336851452364, 25.663376998881343, 22.842304109910106, 16.10860235364468, 298.3998604779009, 11.409602080198349, 11.108583519301716, 10.089537713665917, 9.30367302873859, 8.440481595180662, 7.922755801997531, 7.9063505661286, 7.7263964236259834, 29.951655200842104, 7.462871419335308, 298.5090420111421, 6.964650579277024, 6.838047643409571, 6.8163844937562175, 6.703978469968239, 6.455300942426321, 2699.7907395501165, 196.85549005261512, 520.9430000209278, 167.6019702916996, 55.27516065269836, 23.43562126774421, 13.289613015172058, 148.0852917466831, 209.47484928217946, 492.8904945612347, 241.6726961489576, 64.9022406026861, 67.50115165057335, 58.755261000270686, 267.0680383246474, 321.3843690887876, 222.39704691015748, 57.227399522085605, 52.721446958618934, 47.59642708131278, 47.712303873060016, 54.495546619266875, 220.71374307971413, 210.0601450693076, 194.7192209864312, 168.43873639495095, 155.88886880342977, 155.15619056193805, 139.91371807466027, 114.54812850194831, 113.96502524696696, 69.87029530446536, 67.33403454039754, 65.83190222451006, 61.92459455783926, 57.6848373482564, 54.93569534006134, 49.86547803213369, 49.333577898867134, 48.333546328608534, 45.42424108325886, 31.383566936422604, 30.310394313991676, 25.027054576257566, 22.24770655332932, 20.9674770219335, 20.87190370832476, 20.398663520127688, 20.25659518872389, 20.115411869233878, 19.2317035540762, 19.14145426484072, 112.27717995808943, 202.57737731131508, 251.6191723633627, 305.7610598552385, 68.96964020712069, 90.86054543701827, 127.88397437679608, 378.4852156046168, 57.55289881537933, 115.12653561263039, 118.59149279747339, 77.15345699703744, 332.20180336083706, 207.00991562957782, 78.20309707294996, 156.38064839660464, 77.6900851669245, 184.91918906109157, 101.20688485173449, 106.92659725433816, 74.30410134249648, 872.2634613798823, 355.7607134434245, 49.510445281610004, 47.78016232965659, 23.047505851905193, 20.577713215637708, 14.922107823639193, 29.17334581158238, 9.844676714997721, 18.902913763261218, 8.821724265188584, 8.668425389798852, 8.454049676209676, 7.801351575056727, 7.607222650918644, 7.322372571937782, 6.67084077356621, 6.3698089523487615, 6.34573103783745, 5.971671555471518, 5.924061072238891, 5.894549075197982, 5.464206977370476, 5.410713470100022, 5.1639473355471806, 5.146505721667502, 4.6091553436487, 15.46570604974251, 4.161443935152841, 3.8903038209782617, 17.270161699975393, 4702.942203798948, 41.51216007941379, 29.088377724025044, 99.5414358791608, 423.0525958076608, 62.955152761470735, 20.968808374245878, 237.06751977612154, 14.10280563850265, 23.53384087977896, 35.076973901786765, 21.26671650770607, 36.65978098599717, 93.74477873611703, 13.089254496445822, 42.36187498002775, 100.00954482694051, 17.467455898031492, 38.65136490825983, 32.247179323201, 18.339899525782037, 19.06919413678888, 17.721777954452822, 485.3200422641194, 239.0812491447997, 129.69402255531728, 120.44106312717241, 80.44414639312267, 49.18455968980453, 47.986718275000264, 47.34633920787748, 39.613019263979005, 30.818743206990128, 30.12371523505619, 24.067101142868257, 23.2980942921317, 20.75049433791697, 19.6046273615879, 19.36872896425632, 17.41638919657814, 13.467806822744016, 13.383455090984452, 13.243410558696612, 13.249282816398209, 11.847531935287847, 11.801075821533637, 11.57563841611137, 38.783166238342844, 346.30127110395256, 10.706800430105414, 10.698556683716633, 10.412021081077828, 10.019216068133279, 15.273572889803383, 163.70707563933308, 135.0321912576637, 202.29914561157048, 43.913065350583146, 137.66838325354962, 40.82343700554945, 197.75619958960596, 65.9929223234639, 156.81761730581295, 139.85924217522123, 27.430186096311846, 334.4185538234447, 298.6507313193419, 59.131844732606645, 64.48671576642701, 80.44363408546202, 129.39627815684514, 68.09760889314107, 93.05120060156948, 71.11951347064809, 61.86237295095021, 47.87769039091959, 44.75692145227696, 84.90812348738082, 67.22913380469714, 43.757966911622496, 35.36371997873417, 29.434658405955368, 25.43292601749803, 23.49248877872002, 23.166524165821155, 18.41072140353765, 17.192608039820744, 16.630912792248473, 16.11419713279882, 65.96565475607541, 15.54268595849305, 14.326211788588163, 14.318943276211309, 12.84471171890838, 12.021466816611014, 11.59343662622827, 11.579197761623105, 10.019168904065392, 36.95163574124473, 62.01657992306807, 9.71103962668784, 9.462440015280672, 7.456647995556537, 7.354218992453813, 7.065316922627392, 25.12635967638299, 470.9252076279567, 1376.1529168688908, 37.42349822148267, 25.89643451753724, 228.6730822807307, 30.1254721119544, 696.4403315044599, 106.7382114268513, 76.08329207970358, 29.557497639134077, 61.38565656063846, 226.1874214250749, 44.771236009232965, 236.31556717642673, 37.97983483044062, 58.384346277216245, 48.0472960605002, 37.12239494373443, 70.40431679704496, 49.95613107155277, 118.26540703574723, 38.668634237924635, 38.759846511199676, 44.331016977017505, 45.22257078154837, 35.79492825401817, 40.60323743066255, 36.97279549372177, 1434.6015196961393, 379.43182154332163, 157.50606401095914, 121.74849283751266, 36.68746567567302, 31.294101062206625, 26.315476062031117, 23.800240466838442, 20.00130909622211, 18.97731639711179, 17.668212378115637, 17.661084568414577, 16.723461952418038, 16.40477312647003, 14.931121703183546, 10.2067682024699, 9.709530574125528, 9.057621718397165, 8.99896389287133, 8.825227136436796, 8.612526159670267, 8.609666704167534, 8.321986467403082, 7.9433136993783835, 6.894172852853558, 14.466087931377066, 6.7017882166406375, 6.4813997160589505, 6.252226160646394, 6.13104538455302, 84.59012386893211, 125.95855986069286, 135.64189602791006, 81.06583054169644, 79.13881602677638, 82.26826736384591, 16.036302857225447, 73.34149377381239, 39.19684777211523, 173.3637817484602, 16.301592393112678, 40.51735863657783, 27.191670054005705, 211.66195082993346, 86.94200839534548, 40.59949988729142, 91.89848623437281, 77.86862388843362, 40.47984070042615, 36.942332138420284, 29.436136469407884, 27.974047842466977, 25.597341490512864, 21.50789499523359, 2267.4826253878673, 244.53562274947842, 100.3099231712047, 35.28837625036757, 103.89096440311711, 17.949172154238337, 16.56886808132935, 16.12351183150182, 14.295573757050207, 12.492701532236945, 9.485094875371582, 8.63347544379288, 8.21069182888853, 7.375350434587921, 6.97212778204765, 6.785124654805014, 6.687242410968974, 5.525824698927764, 5.4919489134961115, 5.379304087545463, 4.926028610576732, 34.112044458789825, 8.253214990975035, 31.863682281662374, 7.376379174224447, 6.249251340568161, 13.57720664835803, 4.252126716636927, 4.782064217599354, 24.46889593020149, 217.89422300839067, 283.86754695163665, 59.68635599689213, 75.9641047084665, 30.643653824158424, 50.1187099358395, 32.11106843373222, 23.79578567040929, 56.47656136166491, 11.791528178573186, 23.172734006375904, 16.488246443765053, 18.20891857216078, 14.672381992424864, 11.865859066045967, 10.749797277409229, 257.16709707609317, 245.17423808356494, 210.53747994106547, 177.567802349868, 121.69095279828967, 42.065133440284555, 32.267742560108275, 30.59046901625174, 29.417378138421814, 28.836394874282277, 28.475509618529657, 27.95550600159343, 26.66354246416067, 25.846475781775435, 24.762480106868598, 23.11871464111759, 17.893054036328696, 17.59665919355734, 17.330327446693232, 17.327408733132273, 16.807412040783383, 16.581431595456877, 16.107978516868332, 14.428734062342073, 14.068645999706195, 13.415156247173753, 13.099666854831, 10.951288533065304, 10.80234498739447, 10.247767771476811, 20.657889417568683, 59.61542732820538, 401.6908240684554, 80.35476720428126, 87.77842339579874, 33.24268290910397, 29.03669375633664, 44.42600570797186, 27.72108794660138, 44.351874538275894, 93.59864984278131, 37.339171831224, 74.82256896742464, 52.24615684560313, 46.11639788253121, 30.909114289271614, 45.494788064507574, 30.241248227861956, 27.668715561453276, 339.8062121436547, 168.19792454016792, 153.547442660471, 86.3000400336442, 64.47193261426872, 47.86192885866871, 43.843754348538845, 36.90945007153217, 35.05603850236697, 30.56495178204676, 26.78167117378334, 24.253374151202056, 21.051451681743266, 18.70668878231098, 16.755432071249682, 13.66749153474303, 31.73666225267122, 141.0506500057371, 10.542483244904334, 9.448748056967347, 9.209768524143154, 8.918059937203223, 8.835560240793217, 111.15523633228419, 7.901722955788344, 7.8060563617828, 53.01055118627354, 7.251581777119685, 48.81366062677768, 7.003801832773683, 45.11314093579203, 76.7360508908491, 89.09052768510924, 81.10701015852123, 174.71264322517655, 55.78913877598534, 402.02089597116645, 94.5215861125117, 27.6210011390912, 41.60080612379695, 60.652630843470206, 67.95577215644151, 38.67484557419774, 45.39214189581241, 37.708034703448234, 30.575550861439016, 258.4003053339009, 84.20934233320246, 78.95046214508362, 76.16536075404025, 72.01548396958034, 54.388694106780044, 47.64422583280785, 38.567599324487425, 38.384714969480534, 37.08540768280825, 36.3841578462548, 36.21772349761472, 36.00805101256676, 34.86301439788378, 34.206190165583436, 32.98285506869114, 31.124150279025073, 28.46881194046644, 28.327280080156562, 28.28908367469639, 26.303680357996765, 26.096354194956252, 25.443352750707053, 22.651105092330035, 22.525305034943223, 21.855397196083082, 20.123007510098148, 18.378697363768087, 18.1500182397757, 17.59632487449148, 126.1381452198727, 74.29820348241078, 27.89885884980748, 89.32126836807957, 36.90149609658103, 52.30396411222148, 29.413492685291992, 43.13930188536086, 30.408012743197574], \"Total\": [6778.0, 2268.0, 3259.0, 3127.0, 1435.0, 1624.0, 1370.0, 1241.0, 873.0, 1565.0, 686.0, 609.0, 486.0, 543.0, 539.0, 380.0, 936.0, 632.0, 340.0, 501.0, 979.0, 1025.0, 460.0, 560.0, 536.0, 375.0, 259.0, 356.0, 258.0, 841.0, 3259.341104476502, 182.87391743981823, 178.19932724773764, 131.47500066074505, 126.73595885871102, 118.81250734894674, 78.92280808720218, 77.78203016076915, 69.62208457191204, 67.71528571553047, 45.75767345443591, 40.82317812916441, 40.59277412094795, 160.1828909575312, 29.470402950850556, 23.79769739778023, 22.855406097355974, 22.0045246407207, 19.66243322477721, 27.391791288493025, 17.025113193662047, 16.17866524213665, 14.415836942425576, 14.240844896637737, 1370.142304032028, 12.281507367041975, 11.695195846564776, 11.578079771307792, 9.903806154971448, 9.20724255814477, 105.12755482011086, 63.2499308803832, 354.414629191206, 109.09388105041641, 186.5164612996275, 184.9268398994377, 33.1221492275376, 372.0915860913115, 127.46483127303826, 71.60285214066319, 84.28467834755791, 936.3589236586342, 391.56186737806433, 6778.542434620188, 3127.9833853435766, 234.98548645938067, 632.6775629430082, 841.9114547118343, 325.153127481824, 145.3528553191025, 279.7250143439878, 501.62514940331823, 222.29515570436823, 174.25483550422754, 165.6838952551723, 144.1627523373078, 116.47500036209689, 88.96536896545972, 84.96003269499276, 83.30373692820498, 58.324639604156204, 54.56885867575523, 53.188264978109395, 32.140209482636656, 23.320476554794272, 21.879101317646942, 59.719371606872315, 19.331872380137405, 18.918221559375556, 18.278149761406794, 18.14563644949211, 18.119249045626404, 17.1999878386498, 16.83123282246024, 16.818045517854266, 16.52339948010674, 146.0572221831212, 16.24400798709987, 16.16366735671053, 14.58929910490975, 42.33451468700615, 560.3393912429727, 88.64489227997738, 74.70616316698093, 78.79197911925398, 1565.9157677901935, 246.3663388789685, 284.0089811619432, 185.7875308175102, 536.1040996094355, 22.546391440755137, 28.095011264728228, 38.822052022946195, 998.9991383801454, 6778.542434620188, 979.4725734090699, 540.9001591912764, 1025.0732198459802, 1624.0303265597245, 196.72775754335223, 495.1123879041698, 319.96018360070997, 320.7455356148648, 156.58474482708323, 539.4146666703318, 223.68282801618523, 191.8060710687568, 146.8040859761345, 222.4190401256762, 62.00750570038993, 44.98768254996567, 42.1162670451286, 39.214872613353045, 26.949289477630025, 26.594305655547657, 23.773234531193037, 17.0395511487376, 321.7558720147716, 12.340538992134565, 12.039549066148993, 11.020466008827567, 10.234612424089093, 9.371413503104328, 8.853682791907339, 8.83731758811698, 8.657363162499568, 33.675929318659044, 8.3938060163007, 335.933153436411, 7.895587625224574, 7.770356756542104, 7.747307798400754, 7.634918820999172, 7.3862384131281225, 3127.9833853435766, 229.81617619782696, 632.6775629430082, 210.01409921256194, 68.30710824043283, 28.192195229068822, 15.494910922296105, 207.48146505320184, 357.83114334930343, 979.4725734090699, 460.4165387378858, 103.83171145138088, 128.01214563541467, 107.13784376671617, 1025.0732198459802, 1565.9157677901935, 936.3589236586342, 159.99011117938045, 244.34940491829784, 180.45368440708302, 279.7250143439878, 540.9001591912764, 221.64137846251762, 210.98778175912838, 195.64685682084743, 169.3663724189702, 156.8165047323491, 156.08382345739048, 140.84135169272932, 115.4757635626277, 114.89265972386946, 70.79792916007028, 68.26166162241545, 66.75953908487563, 62.852226224521665, 58.61247566234036, 55.863334609371464, 50.79312076335295, 50.261212246647375, 49.26118119686797, 46.351876655638215, 32.31120205960085, 31.238028990173873, 25.95468822743986, 23.175335654317024, 21.895112012968916, 21.799542948016988, 21.326317160704914, 21.184237221980702, 21.043068223720937, 20.159343826251863, 20.069086020863107, 122.00570908335443, 241.8412943648608, 325.153127481824, 414.7124111124121, 81.1107515747897, 123.06332935341707, 193.21280944435856, 841.9114547118343, 77.26351646289741, 196.72775754335223, 216.1317249642949, 118.44304675751337, 1241.065848851, 609.5371828760997, 121.24496600309858, 495.1123879041698, 122.8784004896611, 998.9991383801454, 284.0089811619432, 6778.542434620188, 319.6072252424759, 873.1986074432721, 356.6958582463786, 50.44559841601496, 48.71530847919171, 23.982645800021082, 21.512857108256863, 15.857252641117379, 31.779725329014415, 10.779831805588096, 20.89556410966714, 9.756858427952208, 9.603560053136455, 9.389211804274261, 8.73651547356699, 8.542405098488667, 8.257518356055456, 7.605992370757561, 7.3049627360666625, 7.280878205514728, 6.906821339390937, 6.859225566439716, 6.829710350564712, 6.399346636281206, 6.345900849001219, 6.099089405678514, 6.0816489745065105, 5.54430916651639, 18.612260610741806, 5.0966145068112825, 4.827842774376927, 21.536080262089918, 6778.542434620188, 57.148853201514925, 39.60624334256569, 167.18092248035686, 936.3589236586342, 113.33843985358133, 32.36218910759412, 841.9114547118343, 22.11611628866306, 45.00773203821583, 85.50303370944532, 41.48325809717013, 92.93757907551236, 540.9001591912764, 21.18912298607142, 162.54573264365823, 1025.0732198459802, 38.89994761256999, 207.97633480144296, 145.3528553191025, 46.38308474485904, 70.09060015577327, 156.58474482708323, 486.2458437657074, 240.00705377152087, 130.61984592008935, 121.36685505029604, 81.36994364322064, 50.11035956409641, 48.912520616179535, 48.27214343703359, 40.53881944660519, 31.74454798404265, 31.04951300505711, 24.992900244337644, 24.23966728315061, 21.6762930391823, 20.530435859518843, 20.294530654468257, 18.342183567493514, 14.39360239904339, 14.309264229983443, 14.169210910928033, 14.276448628247435, 12.773329697595317, 12.726878591201789, 12.501441548781237, 41.95158766858036, 375.58661773355476, 11.632652487010764, 11.624370124318393, 11.337825554701277, 10.94502275916613, 16.993656101385817, 207.97633480144296, 176.35420962048656, 319.6072252424759, 57.73059109355996, 244.34940491829784, 56.687102608673115, 391.56186737806433, 105.75939042168717, 320.7455356148648, 283.61333391151805, 35.92180215278011, 1025.0732198459802, 1565.9157677901935, 156.58474482708323, 193.21280944435856, 323.0536404343039, 998.9991383801454, 354.414629191206, 979.4725734090699, 540.9001591912764, 543.6142062770147, 207.48146505320184, 123.36642499841533, 85.83718513521379, 68.1581899170497, 44.68702687800576, 36.29279667241695, 30.36372288235014, 26.36482157148878, 24.421553826668475, 24.09563152549642, 19.339825813480264, 18.12167549108149, 17.559971161070223, 17.043263213295848, 69.86283190970899, 16.471750420241833, 15.255284341367938, 15.248024275087925, 13.773794683858178, 12.950548972545947, 12.522496937608725, 12.50826759423979, 10.948240532974605, 40.43053719551427, 67.90987391370182, 10.640100780524442, 10.391511384940566, 8.385712204864907, 8.283275567149047, 7.994384776815478, 28.67366766542019, 543.6142062770147, 1624.0303265597245, 44.37120168370984, 30.601851650763304, 323.0536404343039, 37.167923983566, 1241.065848851, 154.97330570505721, 106.26761933734842, 37.57295159543636, 93.60862499331381, 495.1123879041698, 63.970811176538454, 536.1040996094355, 56.096653921195625, 102.88814173674984, 91.35451169140585, 67.84850646421536, 234.98548645938067, 127.46483127303826, 998.9991383801454, 95.65260917622919, 104.22726788874535, 180.45368440708302, 540.9001591912764, 125.94794016891825, 841.9114547118343, 246.3663388789685, 1435.5292100915024, 380.3597556826295, 158.43375000262338, 122.67618642186632, 37.61515652742826, 32.22178655416263, 27.243172802581412, 24.728540457214002, 20.92900503977835, 19.9050196255587, 18.595909537102973, 18.588782717868018, 17.651152908322533, 17.332459565437322, 16.111833337442878, 11.134469329483572, 10.637226595805222, 9.985310999999934, 9.926669384107129, 9.752919898693515, 9.540229928645417, 9.537365691614859, 9.249689598920934, 8.870995249376614, 7.821867714255426, 16.463069397183123, 7.629488125258235, 7.40909460347728, 7.179940201422924, 7.058756159962287, 101.0088898918144, 151.95576262165832, 168.5027581516975, 100.44041188883814, 99.83559113092092, 115.00854802565743, 19.80013776659483, 121.91649644183376, 60.28419558814804, 372.0915860913115, 21.418115730612936, 79.2864481292311, 46.38308474485904, 1241.065848851, 319.96018360070997, 129.21442166631468, 998.9991383801454, 841.9114547118343, 176.35420962048656, 241.8412943648608, 159.99011117938045, 141.4031818169846, 283.61333391151805, 60.5278083071189, 2268.412624516543, 245.46562237076725, 101.23991947484808, 36.218373744200306, 106.72912555223937, 18.879166508726943, 17.498868736622985, 17.053515722238348, 15.225582146498295, 13.42269317021187, 10.415095808148868, 9.563468675652409, 9.140716366090546, 8.305349945193441, 7.902169583738003, 7.715123582875336, 7.617240312934609, 6.4558457768089585, 6.421941954943833, 6.309297319216585, 5.8560157576459595, 41.858265117381904, 10.21089538627444, 42.76234246023068, 10.279007928495558, 9.052602117921365, 19.811868301551574, 6.645714105805596, 7.7469391471477955, 41.29115358032467, 460.4165387378858, 686.7298775384872, 246.19176507854306, 560.3393912429727, 162.54573264365823, 540.9001591912764, 229.81617619782696, 139.11295510892322, 998.9991383801454, 36.986579226008615, 319.96018360070997, 118.44304675751337, 185.7875308175102, 246.3663388789685, 78.79197911925398, 58.929149644202724, 258.0872187187079, 246.0943536667694, 211.4576006186463, 178.48792799305846, 122.611067545223, 42.98547428504769, 33.187868691438744, 31.51058812387274, 30.337497603969947, 29.756514502657144, 29.395633780393005, 28.875626291658293, 27.583667793219448, 26.766590464350326, 25.682596241738715, 24.03885286938596, 18.81317646203998, 18.516777609110076, 18.25044593120331, 18.247528810889733, 17.72753740650404, 17.501547729829888, 17.028096276541785, 15.3488503478254, 14.988769914028387, 14.335275351571106, 14.019792894539037, 11.871416045625566, 11.722501236962222, 11.167882104314767, 22.8257361137531, 67.53185790738914, 609.5371828760997, 113.83565470206554, 129.21442166631468, 42.50777640826587, 36.813247413855514, 64.00538060561978, 44.69900856057715, 122.8784004896611, 1370.142304032028, 141.4031818169846, 979.4725734090699, 391.56186737806433, 279.7250143439878, 99.28010913927133, 998.9991383801454, 414.7124111124121, 121.01821439566432, 340.7289563642531, 169.1206727138089, 154.47019361784106, 87.22278787596223, 65.39467664271781, 48.78468066536613, 44.76650488954037, 37.832198524267405, 35.978788982022905, 31.487705986600385, 27.70442161962833, 25.176120424777118, 21.97420758610207, 19.629440437507704, 17.67817880341012, 14.590245407734795, 34.35396195700936, 153.06446868285997, 11.465252982965138, 10.371496122177568, 10.132510729686944, 9.840803005567142, 9.758309181649734, 124.05350343999197, 8.82447607520377, 8.728818341883816, 59.4155417961959, 8.174329712321837, 55.165893289392805, 7.926548946692965, 51.79223885769675, 90.22318306812562, 107.33222180720274, 97.59231719544513, 246.19176507854306, 72.77957713497717, 686.7298775384872, 139.11295510892322, 35.97584642583102, 71.42089794586167, 144.26092172834197, 279.7250143439878, 93.1105644252962, 145.3528553191025, 103.59530185725097, 68.64661814939595, 259.3142826289618, 85.12332971170702, 79.8644394987368, 77.07934615803006, 72.929471306825, 55.30267140747429, 48.55820373557317, 39.48157733890964, 39.29869167092902, 37.99938482012483, 37.29814418276611, 37.13170150826286, 36.92204172464385, 35.77699149504953, 35.1201682170373, 33.896839886549806, 32.038127546202496, 29.382789137842938, 29.241271271767797, 29.203061104778175, 27.217658015009498, 27.010331292256343, 26.357330102800155, 23.56508192914645, 23.439282745962853, 22.76940501245215, 21.037000159458312, 19.292673583736622, 19.063999464869255, 18.51030160951708, 161.14715656300456, 93.67057483472463, 31.15601965123917, 125.94794016891825, 46.643373163134115, 100.0950336706102, 52.678986529090935, 1025.0732198459802, 998.9991383801454], \"Category\": [\"Default\", \"Default\", \"Default\", \"Default\", \"Default\", \"Default\", \"Default\", \"Default\", \"Default\", \"Default\", \"Default\", \"Default\", \"Default\", \"Default\", \"Default\", \"Default\", \"Default\", \"Default\", \"Default\", \"Default\", \"Default\", \"Default\", \"Default\", \"Default\", \"Default\", \"Default\", \"Default\", \"Default\", \"Default\", \"Default\", \"Topic1\", \"Topic1\", \"Topic1\", \"Topic1\", \"Topic1\", \"Topic1\", \"Topic1\", \"Topic1\", \"Topic1\", \"Topic1\", \"Topic1\", \"Topic1\", \"Topic1\", \"Topic1\", \"Topic1\", \"Topic1\", \"Topic1\", \"Topic1\", \"Topic1\", \"Topic1\", \"Topic1\", \"Topic1\", \"Topic1\", \"Topic1\", \"Topic1\", \"Topic1\", \"Topic1\", \"Topic1\", \"Topic1\", \"Topic1\", \"Topic1\", \"Topic1\", \"Topic1\", \"Topic1\", \"Topic1\", \"Topic1\", \"Topic1\", \"Topic1\", \"Topic1\", \"Topic1\", \"Topic1\", \"Topic1\", \"Topic1\", \"Topic1\", \"Topic1\", \"Topic1\", \"Topic1\", \"Topic1\", \"Topic1\", \"Topic1\", \"Topic1\", \"Topic2\", \"Topic2\", \"Topic2\", \"Topic2\", \"Topic2\", \"Topic2\", \"Topic2\", \"Topic2\", \"Topic2\", \"Topic2\", \"Topic2\", \"Topic2\", \"Topic2\", \"Topic2\", \"Topic2\", \"Topic2\", \"Topic2\", \"Topic2\", \"Topic2\", \"Topic2\", \"Topic2\", \"Topic2\", \"Topic2\", \"Topic2\", \"Topic2\", \"Topic2\", \"Topic2\", \"Topic2\", \"Topic2\", \"Topic2\", \"Topic2\", \"Topic2\", \"Topic2\", \"Topic2\", \"Topic2\", \"Topic2\", \"Topic2\", \"Topic2\", \"Topic2\", \"Topic2\", \"Topic2\", \"Topic2\", \"Topic2\", \"Topic2\", \"Topic2\", \"Topic2\", \"Topic2\", \"Topic2\", \"Topic2\", \"Topic2\", \"Topic2\", \"Topic2\", \"Topic2\", \"Topic3\", \"Topic3\", \"Topic3\", \"Topic3\", \"Topic3\", \"Topic3\", \"Topic3\", \"Topic3\", \"Topic3\", \"Topic3\", \"Topic3\", \"Topic3\", \"Topic3\", \"Topic3\", \"Topic3\", \"Topic3\", \"Topic3\", \"Topic3\", \"Topic3\", \"Topic3\", \"Topic3\", \"Topic3\", \"Topic3\", \"Topic3\", \"Topic3\", \"Topic3\", \"Topic3\", \"Topic3\", \"Topic3\", \"Topic3\", \"Topic3\", \"Topic3\", \"Topic3\", \"Topic3\", \"Topic3\", \"Topic3\", \"Topic3\", \"Topic3\", \"Topic3\", \"Topic3\", \"Topic3\", \"Topic3\", \"Topic3\", \"Topic3\", \"Topic3\", \"Topic3\", \"Topic3\", \"Topic3\", \"Topic3\", \"Topic3\", \"Topic3\", \"Topic3\", \"Topic4\", \"Topic4\", \"Topic4\", \"Topic4\", \"Topic4\", \"Topic4\", \"Topic4\", \"Topic4\", \"Topic4\", \"Topic4\", \"Topic4\", \"Topic4\", \"Topic4\", \"Topic4\", \"Topic4\", \"Topic4\", \"Topic4\", \"Topic4\", \"Topic4\", \"Topic4\", \"Topic4\", \"Topic4\", \"Topic4\", \"Topic4\", \"Topic4\", \"Topic4\", \"Topic4\", \"Topic4\", \"Topic4\", \"Topic4\", \"Topic4\", \"Topic4\", \"Topic4\", \"Topic4\", \"Topic4\", \"Topic4\", \"Topic4\", \"Topic4\", \"Topic4\", \"Topic4\", \"Topic4\", \"Topic4\", \"Topic4\", \"Topic4\", \"Topic4\", \"Topic4\", \"Topic4\", \"Topic4\", \"Topic4\", \"Topic4\", \"Topic4\", \"Topic5\", \"Topic5\", \"Topic5\", \"Topic5\", \"Topic5\", \"Topic5\", \"Topic5\", \"Topic5\", \"Topic5\", \"Topic5\", \"Topic5\", \"Topic5\", \"Topic5\", \"Topic5\", \"Topic5\", \"Topic5\", \"Topic5\", \"Topic5\", \"Topic5\", \"Topic5\", \"Topic5\", \"Topic5\", \"Topic5\", \"Topic5\", \"Topic5\", \"Topic5\", \"Topic5\", \"Topic5\", \"Topic5\", \"Topic5\", \"Topic5\", \"Topic5\", \"Topic5\", \"Topic5\", \"Topic5\", \"Topic5\", \"Topic5\", \"Topic5\", \"Topic5\", \"Topic5\", \"Topic5\", \"Topic5\", \"Topic5\", \"Topic5\", \"Topic5\", \"Topic5\", \"Topic5\", \"Topic5\", \"Topic5\", \"Topic5\", \"Topic5\", \"Topic5\", \"Topic5\", \"Topic5\", \"Topic6\", \"Topic6\", \"Topic6\", \"Topic6\", \"Topic6\", \"Topic6\", \"Topic6\", \"Topic6\", \"Topic6\", \"Topic6\", \"Topic6\", \"Topic6\", \"Topic6\", \"Topic6\", \"Topic6\", \"Topic6\", \"Topic6\", \"Topic6\", \"Topic6\", \"Topic6\", \"Topic6\", \"Topic6\", \"Topic6\", \"Topic6\", \"Topic6\", \"Topic6\", \"Topic6\", \"Topic6\", \"Topic6\", \"Topic6\", \"Topic6\", \"Topic6\", \"Topic6\", \"Topic6\", \"Topic6\", \"Topic6\", \"Topic6\", \"Topic6\", \"Topic6\", \"Topic6\", \"Topic6\", \"Topic6\", \"Topic6\", \"Topic6\", \"Topic6\", \"Topic6\", \"Topic6\", \"Topic6\", \"Topic6\", \"Topic6\", \"Topic6\", \"Topic6\", \"Topic6\", \"Topic6\", \"Topic7\", \"Topic7\", \"Topic7\", \"Topic7\", \"Topic7\", \"Topic7\", \"Topic7\", \"Topic7\", \"Topic7\", \"Topic7\", \"Topic7\", \"Topic7\", \"Topic7\", \"Topic7\", \"Topic7\", \"Topic7\", \"Topic7\", \"Topic7\", \"Topic7\", \"Topic7\", \"Topic7\", \"Topic7\", \"Topic7\", \"Topic7\", \"Topic7\", \"Topic7\", \"Topic7\", \"Topic7\", \"Topic7\", \"Topic7\", \"Topic7\", \"Topic7\", \"Topic7\", \"Topic7\", \"Topic7\", \"Topic7\", \"Topic7\", \"Topic7\", \"Topic7\", \"Topic7\", \"Topic7\", \"Topic7\", \"Topic7\", \"Topic7\", \"Topic7\", \"Topic7\", \"Topic7\", \"Topic7\", \"Topic7\", \"Topic7\", \"Topic7\", \"Topic7\", \"Topic7\", \"Topic7\", \"Topic7\", \"Topic7\", \"Topic7\", \"Topic8\", \"Topic8\", \"Topic8\", \"Topic8\", \"Topic8\", \"Topic8\", \"Topic8\", \"Topic8\", \"Topic8\", \"Topic8\", \"Topic8\", \"Topic8\", \"Topic8\", \"Topic8\", \"Topic8\", \"Topic8\", \"Topic8\", \"Topic8\", \"Topic8\", \"Topic8\", \"Topic8\", \"Topic8\", \"Topic8\", \"Topic8\", \"Topic8\", \"Topic8\", \"Topic8\", \"Topic8\", \"Topic8\", \"Topic8\", \"Topic8\", \"Topic8\", \"Topic8\", \"Topic8\", \"Topic8\", \"Topic8\", \"Topic8\", \"Topic8\", \"Topic8\", \"Topic8\", \"Topic8\", \"Topic8\", \"Topic8\", \"Topic8\", \"Topic8\", \"Topic8\", \"Topic8\", \"Topic8\", \"Topic8\", \"Topic8\", \"Topic8\", \"Topic8\", \"Topic8\", \"Topic8\", \"Topic9\", \"Topic9\", \"Topic9\", \"Topic9\", \"Topic9\", \"Topic9\", \"Topic9\", \"Topic9\", \"Topic9\", \"Topic9\", \"Topic9\", \"Topic9\", \"Topic9\", \"Topic9\", \"Topic9\", \"Topic9\", \"Topic9\", \"Topic9\", \"Topic9\", \"Topic9\", \"Topic9\", \"Topic9\", \"Topic9\", \"Topic9\", \"Topic9\", \"Topic9\", \"Topic9\", \"Topic9\", \"Topic9\", \"Topic9\", \"Topic9\", \"Topic9\", \"Topic9\", \"Topic9\", \"Topic9\", \"Topic9\", \"Topic9\", \"Topic9\", \"Topic9\", \"Topic9\", \"Topic9\", \"Topic9\", \"Topic9\", \"Topic9\", \"Topic9\", \"Topic9\", \"Topic10\", \"Topic10\", \"Topic10\", \"Topic10\", \"Topic10\", \"Topic10\", \"Topic10\", \"Topic10\", \"Topic10\", \"Topic10\", \"Topic10\", \"Topic10\", \"Topic10\", \"Topic10\", \"Topic10\", \"Topic10\", \"Topic10\", \"Topic10\", \"Topic10\", \"Topic10\", \"Topic10\", \"Topic10\", \"Topic10\", \"Topic10\", \"Topic10\", \"Topic10\", \"Topic10\", \"Topic10\", \"Topic10\", \"Topic10\", \"Topic10\", \"Topic10\", \"Topic10\", \"Topic10\", \"Topic10\", \"Topic10\", \"Topic10\", \"Topic10\", \"Topic10\", \"Topic10\", \"Topic10\", \"Topic10\", \"Topic10\", \"Topic10\", \"Topic10\", \"Topic10\", \"Topic10\", \"Topic10\", \"Topic10\", \"Topic11\", \"Topic11\", \"Topic11\", \"Topic11\", \"Topic11\", \"Topic11\", \"Topic11\", \"Topic11\", \"Topic11\", \"Topic11\", \"Topic11\", \"Topic11\", \"Topic11\", \"Topic11\", \"Topic11\", \"Topic11\", \"Topic11\", \"Topic11\", \"Topic11\", \"Topic11\", \"Topic11\", \"Topic11\", \"Topic11\", \"Topic11\", \"Topic11\", \"Topic11\", \"Topic11\", \"Topic11\", \"Topic11\", \"Topic11\", \"Topic11\", \"Topic11\", \"Topic11\", \"Topic11\", \"Topic11\", \"Topic11\", \"Topic11\", \"Topic11\", \"Topic11\", \"Topic11\", \"Topic11\", \"Topic11\", \"Topic11\", \"Topic11\", \"Topic11\", \"Topic11\", \"Topic12\", \"Topic12\", \"Topic12\", \"Topic12\", \"Topic12\", \"Topic12\", \"Topic12\", \"Topic12\", \"Topic12\", \"Topic12\", \"Topic12\", \"Topic12\", \"Topic12\", \"Topic12\", \"Topic12\", \"Topic12\", \"Topic12\", \"Topic12\", \"Topic12\", \"Topic12\", \"Topic12\", \"Topic12\", \"Topic12\", \"Topic12\", \"Topic12\", \"Topic12\", \"Topic12\", \"Topic12\", \"Topic12\", \"Topic12\", \"Topic12\", \"Topic12\", \"Topic12\", \"Topic12\", \"Topic12\", \"Topic12\", \"Topic12\", \"Topic12\", \"Topic12\"], \"logprob\": [30.0, 29.0, 28.0, 27.0, 26.0, 25.0, 24.0, 23.0, 22.0, 21.0, 20.0, 19.0, 18.0, 17.0, 16.0, 15.0, 14.0, 13.0, 12.0, 11.0, 10.0, 9.0, 8.0, 7.0, 6.0, 5.0, 4.0, 3.0, 2.0, 1.0, -1.1798, -4.0651, -4.0912, -4.3971, -4.4341, -4.4992, -4.9122, -4.927, -5.0392, -5.0674, -5.466, -5.5827, -5.5885, -4.2219, -5.9176, -6.1392, -6.1813, -6.2209, -6.3387, -6.0078, -6.4904, -6.5447, -6.6673, -6.6804, -2.1176, -6.8398, -6.8927, -6.9036, -7.0748, -7.1556, -4.7208, -5.275, -3.668, -4.8246, -4.389, -4.5024, -5.9689, -4.0086, -4.9296, -5.3892, -5.2809, -3.5985, -4.4027, -2.712, -3.2112, -4.8258, -4.5603, -4.5934, -4.9827, -5.2921, -5.2883, -3.0369, -3.8525, -4.0971, -4.1479, -4.2878, -4.5027, -4.7746, -4.8212, -4.841, -5.2024, -5.27, -5.2961, -5.8115, -6.1436, -6.2102, -5.2109, -6.3398, -6.3626, -6.3988, -6.4065, -6.408, -6.463, -6.4859, -6.4867, -6.5054, -4.3263, -6.5235, -6.5288, -6.6378, -5.5745, -3.0712, -4.8939, -5.0854, -5.0821, -2.4018, -4.1613, -4.0486, -4.4155, -3.5521, -6.235, -6.067, -5.832, -3.4681, -2.1191, -3.5221, -4.0046, -3.6493, -3.7428, -4.8609, -4.5392, -4.8115, -4.8502, -5.041, -2.8556, -3.7382, -3.8927, -4.1615, -3.7529, -5.0321, -5.3588, -5.4262, -5.4992, -5.8855, -5.8992, -6.0157, -6.3649, -3.4458, -6.7098, -6.7366, -6.8328, -6.9139, -7.0112, -7.0745, -7.0766, -7.0996, -5.7447, -7.1343, -3.4455, -7.2034, -7.2218, -7.2249, -7.2416, -7.2794, -1.2433, -3.8618, -2.8886, -4.0227, -5.1319, -5.99, -6.5573, -4.1465, -3.7997, -2.944, -3.6567, -4.9714, -4.9321, -5.0709, -3.5568, -3.3716, -3.7398, -5.0972, -5.1792, -5.2815, -5.2791, -5.1462, -3.6581, -3.7076, -3.7834, -3.9284, -4.0058, -4.0105, -4.1139, -4.314, -4.3191, -4.8083, -4.8453, -4.8679, -4.9291, -5.0, -5.0488, -5.1456, -5.1564, -5.1768, -5.2389, -5.6087, -5.6435, -5.835, -5.9527, -6.012, -6.0166, -6.0395, -6.0465, -6.0535, -6.0984, -6.1031, -4.334, -3.7439, -3.5271, -3.3322, -4.8213, -4.5456, -4.2039, -3.1188, -5.0023, -4.3089, -4.2793, -4.7092, -3.2492, -3.7222, -4.6957, -4.0027, -4.7022, -3.8351, -4.4378, -4.3828, -4.7468, -2.2308, -3.1277, -5.0997, -5.1353, -5.8644, -5.9777, -6.2991, -5.6287, -6.715, -6.0626, -6.8247, -6.8422, -6.8673, -6.9476, -6.9728, -7.011, -7.1042, -7.1504, -7.1541, -7.2149, -7.2229, -7.2279, -7.3037, -7.3135, -7.3602, -7.3636, -7.4739, -6.2633, -7.5761, -7.6434, -6.1529, -0.546, -5.2759, -5.6316, -4.4014, -2.9544, -4.8595, -5.9589, -3.5336, -6.3556, -5.8435, -5.4444, -5.9448, -5.4002, -4.4613, -6.4301, -5.2557, -4.3967, -6.1416, -5.3473, -5.5285, -6.0928, -6.0539, -6.1271, -2.5004, -3.2084, -3.8201, -3.8941, -4.2977, -4.7897, -4.8143, -4.8277, -5.0061, -5.2571, -5.2799, -5.5044, -5.5369, -5.6527, -5.7095, -5.7216, -5.8278, -6.0849, -6.0912, -6.1017, -6.1013, -6.2131, -6.217, -6.2363, -5.0272, -2.8379, -6.3144, -6.3151, -6.3423, -6.3807, -5.9591, -3.5872, -3.7797, -3.3755, -4.903, -3.7604, -4.976, -3.3982, -4.4957, -3.6301, -3.7446, -5.3736, -2.8728, -2.986, -4.6055, -4.5188, -4.2977, -3.8224, -4.4643, -4.1521, -4.4209, -4.5603, -4.8166, -4.884, -4.2414, -4.4748, -4.9043, -5.1172, -5.3008, -5.4469, -5.5263, -5.5402, -5.77, -5.8385, -5.8717, -5.9032, -4.4938, -5.9393, -6.0208, -6.0213, -6.13, -6.1962, -6.2325, -6.2337, -6.3784, -5.0733, -4.5555, -6.4097, -6.4356, -6.6738, -6.6877, -6.7277, -5.459, -2.5282, -1.4559, -5.0606, -5.4288, -3.2506, -5.2776, -2.137, -4.0126, -4.3511, -5.2966, -4.5658, -3.2616, -4.8814, -3.2178, -5.0459, -4.6159, -4.8107, -5.0687, -4.4287, -4.7718, -3.91, -5.0279, -5.0255, -4.8912, -4.8713, -5.1051, -4.9791, -5.0728, -1.1625, -2.4925, -3.3717, -3.6292, -4.8287, -4.9877, -5.161, -5.2614, -5.4353, -5.4879, -5.5594, -5.5598, -5.6143, -5.6336, -5.7277, -6.1081, -6.158, -6.2275, -6.234, -6.2535, -6.2779, -6.2782, -6.3122, -6.3588, -6.5005, -5.7593, -6.5288, -6.5622, -6.5982, -6.6178, -3.9933, -3.5952, -3.5211, -4.0359, -4.0599, -4.0211, -5.6563, -4.136, -4.7625, -3.2757, -5.6399, -4.7294, -5.1282, -3.0761, -3.9659, -4.7274, -3.9104, -4.0761, -4.7303, -4.8218, -5.0489, -5.0999, -5.1886, -5.3627, -0.5999, -2.827, -3.7181, -4.7628, -3.683, -5.4388, -5.5188, -5.5461, -5.6664, -5.8012, -6.0766, -6.1707, -6.2209, -6.3282, -6.3844, -6.4116, -6.4261, -6.6169, -6.6231, -6.6438, -6.7318, -4.7967, -6.2157, -4.8649, -6.3281, -6.4939, -5.7179, -6.8789, -6.7615, -5.1289, -2.9423, -2.6778, -4.2372, -3.9961, -4.9039, -4.4119, -4.8571, -5.1568, -4.2925, -5.859, -5.1834, -5.5237, -5.4244, -5.6404, -5.8527, -5.9515, -2.6711, -2.7189, -2.8712, -3.0415, -3.4194, -4.4816, -4.7468, -4.8001, -4.8393, -4.8592, -4.8718, -4.8902, -4.9375, -4.9687, -5.0115, -5.0802, -5.3364, -5.3531, -5.3684, -5.3685, -5.399, -5.4126, -5.4415, -5.5516, -5.5769, -5.6245, -5.6482, -5.8274, -5.8411, -5.8938, -5.1927, -4.1329, -2.2252, -3.8344, -3.746, -4.717, -4.8523, -4.427, -4.8986, -4.4287, -3.6818, -4.6008, -3.9057, -4.2649, -4.3897, -4.7898, -4.4032, -4.8116, -4.9005, -2.3786, -3.0818, -3.173, -3.7492, -4.0408, -4.3387, -4.4263, -4.5985, -4.65, -4.7871, -4.9193, -5.0184, -5.16, -5.2781, -5.3883, -5.592, -4.7495, -3.2579, -5.8516, -5.9611, -5.9867, -6.0189, -6.0282, -3.4961, -6.1399, -6.1521, -4.2365, -6.2258, -4.319, -6.2605, -4.3978, -3.8666, -3.7173, -3.8112, -3.0438, -4.1854, -2.2105, -3.6582, -4.8884, -4.4789, -4.1018, -3.9881, -4.5518, -4.3916, -4.5771, -4.7868, -2.4757, -3.5969, -3.6614, -3.6973, -3.7533, -4.034, -4.1664, -4.3778, -4.3825, -4.417, -4.4361, -4.4407, -4.4465, -4.4788, -4.4978, -4.5342, -4.5922, -4.6814, -4.6864, -4.6877, -4.7605, -4.7684, -4.7938, -4.91, -4.9156, -4.9458, -5.0283, -5.119, -5.1315, -5.1625, -3.1928, -3.7221, -4.7016, -3.538, -4.422, -4.0731, -4.6488, -4.2658, -4.6155], \"loglift\": [30.0, 29.0, 28.0, 27.0, 26.0, 25.0, 24.0, 23.0, 22.0, 21.0, 20.0, 19.0, 18.0, 17.0, 16.0, 15.0, 14.0, 13.0, 12.0, 11.0, 10.0, 9.0, 8.0, 7.0, 6.0, 5.0, 4.0, 3.0, 2.0, 1.0, 1.9962, 1.9913, 1.9912, 1.9893, 1.9891, 1.9886, 1.9846, 1.9844, 1.983, 1.9826, 1.9759, 1.9734, 1.9732, 1.9671, 1.9643, 1.9565, 1.9548, 1.9532, 1.9479, 1.9472, 1.9401, 1.9369, 1.9296, 1.9288, 1.925, 1.9173, 1.9134, 1.9125, 1.8976, 1.8897, 1.8893, 1.8431, 1.7268, 1.7484, 1.6478, 1.5429, 1.7961, 1.3375, 1.4878, 1.6049, 1.5502, 0.8248, 0.8924, -0.2683, 0.0059, 0.9799, 0.255, -0.0638, 0.4983, 0.9941, 0.3432, 2.0105, 2.0088, 2.0076, 2.0073, 2.0065, 2.0049, 2.0025, 2.0019, 2.0017, 1.9969, 1.9958, 1.9953, 1.9836, 1.9723, 1.9696, 1.9647, 1.9637, 1.9626, 1.9608, 1.9604, 1.9603, 1.9574, 1.9562, 1.9561, 1.9551, 1.955, 1.954, 1.9537, 1.9471, 1.9451, 1.8655, 1.8867, 1.8663, 1.8163, 1.5072, 1.5972, 1.5677, 1.6252, 1.4289, 1.9147, 1.8627, 1.7743, 0.8904, 0.3246, 0.8561, 0.9674, 0.6835, 0.1298, 1.1226, 0.5213, 0.6856, 0.6444, 1.1706, 2.1192, 2.1168, 2.1161, 2.1146, 2.1078, 2.1059, 2.1001, 2.0986, 2.097, 2.0858, 2.0854, 2.0811, 2.0648, 2.0456, 2.0426, 2.0405, 2.0327, 2.0256, 2.0164, 2.0099, 2.0097, 2.0072, 2.0038, 2.0034, 2.0029, 1.9955, 1.9932, 1.993, 1.991, 1.9863, 1.9738, 1.9662, 1.9267, 1.8954, 1.9093, 1.9362, 1.9675, 1.7837, 1.5855, 1.4343, 1.4765, 1.6511, 1.481, 1.5203, 0.776, 0.5374, 0.6835, 1.0929, 0.5874, 0.7883, 0.3524, -0.1741, 2.2061, 2.2059, 2.2055, 2.2048, 2.2044, 2.2043, 2.2037, 2.2022, 2.2022, 2.1971, 2.1966, 2.1963, 2.1954, 2.1943, 2.1936, 2.1919, 2.1917, 2.1913, 2.1901, 2.1812, 2.1802, 2.1739, 2.1694, 2.167, 2.1668, 2.1658, 2.1655, 2.1652, 2.1632, 2.163, 2.1272, 2.0331, 1.9539, 1.9055, 2.0481, 1.9069, 1.7976, 1.4108, 1.9158, 1.6745, 1.6101, 1.7817, 0.8923, 1.1304, 1.7718, 1.0578, 1.7518, 0.5235, 1.1785, -1.9391, 0.7514, 2.2623, 2.2607, 2.2446, 2.244, 2.2236, 2.2189, 2.2026, 2.1778, 2.1726, 2.1631, 2.1626, 2.1609, 2.1584, 2.1501, 2.1474, 2.1432, 2.1322, 2.1264, 2.1259, 2.1179, 2.1168, 2.1161, 2.1054, 2.1039, 2.0969, 2.0964, 2.0786, 2.0782, 2.0606, 2.0474, 2.0426, 1.8978, 1.9437, 1.9547, 1.7448, 1.4688, 1.6754, 1.8294, 0.996, 1.8134, 1.615, 1.3723, 1.5952, 1.3331, 0.5107, 1.7817, 0.9186, -0.0639, 1.4627, 0.5805, 0.7576, 1.3355, 0.9616, 0.0845, 2.5781, 2.5762, 2.5729, 2.5724, 2.5686, 2.5614, 2.5609, 2.5607, 2.5569, 2.5504, 2.5498, 2.5423, 2.5404, 2.5364, 2.5339, 2.5333, 2.5282, 2.5136, 2.5132, 2.5125, 2.5054, 2.5048, 2.5045, 2.5031, 2.5015, 2.4989, 2.4971, 2.497, 2.4949, 2.4917, 2.4733, 2.3407, 2.3131, 2.1227, 2.3065, 2.0063, 2.2518, 1.8969, 2.1084, 1.8645, 1.8731, 2.3103, 1.4599, 0.9231, 1.6062, 1.4827, 1.1898, 0.5362, 0.9305, 0.2262, 0.5512, 0.4067, 1.1136, 1.5661, 2.5715, 2.5686, 2.5613, 2.5564, 2.5513, 2.5464, 2.5436, 2.543, 2.5331, 2.5297, 2.528, 2.5263, 2.5249, 2.5243, 2.5195, 2.5195, 2.5125, 2.5079, 2.5053, 2.5052, 2.4937, 2.4924, 2.4916, 2.491, 2.4887, 2.4649, 2.4634, 2.4588, 2.4503, 2.4388, 2.4167, 2.412, 2.4154, 2.2368, 2.3723, 2.0046, 2.2095, 2.2482, 2.3424, 2.1604, 1.7989, 2.2255, 1.7632, 2.1923, 2.0157, 1.9398, 1.9793, 1.3771, 1.6456, 0.4485, 1.6766, 1.5931, 1.1785, 0.1007, 1.3243, -0.4495, 0.6857, 2.8335, 2.8317, 2.8283, 2.8265, 2.8092, 2.8049, 2.7995, 2.7959, 2.7888, 2.7864, 2.783, 2.7829, 2.7801, 2.7791, 2.758, 2.7471, 2.7429, 2.7366, 2.736, 2.7342, 2.7318, 2.7318, 2.7284, 2.7237, 2.7079, 2.7048, 2.7045, 2.7004, 2.6958, 2.6932, 2.6567, 2.6465, 2.6172, 2.6198, 2.6018, 2.4991, 2.6233, 2.3259, 2.4037, 2.0704, 2.5612, 2.1628, 2.3001, 1.0654, 1.5312, 1.6764, 0.4481, 0.4535, 1.3624, 0.9552, 1.1412, 1.2138, 0.429, 1.7995, 2.9385, 2.9351, 2.9297, 2.9129, 2.912, 2.8884, 2.8843, 2.8829, 2.8759, 2.8671, 2.8454, 2.8366, 2.8316, 2.8202, 2.8137, 2.8105, 2.8087, 2.7834, 2.7825, 2.7795, 2.766, 2.7343, 2.7261, 2.6447, 2.6071, 2.5683, 2.561, 2.4924, 2.4565, 2.4157, 2.1908, 2.0555, 1.5219, 0.9406, 1.2704, 0.5601, 0.9709, 1.1732, 0.066, 1.7958, 0.3137, 0.9671, 0.6162, 0.1181, 1.0458, 1.2375, 3.0409, 3.0407, 3.0401, 3.0393, 3.0369, 3.0228, 3.0163, 3.0148, 3.0136, 3.013, 3.0126, 3.0121, 3.0105, 3.0095, 3.008, 3.0054, 2.9943, 2.9935, 2.9927, 2.9927, 2.9911, 2.9904, 2.9889, 2.9826, 2.9811, 2.9781, 2.9766, 2.9638, 2.9627, 2.9585, 2.9446, 2.9198, 2.6274, 2.6961, 2.6578, 2.7986, 2.8071, 2.6793, 2.5667, 2.0254, 0.3608, 1.7129, 0.4725, 1.0303, 1.2418, 1.8775, -0.0447, 0.4261, 1.5688, 3.0556, 3.0528, 3.0523, 3.0477, 3.0441, 3.0392, 3.0375, 3.0336, 3.0323, 3.0285, 3.0244, 3.021, 3.0154, 3.0101, 3.0047, 2.993, 2.979, 2.9766, 2.9744, 2.9651, 2.9628, 2.9598, 2.959, 2.9485, 2.9478, 2.9466, 2.9442, 2.9385, 2.936, 2.9345, 2.9202, 2.8964, 2.872, 2.8733, 2.7153, 2.7924, 2.5229, 2.6718, 2.794, 2.5178, 2.1918, 1.6433, 2.1797, 1.8945, 2.0477, 2.2495, 3.2315, 3.2243, 3.2236, 3.2231, 3.2225, 3.2184, 3.2161, 3.2116, 3.2115, 3.2107, 3.2103, 3.2101, 3.21, 3.2092, 3.2087, 3.2077, 3.2061, 3.2035, 3.2033, 3.2033, 3.2009, 3.2006, 3.1998, 3.1955, 3.1953, 3.1941, 3.1906, 3.1865, 3.1859, 3.1844, 2.9901, 3.0034, 3.1246, 2.8914, 3.0008, 2.586, 2.6523, 0.067, -0.257]}, \"token.table\": {\"Topic\": [5, 8, 3, 2, 10, 1, 9, 2, 9, 4, 7, 2, 4, 6, 7, 2, 4, 8, 9, 4, 6, 10, 12, 4, 8, 2, 12, 7, 12, 11, 5, 4, 9, 1, 1, 3, 12, 8, 7, 1, 3, 5, 6, 12, 12, 11, 5, 11, 7, 12, 3, 1, 3, 5, 11, 6, 1, 1, 5, 8, 11, 2, 5, 7, 10, 6, 11, 5, 10, 6, 1, 4, 10, 1, 2, 4, 5, 8, 9, 11, 1, 2, 9, 10, 2, 9, 11, 2, 4, 7, 7, 1, 1, 1, 3, 1, 4, 2, 2, 4, 10, 12, 4, 9, 10, 5, 4, 12, 2, 2, 1, 7, 3, 12, 3, 9, 3, 9, 2, 6, 12, 8, 5, 6, 1, 12, 1, 7, 11, 9, 2, 4, 8, 10, 12, 5, 10, 1, 4, 1, 3, 6, 11, 4, 5, 8, 6, 7, 2, 4, 6, 7, 11, 3, 2, 4, 8, 8, 4, 4, 2, 8, 9, 4, 6, 11, 2, 11, 10, 2, 12, 2, 3, 4, 6, 7, 2, 11, 2, 3, 6, 7, 10, 6, 1, 2, 9, 4, 2, 9, 11, 1, 10, 1, 4, 10, 1, 6, 3, 9, 10, 10, 4, 7, 3, 10, 12, 8, 1, 4, 6, 10, 9, 11, 6, 8, 1, 4, 8, 2, 11, 3, 5, 6, 3, 3, 3, 1, 1, 9, 11, 1, 6, 8, 7, 10, 9, 2, 5, 6, 11, 1, 2, 3, 4, 6, 8, 9, 10, 7, 4, 10, 9, 12, 8, 1, 3, 10, 1, 4, 5, 7, 8, 2, 1, 4, 5, 9, 3, 8, 4, 2, 1, 7, 1, 4, 8, 6, 1, 4, 7, 3, 9, 1, 6, 6, 10, 8, 2, 8, 1, 3, 4, 8, 4, 5, 4, 1, 3, 4, 6, 4, 2, 4, 7, 8, 9, 5, 10, 7, 2, 5, 8, 6, 8, 4, 7, 9, 4, 10, 5, 10, 11, 5, 12, 2, 4, 10, 2, 3, 11, 6, 12, 7, 11, 8, 11, 8, 11, 6, 7, 12, 2, 6, 7, 3, 10, 2, 11, 12, 7, 5, 12, 12, 6, 12, 11, 3, 3, 12, 9, 4, 3, 1, 6, 8, 4, 3, 7, 5, 2, 3, 7, 9, 12, 4, 12, 5, 1, 2, 3, 6, 2, 11, 8, 11, 2, 12, 10, 1, 12, 12, 4, 7, 10, 9, 12, 8, 12, 12, 1, 6, 12, 5, 10, 6, 2, 4, 6, 7, 8, 9, 10, 11, 12, 11, 1, 3, 1, 7, 3, 7, 7, 12, 1, 3, 4, 5, 2, 3, 4, 6, 8, 5, 12, 3, 9, 4, 6, 7, 2, 1, 3, 10, 2, 5, 10, 5, 12, 2, 10, 4, 8, 7, 2, 4, 3, 1, 7, 5, 2, 3, 6, 12, 4, 7, 8, 2, 3, 6, 12, 10, 5, 9, 8, 1, 3, 6, 12, 2, 4, 11, 9, 11, 2, 3, 5, 6, 7, 8, 9, 10, 3, 5, 7, 1, 3, 4, 6, 8, 12, 2, 3, 6, 7, 11, 2, 7, 12, 4, 11, 4, 7, 8, 6, 4, 7, 2, 11, 9, 1, 2, 5, 11, 7, 10, 2, 5, 6, 8, 10, 2, 4, 7, 10, 6, 4, 5, 6, 10, 11, 6, 8, 6, 8, 10, 11, 9, 11, 8, 12, 7, 7, 12, 6, 10, 8, 2, 3, 3, 10, 7, 1, 3, 5, 2, 12, 5, 10, 6, 10, 10, 1, 2, 3, 4, 5, 10, 12, 9, 1, 4, 1, 3, 1, 6, 10, 11, 11, 6, 4, 2, 7, 9, 11, 12, 2, 8, 11, 12, 7, 10, 1, 4, 11, 2, 11, 3, 4, 6, 7, 8, 5, 4, 7, 2, 7, 2, 12, 10, 11, 1, 4, 9, 10, 6, 2, 8, 9, 11, 12, 1, 10, 3, 12, 4, 5, 7, 10, 1, 3, 7, 3, 7, 3, 3, 4, 7, 2, 12, 5, 2, 2, 2, 2, 6, 2, 7, 8, 5, 10, 4, 2, 5, 6, 12, 12, 4, 4, 9, 10, 2, 7, 8, 1, 10, 4, 10, 4, 12, 8, 6, 6, 5, 7, 1, 1, 9, 1, 4, 7, 10, 10, 2, 11, 4, 1, 2, 3, 12, 8, 10, 2, 6, 7, 2, 4, 11, 1, 6, 2, 4, 4, 5, 4, 7, 10, 10, 11, 2, 4, 6, 2, 4, 2, 6, 1, 2, 8, 4, 8, 4, 5, 7, 1, 5, 7, 8, 10, 1, 4, 7, 11, 12, 10, 3, 10, 7, 10, 4, 4, 2, 3, 5, 12, 6, 8, 2, 4, 6, 8, 10, 2, 5, 8, 2, 5, 8, 4, 9, 11, 11, 1, 3, 4, 10, 11, 9, 2, 11, 1, 2, 3, 5, 6, 12, 12, 6, 3, 1, 2, 7, 10, 11, 5, 2, 2, 3, 9, 4, 4, 6, 7, 4, 6, 3, 4, 6, 1, 2, 3, 4, 4, 5, 6, 9, 8, 4, 12, 6, 2, 3, 2, 7, 7, 12, 4, 8, 5, 8, 2, 9, 12, 8, 11, 7, 2, 5, 6, 10, 11, 1, 5, 2, 9, 2, 4, 6, 7, 11, 6, 5, 3, 3, 5, 1, 2, 4, 6, 8, 11, 11, 1, 1, 9, 9, 12, 11, 9, 3, 12, 2, 10, 6], \"Freq\": [0.7893729867790842, 0.13930111531395603, 0.9136554815768108, 0.9433769480785844, 0.9068538748769298, 0.19457130628876956, 0.6809995720106935, 0.8637622261864673, 0.13563208510366015, 0.9966937530642787, 0.9133887741944805, 0.1943259371429087, 0.5505901552382413, 0.09253616054424223, 0.1619382809524239, 0.12664314546643898, 0.6501014800610534, 0.07598588727986338, 0.13508602183086824, 0.6624819563884115, 0.3312409781942057, 0.9200141408516046, 0.04381019718340974, 0.1891668865419244, 0.8064483057839935, 0.928007219461404, 0.9760203706973949, 0.9447083405565161, 0.04294128820711437, 0.8677629431644995, 0.8285273955542665, 0.9815172734968827, 0.9410811396196715, 0.9491894752762043, 0.1754448181845812, 0.8234842367042055, 0.9669533102576614, 0.917492744608351, 0.9681109293441406, 0.13650967649020887, 0.8631759403362154, 0.9459393969107518, 0.9268253115800146, 0.9507058919238505, 0.9782823691266204, 0.9145595125630009, 0.8221454445923065, 0.9745736753035388, 0.9582753391586375, 0.9764446929177053, 0.9837518750510942, 0.36462991995338295, 0.09631733734617663, 0.220153913934118, 0.30959144146985346, 0.9736464273915456, 0.9625731394265215, 0.9834416088660981, 0.8520417013447446, 0.9543675469964491, 0.9933735320713553, 0.5917950580067527, 0.39811667538636086, 0.010759910145577322, 0.9314840888865413, 0.9813438235305811, 0.9780029034333388, 0.9018256106994136, 0.9978359698714658, 0.9831640089462594, 0.9853970532001151, 0.6347738877555039, 0.358077577708233, 0.06152114754019753, 0.2522367049148099, 0.03691268852411852, 0.25838881966882965, 0.1045859508183358, 0.19071555737461235, 0.09843383606431605, 0.2104655517496515, 0.023385061305516836, 0.7483219617765388, 0.93962353396145, 0.5090859138665903, 0.18666483508441645, 0.3054515483199542, 0.22419152239326381, 0.31507997741755994, 0.45646201856646507, 0.9482332331440956, 0.9899458761984901, 0.9995885350954338, 0.9128671855045131, 0.9734955844037058, 0.9271469416978314, 0.9947932474726261, 0.9959218685501592, 0.08948744343130353, 0.15660302600478118, 0.6264121040191247, 0.11185930428912942, 0.2162946714027145, 0.3244420071040718, 0.432589342805429, 0.8477123147860416, 0.9930561448753441, 0.9872552030040836, 0.9919344468771848, 0.989148935403904, 0.1352228421211049, 0.8338741930801469, 0.9261680233960703, 0.0714827669064081, 0.5256110057718194, 0.4734842944556059, 0.9957974684311851, 0.9189679874105466, 0.854244184985635, 0.07118701541546958, 0.07118701541546958, 0.9556116003597566, 0.7322077923212947, 0.25248544562803266, 0.9963871408377419, 0.9868035036280715, 0.9397881716261559, 0.8718800919266233, 0.10462561103119479, 0.8428302294536202, 0.2545911593884365, 0.1838713928916486, 0.1980153461910062, 0.2616631360381153, 0.0990076730955031, 0.8059203722595072, 0.10745604963460097, 0.3464061344940839, 0.6433256783461558, 0.07517943901646294, 0.2899778362063571, 0.21479839718989413, 0.4188568745202935, 0.12853487747074285, 0.43701858340052574, 0.41131160790637716, 0.07362699577905087, 0.9129747476602307, 0.36590742585512154, 0.07318148517102431, 0.0627269872894494, 0.40772541738142115, 0.0836359830525992, 0.9074026444970514, 0.07376703981820383, 0.9179898288487589, 0.9620819735706185, 0.8648938879995798, 0.942490993940877, 0.9922304895193926, 0.15840189925002446, 0.8415100897657549, 0.7924812775538753, 0.14001504164201606, 0.2660285791198305, 0.5880631748964674, 0.9598200444851961, 0.9065694021744253, 0.9567762273595448, 0.9941737115221231, 0.9750273364750459, 0.26599623143031786, 0.26599623143031786, 0.1939555854179401, 0.022166352619193155, 0.24382987881112472, 0.2198418928750625, 0.7694466250627188, 0.31445495092118925, 0.503332113000475, 0.09494905985607337, 0.01020957632861004, 0.0765718224645753, 0.9085023374409407, 0.24218262588732864, 0.14530957553239718, 0.5812383021295887, 0.9864407949294058, 0.04468061714611229, 0.2437124571606125, 0.7108280000517865, 0.9932697431227094, 0.9696759376640344, 0.6406858406378982, 0.272884709901327, 0.08305186823083865, 0.8688812040607274, 0.9974378315379335, 0.12908323932919646, 0.6454161966459823, 0.12908323932919646, 0.9383662904053187, 0.13071104473183823, 0.8496217907569485, 0.890844012532646, 0.02969480041775487, 0.05938960083550974, 0.9683259131700934, 0.33200372873511, 0.028092623200663157, 0.5056672176119368, 0.13280149149404402, 0.9073088622374578, 0.8831081530027604, 0.06074201449767944, 0.8503882029675122, 0.10682317724315937, 0.08308469341134618, 0.8071084502816487, 0.15838673339434386, 0.8292011336527414, 0.31651126755868386, 0.6330225351173677, 0.9174822847737923, 0.9969473382367294, 0.9776528982089185, 0.9690201055775107, 0.9405571436609182, 0.9017860046502891, 0.9293902313394052, 0.9969560883764779, 0.9941929751797477, 0.8820033393310993, 0.8500081124819668, 0.8660915305393254, 0.9957873980582786, 0.9877526623758712, 0.7985152351472073, 0.18030989180743393, 0.071865143456587, 0.9211804752162516, 0.09688705529274866, 0.265658054834956, 0.08126011089069242, 0.1125139996948049, 0.0531316109669912, 0.2719088325957785, 0.07188394424945868, 0.04375544432575746, 0.9550870989162252, 0.9843852720322476, 0.9734218365108518, 0.601891675795331, 0.3009458378976655, 0.9436568011555534, 0.10247835372214616, 0.8051870649597198, 0.08783858890469672, 0.12709174985227334, 0.44897833125382547, 0.2815022870559699, 0.04869870788731969, 0.09264632232221795, 0.968323741083856, 0.6703643579127884, 0.1396592412318309, 0.02793184824636618, 0.1396592412318309, 0.1515140972938761, 0.8080751855673393, 0.9603678903504667, 0.9645238938703047, 0.2813783297248788, 0.703445824312197, 0.8537558736961081, 0.12648235165868268, 0.8981119534381806, 0.9488579084576659, 0.8941518725594656, 0.009512253963398571, 0.08561028567058714, 0.9168401346648397, 0.9714913721491656, 0.9840381228707639, 0.9428863420049998, 0.9661987289499138, 0.9720913854440945, 0.9066485093589647, 0.9514636427904344, 0.9309927483634622, 0.995221202388767, 0.008202335444220209, 0.38550976587834984, 0.5987704874280753, 0.9594195828065379, 0.8785145624080372, 0.9958799704115429, 0.04092500247071877, 0.21690251309480948, 0.1759775106240907, 0.564765034095919, 0.9953182987616976, 0.14869198558014657, 0.19825598077352877, 0.16521331731127398, 0.3634692980848027, 0.11564932211789178, 0.9276582585283155, 0.9955531134686201, 0.9438212415954621, 0.2359701250158739, 0.613522325041272, 0.09438805000634955, 0.8826823321896436, 0.05884548881264291, 0.9378084293359035, 0.7984467210088394, 0.18630423490206252, 0.9895504215541285, 0.9950162121784185, 0.9224280608823942, 0.983796299774998, 0.9786729331144552, 0.9156968844391822, 0.9949316998059751, 0.21961484796157082, 0.07027675134770267, 0.7027675134770267, 0.19998657307998385, 0.7999462923199354, 0.8563393264463417, 0.21098727849229434, 0.781894032059679, 0.984625809188843, 0.9839154288874293, 0.8291886916701977, 0.1645215658075789, 0.10098367899397244, 0.8920224977800899, 0.24763689365162497, 0.7088606080777765, 0.04024099521838906, 0.018395398583281698, 0.11405147121634653, 0.866423273272568, 0.8123214638368218, 0.8954249253881763, 0.8700754696063562, 0.12047198809934162, 0.9859969471482392, 0.9593654684463376, 0.8197945082334398, 0.9891761652099184, 0.9441880248250126, 0.986708556046757, 0.955262204619589, 0.9828777142322883, 0.997377404142412, 0.9891239521386779, 0.008992035928533435, 0.9382229600395813, 0.9633229490212905, 0.8913711149092451, 0.7791454404369231, 0.2108275897652851, 0.9400946675276701, 0.9467297105731809, 0.9035787917895993, 0.9266016464196978, 0.8747343183108501, 0.26966713356266864, 0.6260129886276237, 0.09630969055809595, 0.812264911234491, 0.16723101113651284, 0.06419305233428474, 0.8987027326799865, 0.7879101988785328, 0.0006386039533985862, 0.6028421320082653, 0.20499186904094616, 0.19094258206617726, 0.14408713545590576, 0.8534391869311342, 0.6469357286682856, 0.3317619121375824, 0.9448351675960306, 0.047926421544726185, 0.952522412314039, 0.8956555308120433, 0.9885044401845483, 0.9695219593421804, 0.5741331319452894, 0.1107976219543541, 0.31224784368954334, 0.8858326723847345, 0.9878024797546516, 0.9944880384564531, 0.9625946353147472, 0.9485027467688787, 0.3309398802361369, 0.6240580598738582, 0.03782170059841565, 0.9125314866558469, 0.06293320597626531, 0.9462878317155268, 0.3253256059129142, 0.18518534490427424, 0.12912924050081825, 0.11811821999299653, 0.0920921715199634, 0.05605610440345598, 0.045045083895634275, 0.01701703169390628, 0.030030055930422846, 0.9165043522114901, 0.11014095995441472, 0.8900580277397299, 0.6040881961790764, 0.39226506245394566, 0.8339482692840483, 0.9417910163801236, 0.9151498487659253, 0.07420133908912907, 0.21533557457328822, 0.16748322466811305, 0.017944631214440683, 0.5981543738146895, 0.2556543767407615, 0.11223850686179775, 0.14029813357724719, 0.48948459936950683, 0.8949269222800119, 0.9761604371899062, 0.9735420797469185, 0.9945227275467985, 0.7785806902460131, 0.2646104547545706, 0.7232685763291598, 0.9381031024623789, 0.9596074423677123, 0.7077123331647919, 0.1930124544994887, 0.09650622724974435, 0.1555288321139207, 0.533241710104871, 0.3110576642278414, 0.7848347161933219, 0.9329966591656678, 0.9311048431342925, 0.9589600411032209, 0.9940262452566851, 0.9228005657265396, 0.9307219296387677, 0.13561703949762124, 0.8506887023032605, 0.8536599091855204, 0.3311660651164809, 0.6516493539388817, 0.7813297644563296, 0.1796704514703254, 0.5311995956513968, 0.2655997978256984, 0.023435276278738097, 0.9440981891596295, 0.8756145964228175, 0.8098155471228623, 0.14934032119256274, 0.5506924343975751, 0.21467671171430894, 0.09333770074535172, 0.9559127248585287, 0.9371524674394746, 0.8940083668626828, 0.9996313484338862, 0.764641122795741, 0.036680201462526325, 0.19186566918859924, 0.005643107917311742, 0.27034348271696873, 0.3050029035781186, 0.42284493450602806, 0.41355416341861934, 0.5853830059657922, 0.35126630445825224, 0.09983358126708221, 0.1737843822056616, 0.13126267166597846, 0.08319465105590185, 0.03142909039889625, 0.09243850117322427, 0.033277860422360736, 0.18712786325653516, 0.4093422008736707, 0.39764670942013725, 0.9931614325202275, 0.9389918701693842, 0.8393934564943993, 0.008269886270880782, 0.15299289601129445, 0.9529388060692304, 0.08660919462779876, 0.15589655033003777, 0.762160912724629, 0.9181517387057854, 0.9845112252125344, 0.5577275014644144, 0.44021301118930367, 0.9588035959496954, 0.05821744817971229, 0.9314791708753967, 0.26751199407136317, 0.5608082767279179, 0.17082091187689455, 0.9952545808355298, 0.6236371855144716, 0.3741823113086829, 0.5389923203423762, 0.4515881602868558, 0.8538228390987004, 0.9087415342314872, 0.9234174233300183, 0.10876285404325482, 0.888229974686581, 0.9902468244514889, 0.9121204313509708, 0.27107771880642106, 0.27107771880642106, 0.44228469910521334, 0.9631098936310549, 0.9567844241557398, 0.11574285869874558, 0.7378607242045031, 0.07233928668671599, 0.07233928668671599, 0.9778417162887018, 0.21695499372104418, 0.5062283186824363, 0.0482122208268987, 0.07231833124034806, 0.14463666248069612, 0.9105906054449809, 0.9836460463223196, 0.9598893018197472, 0.9231234574408366, 0.11584747314140004, 0.8688560485605002, 0.9195050714839061, 0.8882299994641176, 0.9705384772516379, 0.9662088222317896, 0.91771478569141, 0.9643786979524923, 0.965195475238526, 0.9602727080638593, 0.9788400948853175, 0.9433734896657651, 0.06453731841472346, 0.8389851393914048, 0.815828629630261, 0.14188323993569757, 0.9713600310710083, 0.30971029663164135, 0.23708857190422197, 0.4517498464661527, 0.8870599116738367, 0.04435299558369184, 0.9092838987395332, 0.047857047302080694, 0.188200858195075, 0.7763285400546844, 0.9745765081932029, 0.10385713548158176, 0.18484799823639483, 0.00029504868034540275, 0.015785104398479046, 0.6938069718322146, 0.0010326703812089096, 0.0004425730205181041, 0.8752049270096293, 0.6326826331084445, 0.3623054394723571, 0.9883074600414298, 0.9052520654861526, 0.973886780713427, 0.0249714559157289, 0.09673245549090619, 0.8947752132908822, 0.9556658604281947, 0.9362128311066292, 0.9845455947911381, 0.6616163585565008, 0.15018285439626092, 0.06088494097145713, 0.12176988194291426, 0.0040589960647638085, 0.2003293592339499, 0.7913009689741022, 0.2028385118114649, 0.7900026249499159, 0.19014894071435243, 0.7877598972451744, 0.11648447303484918, 0.7506777151134726, 0.12942719226094354, 0.9843495985140666, 0.9595452035767756, 0.3562720194380749, 0.3500216331321438, 0.0312519315296557, 0.07500463567117367, 0.18126120287200304, 0.9986273369734503, 0.30304837832006054, 0.6774022574213119, 0.15209075591786153, 0.8472748183926213, 0.19295345489964263, 0.7932530923651975, 0.22237141845968963, 0.7782999646089137, 0.22450960433736158, 0.7750194560687003, 0.9993772629806078, 0.9713601750894898, 0.9136573052463777, 0.6781940609553797, 0.06458991056717903, 0.09688486585076853, 0.13994480622888789, 0.016147477641794757, 0.9312901267591053, 0.06860601247284945, 0.8793689127706292, 0.968104702400204, 0.9971062331999253, 0.9980491552388648, 0.2968500432342054, 0.6874422053844755, 0.9910648384670313, 0.16142951655446058, 0.8071475827723029, 0.964774971955457, 0.9830073257746539, 0.9780454894766207, 0.23581948717528092, 0.20634205127837082, 0.5453325640928371, 0.879915334023348, 0.11280965820812154, 0.8687064143068014, 0.938228728861334, 0.9927988483039996, 0.9302332158658084, 0.9895753972217862, 0.939457469907717, 0.9368643556437959, 0.8450763159155977, 0.8356615559013872, 0.1036547818601342, 0.8884695588011503, 0.9504317425276828, 0.995872288890124, 0.1875213352386159, 0.7885512558752052, 0.024041196825463573, 0.9724314805732444, 0.9749068478400756, 0.959118180695366, 0.7066471362977709, 0.25237397724920385, 0.46666234738744644, 0.012612495875336392, 0.517112330888792, 0.954349177856732, 0.9770742488843381, 0.3396019239109762, 0.6595167797691422, 0.9492850644388364, 0.9675971217510948, 0.9013239547571488, 0.9456140817653415, 0.9688003369413845, 0.9853165565091875, 0.9398407220262351, 0.9894368648382381, 0.9500711877335343, 0.9663603409472408, 0.3801080707537528, 0.15700115965915878, 0.23137013002402346, 0.23137013002402346, 0.9642077440259015, 0.9967602314093476, 0.985980866861294, 0.974398072351782, 0.9664800596273387, 0.2657606177041537, 0.15186321011665926, 0.5505041366728899, 0.3173020431564445, 0.6810385316528565, 0.3693331355641256, 0.0583157582469672, 0.5637189963873496, 0.6408248051008738, 0.35562255667685855, 0.9727953883463958, 0.8151644935393362, 0.15095638769246966, 0.2519028224157112, 0.7394566722525716, 0.9632171182688088, 0.9590267976179585, 0.15486538078807216, 0.6904414893468217, 0.15486538078807216, 0.9316329995245584, 0.9616375187200109, 0.1314112970009859, 0.231534189954118, 0.6320257617666465, 0.9544641624032196, 0.03348997061063928, 0.04767400022616784, 0.9296430044102729, 0.5186895033757567, 0.01343755190092634, 0.4649392957720514, 0.9708344784897986, 0.9964250800398451, 0.1924798028966994, 0.7349228837873977, 0.06999265559879977, 0.18528576912766132, 0.555857307382984, 0.14117010981155148, 0.008823131863221968, 0.10587758235866361, 0.36172446767129596, 0.22980142652058802, 0.29789073808224376, 0.08511163945206963, 0.02127790986301741, 0.9272604879251629, 0.9674745760751037, 0.9972663249635716, 0.9387873554354325, 0.9265954421716465, 0.9919324456239156, 0.9886227631992789, 0.9448555226328675, 0.04724277613164338, 0.9365044045283418, 0.9575507076887511, 0.9887378226145055, 0.9972622626011427, 0.4117365084190029, 0.584564178619572, 0.7655048342226668, 0.22681624717708648, 0.9340326177731922, 0.9772885076848068, 0.8240764136743068, 0.9545330955415575, 0.9776592641516235, 0.3880725074456171, 0.5821087611684257, 0.14376806232273853, 0.17252167478728622, 0.682898296033008, 0.9594206090649371, 0.1930467324370007, 0.17159709549955618, 0.22879612733274157, 0.164447216520408, 0.24309588529103793, 0.8641303129404068, 0.16394733171420955, 0.8299833668031859, 0.00780432055497657, 0.2643713587998313, 0.260469198522343, 0.09755400693720713, 0.3258303831702718, 0.041948222982999064, 0.9812586950409772, 0.9741634389475025, 0.9035396788346246, 0.37646494870723, 0.028958842208248466, 0.07722357922199591, 0.15444715844399182, 0.36681200130448055, 0.8213594260209305, 0.9513590614922633, 0.930072256870029, 0.857206847921886, 0.13924172148984948, 0.9887294844702843, 0.22270597577412615, 0.7516326682376758, 0.8347531883981189, 0.07455004698773242, 0.921225580634122, 0.7133167290969834, 0.05301678391937038, 0.23134596619361622, 0.1034007259784031, 0.17606069558484852, 0.5840743710671958, 0.1369360965659933, 0.49446192512090353, 0.13780086437795672, 0.36476699394165013, 0.998103105574336, 0.9018153854340277, 0.469553765820852, 0.5195062940996661, 0.9958040659401638, 0.9506136697633336, 0.924068893708073, 0.27289592239700966, 0.7151755207645771, 0.2858323840129318, 0.7066411715875258, 0.2782401877890074, 0.7129904812093315, 0.18675779187628516, 0.7470311675051406, 0.8249570670336962, 0.15229976622160546, 0.012691647185133789, 0.9679548055493602, 0.99786059754935, 0.9545298688545643, 0.42788331694756215, 0.1149537269411361, 0.3767927716403906, 0.04470422714377515, 0.031931590816982255, 0.9798355207289379, 0.9203269815142867, 0.22093095155928877, 0.6627928546778663, 0.06567820120661264, 0.24082007109091302, 0.15324913614876282, 0.5254256096529011, 0.9222909248381148, 0.9031790402146992, 0.9911667532945055, 0.8865711245653991, 0.33990284042369484, 0.6489054226270539, 0.18334822020823255, 0.11635560128599373, 0.10225189203920661, 0.49362982363754915, 0.09167411010411627, 0.01410370924678712, 0.9532842866600035, 0.9663097025070906, 0.01873902732409332, 0.9744294208528527, 0.7834768350240526, 0.09793460437800658, 0.9679338573347727, 0.9534319214611224, 0.9008595382839383, 0.973699973700744, 0.9887001844921683, 0.9713426642276304, 0.976545642281096], \"Term\": [\"accessory\", \"accessory\", \"advantage\", \"airtel\", \"alot\", \"amazing\", \"amazing\", \"amazon\", \"amazon\", \"android\", \"anybody\", \"app\", \"app\", \"app\", \"app\", \"application\", \"application\", \"application\", \"application\", \"apps\", \"apps\", \"aspect\", \"aspect\", \"atmos\", \"atmos\", \"aug\", \"aur\", \"auto\", \"auto\", \"avarage\", \"avoid\", \"awesome\", \"awsome\", \"background\", \"backup\", \"backup\", \"bahut\", \"basis\", \"batter\", \"battery\", \"battery\", \"battry\", \"beast\", \"bed\", \"bekar\", \"betry\", \"better\", \"bettery\", \"bettry\", \"bhi\", \"bill\", \"bit\", \"bit\", \"bit\", \"bit\", \"bluetooth\", \"blur\", \"bokeh\", \"book\", \"bottom\", \"box\", \"brand\", \"brand\", \"brand\", \"break\", \"brightness\", \"bt\", \"bty\", \"budget\", \"bug\", \"build\", \"button\", \"button\", \"buy\", \"buy\", \"buy\", \"buy\", \"buy\", \"buy\", \"buy\", \"buying\", \"buying\", \"buying\", \"bye\", \"cable\", \"cable\", \"cable\", \"call\", \"call\", \"call\", \"caller\", \"cam\", \"camera\", \"camra\", \"capacity\", \"capture\", \"card\", \"care\", \"case\", \"case\", \"case\", \"case\", \"cash\", \"cash\", \"cash\", \"cashback\", \"cast\", \"cell\", \"center\", \"centre\", \"change\", \"change\", \"charge\", \"charge\", \"charger\", \"charger\", \"charging\", \"cheat\", \"check\", \"check\", \"check\", \"china\", \"choice\", \"choice\", \"clarity\", \"class\", \"clearity\", \"colour\", \"colour\", \"combination\", \"company\", \"company\", \"company\", \"company\", \"company\", \"comparison\", \"comparison\", \"con\", \"con\", \"condition\", \"condition\", \"condition\", \"condition\", \"configuration\", \"configuration\", \"configuration\", \"connection\", \"connection\", \"connectivity\", \"connectivity\", \"connectivity\", \"connectivity\", \"connectivity\", \"consumption\", \"contact\", \"contact\", \"cool\", \"coolpad\", \"copy\", \"core\", \"cost\", \"cost\", \"courier\", \"cover\", \"cover\", \"cover\", \"coverage\", \"cpu\", \"crack\", \"customer\", \"damage\", \"data\", \"data\", \"data\", \"data\", \"data\", \"date\", \"date\", \"day\", \"day\", \"day\", \"day\", \"day\", \"daylight\", \"deal\", \"deal\", \"deal\", \"deca\", \"delivery\", \"delivery\", \"delivery\", \"depth\", \"description\", \"design\", \"design\", \"design\", \"detection\", \"device\", \"difficulty\", \"difficulty\", \"difficulty\", \"din\", \"disappointment\", \"disappointment\", \"discharge\", \"discharge\", \"discharge\", \"discount\", \"display\", \"display\", \"display\", \"display\", \"divice\", \"diwali\", \"dnt\", \"dnt\", \"dolby\", \"dolby\", \"dolby\", \"dont\", \"dont\", \"doubt\", \"doubt\", \"download\", \"drain\", \"drainage\", \"draining\", \"dslr\", \"duel\", \"duration\", \"earphone\", \"effect\", \"effort\", \"electronics\", \"engineer\", \"everything\", \"excellent\", \"exchange\", \"exchange\", \"expectation\", \"expectation\", \"experience\", \"experience\", \"experience\", \"experience\", \"experience\", \"experience\", \"experience\", \"experience\", \"face\", \"facility\", \"fall\", \"faltu\", \"faltu\", \"family\", \"fast\", \"fast\", \"fast\", \"feature\", \"feature\", \"feature\", \"feature\", \"feature\", \"feedback\", \"feel\", \"feel\", \"feel\", \"feel\", \"feeling\", \"feeling\", \"file\", \"fine\", \"finger\", \"finger\", \"fingerprint\", \"fingerprint\", \"fire\", \"fix\", \"flash\", \"flash\", \"flash\", \"flashlight\", \"flipkart\", \"focus\", \"folder\", \"fone\", \"foot\", \"form\", \"forum\", \"fraud\", \"front\", \"function\", \"function\", \"function\", \"future\", \"g+\", \"gallery\", \"game\", \"game\", \"game\", \"game\", \"gb\", \"get\", \"get\", \"get\", \"get\", \"get\", \"gift\", \"glass\", \"gmail\", \"go\", \"go\", \"go\", \"god\", \"god\", \"gold\", \"good\", \"good\", \"google\", \"gorilla\", \"gr\", \"guard\", \"gud\", \"ha\", \"hai\", \"hand\", \"hand\", \"hand\", \"handset\", \"handset\", \"handsfree\", \"hang\", \"hang\", \"hanging\", \"head\", \"headphone\", \"headphone\", \"headset\", \"headset\", \"heat\", \"heat\", \"heat\", \"heating\", \"heating\", \"heating\", \"heatup\", \"height\", \"help\", \"help\", \"hi\", \"history\", \"hitting\", \"ho\", \"hone\", \"hope\", \"hota\", \"hotspot\", \"hour\", \"hr\", \"hr\", \"iam\", \"icon\", \"idle\", \"image\", \"image\", \"impression\", \"inbuilt\", \"increase\", \"indicator\", \"indoor\", \"internet\", \"internet\", \"internet\", \"invoice\", \"invoice\", \"iron\", \"iron\", \"iska\", \"issue\", \"issue\", \"issue\", \"issue\", \"item\", \"item\", \"jack\", \"jack\", \"jio\", \"jio\", \"job\", \"joke\", \"ka\", \"ke\", \"key\", \"key\", \"key\", \"kharab\", \"ki\", \"killer\", \"ko\", \"koi\", \"lag\", \"lag\", \"lag\", \"lenevo\", \"lenevo\", \"lenova\", \"lenovo\", \"lenovo\", \"lenovo\", \"lenovo\", \"lenovo\", \"lenovo\", \"lenovo\", \"lenovo\", \"lenovo\", \"lie\", \"life\", \"life\", \"light\", \"light\", \"limit\", \"list\", \"lock\", \"lock\", \"look\", \"look\", \"look\", \"look\", \"lot\", \"lot\", \"lot\", \"lot\", \"loudspeaker\", \"love\", \"lte\", \"mah\", \"man\", \"management\", \"management\", \"manager\", \"manufacturing\", \"mark\", \"mark\", \"mark\", \"market\", \"market\", \"market\", \"marketing\", \"mat\", \"matter\", \"mean\", \"memory\", \"mention\", \"mera\", \"message\", \"message\", \"mh\", \"mi\", \"mi\", \"mid\", \"min\", \"min\", \"min\", \"min\", \"mind\", \"minimum\", \"mint\", \"minute\", \"minute\", \"minute\", \"minute\", \"mob\", \"mobail\", \"mobil\", \"mobile\", \"mode\", \"mode\", \"mode\", \"mode\", \"model\", \"model\", \"model\", \"money\", \"money\", \"month\", \"month\", \"month\", \"month\", \"month\", \"month\", \"month\", \"month\", \"moto\", \"moto\", \"moto\", \"mp\", \"msg\", \"music\", \"music\", \"music\", \"nahi\", \"name\", \"name\", \"name\", \"navigation\", \"net\", \"network\", \"network\", \"nhi\", \"nice\", \"nice\", \"note\", \"note\", \"note\", \"nothing\", \"notification\", \"notification\", \"number\", \"number\", \"nyc\", \"object\", \"oct\", \"offer\", \"offer\", \"ok\", \"okay\", \"one\", \"one\", \"one\", \"operating\", \"operation\", \"option\", \"option\", \"option\", \"option\", \"oreo\", \"others\", \"others\", \"others\", \"others\", \"others\", \"otherwise\", \"output\", \"overall\", \"pack\", \"package\", \"package\", \"packaging\", \"packet\", \"packing\", \"paisa\", \"panel\", \"paper\", \"par\", \"patch\", \"pc\", \"peace\", \"percent\", \"percent\", \"percentage\", \"percentage\", \"perfect\", \"performance\", \"performance\", \"performance\", \"period\", \"period\", \"ph\", \"ph\", \"phn\", \"phn\", \"phon\", \"phone\", \"phone\", \"phone\", \"phone\", \"phone\", \"phone\", \"phone\", \"phonecamera\", \"photo\", \"photo\", \"pic\", \"pick\", \"picture\", \"picture\", \"piece\", \"piece\", \"pin\", \"pixel\", \"player\", \"please\", \"please\", \"please\", \"please\", \"please\", \"pls\", \"pls\", \"plz\", \"plz\", \"pocket\", \"pocket\", \"point\", \"point\", \"point\", \"policy\", \"port\", \"power\", \"power\", \"power\", \"power\", \"power\", \"price\", \"print\", \"print\", \"problem\", \"problem\", \"process\", \"process\", \"processing\", \"processing\", \"processor\", \"processor\", \"product\", \"protection\", \"provide\", \"purchase\", \"purchase\", \"purchase\", \"purchase\", \"purchase\", \"quality\", \"quality\", \"quick\", \"raha\", \"ram\", \"range\", \"rating\", \"rating\", \"rear\", \"reception\", \"reception\", \"record\", \"recorder\", \"recording\", \"redmi\", \"redmi\", \"redmi\", \"refund\", \"refund\", \"regret\", \"repair\", \"replacement\", \"reply\", \"request\", \"requirement\", \"reset\", \"respect\", \"responsibility\", \"rest\", \"rest\", \"restart\", \"return\", \"review\", \"review\", \"review\", \"rha\", \"ringtone\", \"rom\", \"rupee\", \"rupee\", \"sale\", \"sale\", \"sale\", \"scanner\", \"scratch\", \"screen\", \"screen\", \"sd\", \"se\", \"seal\", \"search\", \"security\", \"segment\", \"selfi\", \"selfie\", \"selfies\", \"seller\", \"sensor\", \"sensor\", \"sensor\", \"sensor\", \"series\", \"service\", \"set\", \"setting\", \"setup\", \"show\", \"show\", \"show\", \"side\", \"side\", \"signal\", \"signal\", \"signal\", \"sim\", \"sim\", \"sir\", \"size\", \"size\", \"slot\", \"slot\", \"sm\", \"smart\", \"smartphone\", \"smartphone\", \"smartphone\", \"smartphones\", \"smooth\", \"software\", \"software\", \"software\", \"solution\", \"solution\", \"someone\", \"someone\", \"sound\", \"sound\", \"sound\", \"space\", \"speaker\", \"spec\", \"spec\", \"spec\", \"specification\", \"specification\", \"specification\", \"specification\", \"specification\", \"speed\", \"speed\", \"speed\", \"speed\", \"speed\", \"spot\", \"standby\", \"star\", \"status\", \"stereo\", \"stock\", \"storage\", \"strength\", \"strength\", \"subject\", \"suck\", \"super\", \"superb\", \"support\", \"support\", \"system\", \"system\", \"tag\", \"team\", \"temp\", \"test\", \"th\", \"thank\", \"thank\", \"thanks\", \"thanks\", \"thanks\", \"thats\", \"thing\", \"thing\", \"thing\", \"thing\", \"thing\", \"ti\", \"till\", \"till\", \"time\", \"time\", \"time\", \"time\", \"time\", \"time\", \"toh\", \"tone\", \"tooo\", \"touch\", \"touch\", \"touch\", \"touch\", \"touch\", \"trap\", \"trouble\", \"trust\", \"turbo\", \"turbo\", \"tv\", \"ui\", \"ui\", \"unlock\", \"update\", \"update\", \"usage\", \"usage\", \"usage\", \"use\", \"use\", \"use\", \"use\", \"user\", \"user\", \"user\", \"value\", \"verry\", \"version\", \"version\", \"video\", \"visit\", \"vodafone\", \"voice\", \"voice\", \"volta\", \"volta\", \"volume\", \"volume\", \"vr\", \"vr\", \"warranty\", \"warranty\", \"warranty\", \"wastage\", \"waste\", \"water\", \"week\", \"week\", \"week\", \"week\", \"week\", \"weight\", \"west\", \"whats\", \"whats\", \"wifi\", \"wifi\", \"wifi\", \"wifi\", \"wire\", \"wireless\", \"wise\", \"wont\", \"word\", \"word\", \"work\", \"work\", \"work\", \"work\", \"work\", \"work\", \"working\", \"world\", \"worth\", \"worth\", \"worthless\", \"worthless\", \"wow\", \"wrost\", \"wtf\", \"ye\", \"year\", \"yes\", \"youtube\"]}, \"R\": 30, \"lambda.step\": 0.01, \"plot.opts\": {\"xlab\": \"PC1\", \"ylab\": \"PC2\"}, \"topic.order\": [10, 7, 12, 8, 5, 2, 9, 6, 3, 4, 11, 1]};\n",
       "\n",
       "function LDAvis_load_lib(url, callback){\n",
       "  var s = document.createElement('script');\n",
       "  s.src = url;\n",
       "  s.async = true;\n",
       "  s.onreadystatechange = s.onload = callback;\n",
       "  s.onerror = function(){console.warn(\"failed to load library \" + url);};\n",
       "  document.getElementsByTagName(\"head\")[0].appendChild(s);\n",
       "}\n",
       "\n",
       "if(typeof(LDAvis) !== \"undefined\"){\n",
       "   // already loaded: just create the visualization\n",
       "   !function(LDAvis){\n",
       "       new LDAvis(\"#\" + \"ldavis_el881403259698368805347006312\", ldavis_el881403259698368805347006312_data);\n",
       "   }(LDAvis);\n",
       "}else if(typeof define === \"function\" && define.amd){\n",
       "   // require.js is available: use it to load d3/LDAvis\n",
       "   require.config({paths: {d3: \"https://d3js.org/d3.v5\"}});\n",
       "   require([\"d3\"], function(d3){\n",
       "      window.d3 = d3;\n",
       "      LDAvis_load_lib(\"https://cdn.jsdelivr.net/gh/bmabey/pyLDAvis@3.4.0/pyLDAvis/js/ldavis.v3.0.0.js\", function(){\n",
       "        new LDAvis(\"#\" + \"ldavis_el881403259698368805347006312\", ldavis_el881403259698368805347006312_data);\n",
       "      });\n",
       "    });\n",
       "}else{\n",
       "    // require.js not available: dynamically load d3 & LDAvis\n",
       "    LDAvis_load_lib(\"https://d3js.org/d3.v5.js\", function(){\n",
       "         LDAvis_load_lib(\"https://cdn.jsdelivr.net/gh/bmabey/pyLDAvis@3.4.0/pyLDAvis/js/ldavis.v3.0.0.js\", function(){\n",
       "                 new LDAvis(\"#\" + \"ldavis_el881403259698368805347006312\", ldavis_el881403259698368805347006312_data);\n",
       "            })\n",
       "         });\n",
       "}\n",
       "</script>"
      ],
      "text/plain": [
       "PreparedData(topic_coordinates=              x         y  topics  cluster       Freq\n",
       "topic                                                \n",
       "9     -0.257305 -0.058276       1        1  13.581669\n",
       "6     -0.090363  0.023797       2        1  13.359372\n",
       "11    -0.174660 -0.150986       3        1  11.991148\n",
       "7      0.034660  0.225454       4        1  10.966821\n",
       "4     -0.266737 -0.035952       5        1  10.400178\n",
       "1     -0.034238  0.037382       6        1   7.577092\n",
       "8      0.100568  0.237872       7        1   7.559699\n",
       "5      0.127105  0.170558       8        1   5.876918\n",
       "2      0.213546 -0.249858       9        1   5.292237\n",
       "3      0.028571  0.052198      10        1   4.762320\n",
       "10     0.214340 -0.206860      11        1   4.696789\n",
       "0      0.104513 -0.045330      12        1   3.935758, topic_info=        Term         Freq        Total Category  logprob  loglift\n",
       "15     phone  6778.000000  6778.000000  Default  30.0000  30.0000\n",
       "46   product  2268.000000  2268.000000  Default  29.0000  29.0000\n",
       "53    camera  3259.000000  3259.000000  Default  28.0000  28.0000\n",
       "4    battery  3127.000000  3127.000000  Default  27.0000  27.0000\n",
       "12    mobile  1435.000000  1435.000000  Default  26.0000  26.0000\n",
       "..       ...          ...          ...      ...      ...      ...\n",
       "159  process    36.901496    46.643373  Topic12  -4.4220   3.0008\n",
       "325  version    52.303964   100.095034  Topic12  -4.0731   2.5860\n",
       "425     show    29.413493    52.678987  Topic12  -4.6488   2.6523\n",
       "40      time    43.139302  1025.073220  Topic12  -4.2658   0.0670\n",
       "22    lenovo    30.408013   998.999138  Topic12  -4.6155  -0.2570\n",
       "\n",
       "[636 rows x 6 columns], token_table=      Topic      Freq       Term\n",
       "term                            \n",
       "269       5  0.789373  accessory\n",
       "269       8  0.139301  accessory\n",
       "479       3  0.913655  advantage\n",
       "359       2  0.943377     airtel\n",
       "1070     10  0.906854       alot\n",
       "...     ...       ...        ...\n",
       "1110      3  0.900860        wtf\n",
       "246      12  0.973700         ye\n",
       "24        2  0.988700       year\n",
       "619      10  0.971343        yes\n",
       "395       6  0.976546    youtube\n",
       "\n",
       "[874 rows x 3 columns], R=30, lambda_step=0.01, plot_opts={'xlab': 'PC1', 'ylab': 'PC2'}, topic_order=[10, 7, 12, 8, 5, 2, 9, 6, 3, 4, 11, 1])"
      ]
     },
     "execution_count": 88,
     "metadata": {},
     "output_type": "execute_result"
    }
   ],
   "source": [
    "vis = pyLDAvis.gensim.prepare(lda_model,bow_texta,dictionary)\n",
    "vis"
   ]
  },
  {
   "cell_type": "code",
   "execution_count": 89,
   "metadata": {
    "id": "GRUzHbzMvpDr"
   },
   "outputs": [],
   "source": [
    "#as we could see from the sketch above there are topics that overlap!"
   ]
  },
  {
   "cell_type": "code",
   "execution_count": 91,
   "metadata": {
    "id": "GYif2_fmvpGC"
   },
   "outputs": [],
   "source": [
    "#Create topic model using LDA with what you think is the optimal number of topics\n",
    "\n",
    "#What is the coherence of the model?"
   ]
  },
  {
   "cell_type": "code",
   "execution_count": 108,
   "metadata": {
    "id": "AVRwHR2FvpIY"
   },
   "outputs": [],
   "source": [
    "lda_modela = gensim.models.LdaMulticore(bow_texta,\n",
    "                                   num_topics = 6,\n",
    "                                   id2word = dictionary,\n",
    "                                   workers=2,\n",
    "                                   passes = 50)"
   ]
  },
  {
   "cell_type": "code",
   "execution_count": null,
   "metadata": {
    "id": "455MCYxmvpKv"
   },
   "outputs": [],
   "source": []
  },
  {
   "cell_type": "code",
   "execution_count": 114,
   "metadata": {
    "id": "QOWZFkt1vpNU"
   },
   "outputs": [
    {
     "data": {
      "text/plain": [
       "[(0,\n",
       "  '0.146*\"mobile\" + 0.056*\"camera\" + 0.037*\"display\" + 0.034*\"performance\" + 0.030*\"screen\" + 0.023*\"glass\" + 0.022*\"ram\" + 0.021*\"processor\" + 0.020*\"android\" + 0.018*\"gb\"'),\n",
       " (1,\n",
       "  '0.043*\"network\" + 0.039*\"call\" + 0.036*\"phone\" + 0.034*\"device\" + 0.032*\"option\" + 0.031*\"problem\" + 0.030*\"speaker\" + 0.020*\"screen\" + 0.017*\"app\" + 0.017*\"hai\"'),\n",
       " (2,\n",
       "  '0.137*\"phone\" + 0.073*\"issue\" + 0.072*\"note\" + 0.060*\"lenovo\" + 0.033*\"feature\" + 0.028*\"update\" + 0.023*\"software\" + 0.017*\"time\" + 0.017*\"lot\" + 0.015*\"experience\"'),\n",
       " (3,\n",
       "  '0.220*\"battery\" + 0.071*\"phone\" + 0.069*\"problem\" + 0.044*\"backup\" + 0.038*\"hour\" + 0.038*\"heating\" + 0.038*\"issue\" + 0.037*\"day\" + 0.028*\"time\" + 0.022*\"life\"'),\n",
       " (4,\n",
       "  '0.200*\"product\" + 0.057*\"phone\" + 0.049*\"amazon\" + 0.043*\"service\" + 0.024*\"day\" + 0.021*\"charger\" + 0.021*\"delivery\" + 0.019*\"customer\" + 0.019*\"month\" + 0.019*\"time\"'),\n",
       " (5,\n",
       "  '0.197*\"phone\" + 0.175*\"camera\" + 0.086*\"quality\" + 0.057*\"price\" + 0.040*\"money\" + 0.023*\"range\" + 0.022*\"performance\" + 0.019*\"waste\" + 0.018*\"feature\" + 0.016*\"mode\"')]"
      ]
     },
     "execution_count": 114,
     "metadata": {},
     "output_type": "execute_result"
    }
   ],
   "source": [
    "lda_modela.print_topics()"
   ]
  },
  {
   "cell_type": "code",
   "execution_count": null,
   "metadata": {
    "id": "xDRyJY17vpPc"
   },
   "outputs": [],
   "source": []
  },
  {
   "cell_type": "code",
   "execution_count": 115,
   "metadata": {
    "id": "HWufJgicvpj9"
   },
   "outputs": [
    {
     "name": "stdout",
     "output_type": "stream",
     "text": [
      "Coherence Score1 for this LDA model is:  0.6967715229591317\n"
     ]
    }
   ],
   "source": [
    "coherence_score1 = CoherenceModel(model=lda_modela, texts=review_preprocessed, dictionary=dictionary, coherence='c_v')\n",
    "coherence_lda = coherence_score1.get_coherence()\n",
    "print('Coherence Score1 for this LDA model is: ', coherence_lda)"
   ]
  },
  {
   "cell_type": "code",
   "execution_count": 116,
   "metadata": {
    "id": "xn_zhJ4Jvpmq"
   },
   "outputs": [],
   "source": [
    "#so the better is 6 subjects, i tired also 8 and the coherence score was 0.61"
   ]
  },
  {
   "cell_type": "code",
   "execution_count": 117,
   "metadata": {
    "id": "mHCNxGUEvpoZ"
   },
   "outputs": [
    {
     "data": {
      "text/plain": [
       "[(0,\n",
       "  [('mobile', 0.1462372),\n",
       "   ('camera', 0.055647966),\n",
       "   ('display', 0.037010517),\n",
       "   ('performance', 0.03429987),\n",
       "   ('screen', 0.029655164),\n",
       "   ('glass', 0.023288537),\n",
       "   ('ram', 0.022406206),\n",
       "   ('processor', 0.020650353),\n",
       "   ('android', 0.019851185),\n",
       "   ('gb', 0.017588228)]),\n",
       " (1,\n",
       "  [('network', 0.04261614),\n",
       "   ('call', 0.039147615),\n",
       "   ('phone', 0.036331084),\n",
       "   ('device', 0.034479283),\n",
       "   ('option', 0.032084424),\n",
       "   ('problem', 0.03126672),\n",
       "   ('speaker', 0.029545443),\n",
       "   ('screen', 0.019889243),\n",
       "   ('app', 0.017273793),\n",
       "   ('hai', 0.016677612)]),\n",
       " (2,\n",
       "  [('phone', 0.13724747),\n",
       "   ('issue', 0.07309614),\n",
       "   ('note', 0.07196024),\n",
       "   ('lenovo', 0.05972418),\n",
       "   ('feature', 0.03307866),\n",
       "   ('update', 0.02762074),\n",
       "   ('software', 0.0232542),\n",
       "   ('time', 0.017052373),\n",
       "   ('lot', 0.01667775),\n",
       "   ('experience', 0.015275162)]),\n",
       " (3,\n",
       "  [('battery', 0.21995814),\n",
       "   ('phone', 0.070950225),\n",
       "   ('problem', 0.06946457),\n",
       "   ('backup', 0.044454414),\n",
       "   ('hour', 0.037596576),\n",
       "   ('heating', 0.037576847),\n",
       "   ('issue', 0.03757439),\n",
       "   ('day', 0.03739058),\n",
       "   ('time', 0.028306473),\n",
       "   ('life', 0.022299351)]),\n",
       " (4,\n",
       "  [('product', 0.20020136),\n",
       "   ('phone', 0.05690809),\n",
       "   ('amazon', 0.049064368),\n",
       "   ('service', 0.043363515),\n",
       "   ('day', 0.023589153),\n",
       "   ('charger', 0.021359615),\n",
       "   ('delivery', 0.020572815),\n",
       "   ('customer', 0.01922744),\n",
       "   ('month', 0.019212782),\n",
       "   ('time', 0.018997744)]),\n",
       " (5,\n",
       "  [('phone', 0.19732101),\n",
       "   ('camera', 0.1747473),\n",
       "   ('quality', 0.085732386),\n",
       "   ('price', 0.05703445),\n",
       "   ('money', 0.040277526),\n",
       "   ('range', 0.022609858),\n",
       "   ('performance', 0.021861345),\n",
       "   ('waste', 0.018976824),\n",
       "   ('feature', 0.018285885),\n",
       "   ('mode', 0.016104955)])]"
      ]
     },
     "execution_count": 117,
     "metadata": {},
     "output_type": "execute_result"
    }
   ],
   "source": [
    "lda_modela.show_topics(formatted=False)\n",
    "\n",
    "#I found this code from external source. It was easier to understand it this way"
   ]
  },
  {
   "cell_type": "code",
   "execution_count": null,
   "metadata": {
    "id": "ClsnvUB6vptt"
   },
   "outputs": [],
   "source": []
  },
  {
   "cell_type": "code",
   "execution_count": 118,
   "metadata": {
    "id": "QeIc98-TvpwO"
   },
   "outputs": [
    {
     "data": {
      "text/html": [
       "\n",
       "<link rel=\"stylesheet\" type=\"text/css\" href=\"https://cdn.jsdelivr.net/gh/bmabey/pyLDAvis@3.4.0/pyLDAvis/js/ldavis.v1.0.0.css\">\n",
       "\n",
       "\n",
       "<div id=\"ldavis_el881403244244780323252696879\" style=\"background-color:white;\"></div>\n",
       "<script type=\"text/javascript\">\n",
       "\n",
       "var ldavis_el881403244244780323252696879_data = {\"mdsDat\": {\"x\": [-0.1553204848146955, 0.1959978348731942, 0.09493053341849925, -0.02237302369818309, 0.21313679863000706, -0.3263716584088224], \"y\": [0.22899063908151118, 0.06384702646777424, 0.08794452160499597, -0.27604503874573544, -0.04755210210299069, -0.057185046305555626], \"topics\": [1, 2, 3, 4, 5, 6], \"cluster\": [1, 1, 1, 1, 1, 1], \"Freq\": [19.989467677107186, 18.433209270617496, 17.273782478010588, 16.635850636696254, 14.785007076371121, 12.882682861197356]}, \"tinfo\": {\"Term\": [\"battery\", \"product\", \"camera\", \"mobile\", \"quality\", \"phone\", \"issue\", \"price\", \"problem\", \"note\", \"lenovo\", \"amazon\", \"backup\", \"money\", \"network\", \"service\", \"hour\", \"heating\", \"call\", \"option\", \"performance\", \"device\", \"display\", \"speaker\", \"screen\", \"update\", \"feature\", \"day\", \"software\", \"heat\", \"quality\", \"money\", \"waste\", \"value\", \"depth\", \"superb\", \"price\", \"worth\", \"awesome\", \"drainage\", \"blur\", \"range\", \"vr\", \"world\", \"category\", \"clearity\", \"wow\", \"perfect\", \"duel\", \"tag\", \"dslr\", \"bcoz\", \"picture\", \"overall\", \"cheap\", \"bokeh\", \"selfie\", \"advertisement\", \"section\", \"object\", \"cam\", \"camera\", \"pic\", \"class\", \"result\", \"wise\", \"rear\", \"effect\", \"mode\", \"phone\", \"image\", \"mp\", \"budget\", \"front\", \"sound\", \"look\", \"performance\", \"feature\", \"everything\", \"dolby\", \"photo\", \"mark\", \"buy\", \"video\", \"backup\", \"heating\", \"hour\", \"battery\", \"heat\", \"charge\", \"hr\", \"drain\", \"charging\", \"mah\", \"super\", \"hanging\", \"capacity\", \"draining\", \"discharge\", \"net\", \"mob\", \"suck\", \"concern\", \"morning\", \"scanner\", \"warm\", \"jata\", \"life\", \"cool\", \"pm\", \"idle\", \"us\", \"bettry\", \"consumption\", \"camara\", \"minute\", \"turbo\", \"use\", \"usage\", \"problem\", \"hang\", \"day\", \"fast\", \"min\", \"time\", \"issue\", \"charger\", \"game\", \"performance\", \"phone\", \"month\", \"internet\", \"lot\", \"power\", \"update\", \"software\", \"smartphone\", \"expectation\", \"killer\", \"excellent\", \"brand\", \"system\", \"moto\", \"way\", \"cell\", \"weight\", \"others\", \"someone\", \"configuration\", \"hope\", \"redmi\", \"buyer\", \"series\", \"smart\", \"opinion\", \"mistake\", \"water\", \"vibe\", \"love\", \"fan\", \"browsing\", \"casting\", \"discount\", \"guess\", \"market\", \"bug\", \"lenovo\", \"note\", \"user\", \"issue\", \"review\", \"lot\", \"model\", \"nothing\", \"experience\", \"feature\", \"people\", \"phone\", \"specification\", \"handset\", \"company\", \"apps\", \"processor\", \"time\", \"month\", \"please\", \"game\", \"day\", \"call\", \"option\", \"network\", \"speaker\", \"app\", \"hai\", \"cast\", \"jio\", \"contact\", \"side\", \"gallery\", \"voice\", \"volta\", \"signal\", \"notification\", \"message\", \"auto\", \"recorder\", \"tv\", \"ho\", \"player\", \"facility\", \"recording\", \"ringtone\", \"bhi\", \"strength\", \"ka\", \"hotspot\", \"lock\", \"bar\", \"device\", \"setting\", \"volume\", \"wifi\", \"hi\", \"sim\", \"button\", \"screen\", \"music\", \"problem\", \"data\", \"video\", \"phone\", \"work\", \"note\", \"time\", \"feature\", \"support\", \"product\", \"amazon\", \"service\", \"delivery\", \"customer\", \"replacement\", \"return\", \"center\", \"care\", \"centre\", \"item\", \"pls\", \"policy\", \"warranty\", \"help\", \"cable\", \"team\", \"order\", \"th\", \"process\", \"complaint\", \"seller\", \"cash\", \"fine\", \"faulty\", \"description\", \"fall\", \"site\", \"accessory\", \"working\", \"thanks\", \"request\", \"ok\", \"piece\", \"purchase\", \"box\", \"charger\", \"offer\", \"month\", \"please\", \"day\", \"phone\", \"time\", \"problem\", \"lenovo\", \"experience\", \"refund\", \"buy\", \"mobile\", \"glass\", \"ram\", \"android\", \"stock\", \"earphone\", \"memory\", \"clarity\", \"con\", \"gorilla\", \"pro\", \"finger\", \"gud\", \"bill\", \"print\", \"package\", \"build\", \"scratch\", \"good\", \"future\", \"guard\", \"area\", \"setup\", \"protection\", \"sd\", \"rom\", \"copy\", \"sensor\", \"pack\", \"tray\", \"display\", \"headphone\", \"gb\", \"fingerprint\", \"cost\", \"card\", \"processor\", \"slot\", \"screen\", \"core\", \"performance\", \"camera\", \"music\", \"speed\", \"sim\", \"thing\", \"note\", \"work\", \"sound\"], \"Freq\": [3170.0, 2311.0, 3287.0, 1471.0, 1338.0, 7079.0, 1580.0, 897.0, 1620.0, 1261.0, 990.0, 567.0, 640.0, 629.0, 554.0, 501.0, 541.0, 541.0, 509.0, 417.0, 976.0, 483.0, 399.0, 384.0, 579.0, 373.0, 867.0, 977.0, 314.0, 319.0, 1337.800561453586, 628.5057423923289, 296.1215429622279, 232.73484834571178, 178.26902846028045, 148.00120190440649, 889.9871477842393, 101.77124294969832, 61.95708290637571, 25.45678030454096, 22.335174261946925, 352.8127712035482, 19.732376869626282, 19.071183996910523, 17.776417666100254, 16.56413172870378, 16.107128875829684, 15.813237522484808, 14.241740243500649, 12.478915300977494, 11.243862965676467, 11.15236139276983, 145.46668281502946, 10.584704672306653, 9.766898237847796, 41.78980198543199, 62.029303206802076, 9.357227511891882, 9.33299240202197, 8.89151320789859, 68.90132020474259, 2726.822994950713, 73.51624753983576, 61.10845259482573, 48.684722533724035, 44.109887311278264, 57.7173719676269, 98.79871525891257, 251.3078110921057, 3079.071693563307, 78.85322528574167, 83.97155114915138, 119.39826436096749, 117.47108900542052, 197.24745380490273, 104.72199337512761, 341.13268715974556, 285.3398710267577, 109.18025083422793, 88.87030956935918, 79.60858466698951, 77.07112997027046, 65.2761866560342, 65.3822609035062, 639.6775130463474, 540.7126428526201, 540.9965355937763, 3165.0912243830767, 318.3914985601628, 317.9433597164948, 224.90520613796437, 224.06838993535783, 194.49978967196168, 146.08837156813348, 115.1088710176496, 42.11387128594449, 40.60476976046897, 40.249964139789164, 33.202612287876235, 29.225772037797938, 27.113373309963222, 25.224688870010446, 23.1695839696695, 22.965065341960976, 21.15731793987701, 18.42183334281613, 15.428074228792438, 320.87687337083815, 30.040187998861672, 13.149765126835613, 12.02938283930238, 11.685598097257786, 11.390558840455027, 10.996256293728553, 19.93840775772647, 93.91394070689611, 196.3581587386569, 281.21465592172393, 161.39879929950214, 999.5615760433092, 106.50596544926641, 538.0323330054616, 54.054597111820925, 88.21767922402991, 407.31645050198114, 540.6773170753502, 214.11434709344368, 122.47822215383985, 290.3659888217115, 1020.9394070400191, 152.71510410734345, 65.56358391191029, 86.0953250194162, 56.90072771203341, 372.45001544053054, 313.56970810309616, 156.2765545654222, 143.512956674684, 120.78570930405863, 102.4058698904154, 99.02735798788265, 175.58303116332797, 88.76879433918911, 73.02620354658828, 65.8868028977041, 43.45127987329146, 41.78622073573462, 41.299540460612214, 39.225003545547764, 38.0225785696838, 65.7270166466424, 32.517801880972264, 29.366260298084345, 26.816687844117638, 28.09949258183333, 25.225826617342832, 24.297098466695104, 33.22967546827101, 22.74948508069475, 19.032324532260326, 18.455853576758333, 17.46702113109891, 17.42713265073307, 16.338015447903587, 43.332050835088154, 74.0847851051802, 805.34666669552, 970.3430283046753, 108.09935786518356, 985.6600038314505, 157.65784821530448, 224.89000274610785, 109.34264773364428, 97.05360502466581, 205.97689155410498, 446.0469586225966, 81.66777202828149, 1850.7043259497666, 86.87535834604066, 119.14665538357146, 83.45130356305242, 96.45349767212058, 128.3325281599569, 229.94157659898394, 156.7215222588728, 91.75158614394374, 84.688910775121, 96.62461156089657, 508.38831799075894, 416.66257817993176, 553.4321195269134, 383.69024453713183, 224.32514649979075, 216.58288102961916, 152.25674518696766, 145.19460568290623, 127.23147434307538, 121.99947285277474, 115.77374532922893, 110.6862981218701, 110.72743174940398, 106.74337202805417, 105.84103255454025, 82.1568316571968, 74.61353998101926, 72.79055590453757, 70.47168847148335, 69.90281439389729, 56.81895854807234, 50.80816964896595, 48.43217049786903, 48.24531546153125, 46.266758950186755, 43.45804032660896, 42.999919236595574, 42.231629913264506, 42.25274098261481, 41.721375185648995, 447.76327734438144, 49.03622162799327, 103.86334080484488, 86.4204633771528, 60.359044800934136, 213.98939432376736, 100.89720834834722, 258.29054097456736, 137.50902745538423, 406.043498641777, 110.77906346241255, 123.70167452073918, 471.8115852269962, 123.34737623053697, 193.08775452193677, 175.2392917862367, 134.86161106850523, 97.89291752817141, 2310.648059200303, 566.2822938579882, 500.4852177458222, 237.44361525754042, 221.91580179469372, 175.5127398936373, 167.56879864181212, 144.2457236982429, 117.5307463652818, 89.17152038960596, 83.47949400084404, 98.89335224439165, 82.6658721157896, 76.55884406836539, 71.02613893229893, 56.410198326727894, 56.206381707311834, 54.78083700927176, 50.2344091098601, 41.15570433176096, 48.389573913606704, 36.60691703314767, 33.22227288663008, 31.510133741147516, 28.885828828921216, 27.44778845173808, 24.20033073875435, 22.259288218449267, 22.11160003994958, 21.234097018424414, 124.80089909977048, 52.843157573363996, 72.27512640215461, 93.81884888266572, 140.49814859731143, 121.28632944983613, 246.52456119615684, 44.34874269026595, 221.7466344842821, 129.92956652790664, 272.2570395558771, 656.8115490601513, 219.2647400056443, 214.03661234601503, 170.39980895949293, 90.76858104828798, 61.744756925742145, 63.527457693362024, 1470.6502437763174, 234.20370210908084, 225.33044165768393, 199.635603737008, 171.14105956132008, 148.99132613069716, 143.31416689701476, 141.22052190085225, 128.12539238186875, 118.38301890530882, 74.66147310296886, 68.057993641605, 65.50490681244654, 64.70324265253173, 55.931265548881086, 49.161835560696254, 42.442279238754146, 39.415603314090866, 38.020103010319374, 32.523109469080445, 29.041400730835992, 27.116925805676804, 25.21718634578466, 23.10016160514172, 22.19194106948168, 20.171687631756363, 20.059094903355074, 119.973113142434, 17.140006779318725, 16.256679759276498, 372.20028719858976, 141.8278660813547, 176.87792670529308, 57.59598296643611, 78.21497884722272, 113.27074801568223, 207.672522610788, 96.22179345806995, 298.23038155193325, 80.3444439065862, 344.9403621185104, 559.6298145423277, 112.80791102700306, 94.94971994155915, 79.33164789291057, 74.63217173867959, 85.65678078393313, 73.34708423921211, 74.36831897087549], \"Total\": [3170.0, 2311.0, 3287.0, 1471.0, 1338.0, 7079.0, 1580.0, 897.0, 1620.0, 1261.0, 990.0, 567.0, 640.0, 629.0, 554.0, 501.0, 541.0, 541.0, 509.0, 417.0, 976.0, 483.0, 399.0, 384.0, 579.0, 373.0, 867.0, 977.0, 314.0, 319.0, 1338.6462381637327, 629.3518549180814, 296.9672615105505, 233.5779080118924, 179.11347936032544, 148.84378080239776, 897.2579925503156, 102.6143093628892, 62.79826245003654, 26.302644975619092, 23.18046310275043, 367.8743683005998, 20.58118751873076, 19.916105893317926, 18.619340245357726, 17.407006515791426, 16.952193300441284, 16.656043042145427, 15.085688785993973, 13.323568858675385, 12.086936270934837, 11.998969927498967, 156.9059199757746, 11.429379713512695, 10.620944618010947, 45.459275206688844, 67.49953650987912, 10.203682478800154, 10.180142773378606, 9.739658234176183, 76.24612585599783, 3287.2437982184456, 82.70035624634849, 69.92194840920695, 56.983186690141274, 52.260653878869306, 70.20088854993088, 126.88215314758544, 354.3577807157628, 7079.511699218963, 106.72710382408516, 119.15060405402656, 182.99278246736566, 184.14591597539135, 369.8674087171637, 172.14637657380084, 976.9476174329113, 867.1541996268166, 230.36568646619486, 163.90928850465548, 182.8618369125113, 195.51623093833527, 162.33619194229652, 237.25539656943272, 640.5139788030995, 541.5491365543394, 541.8342041397666, 3170.748368480692, 319.2292553516212, 318.780399720483, 225.74173773270408, 224.90501850790295, 195.33627148558213, 146.9289843452143, 115.94358630826618, 42.95084509037542, 41.440718229250336, 41.08616439698094, 34.03935290931646, 30.064646462450515, 27.953755779092855, 26.06184004948155, 24.00996176397181, 23.804595626564296, 21.998933627734658, 19.25940285205677, 16.279049187735414, 339.2734992021428, 31.827788884589662, 13.987718371291768, 12.866365377199875, 12.522775236789537, 12.225444498436996, 11.832751057817642, 21.71670732584519, 107.61308717401973, 233.18614233958152, 363.5208499737538, 211.92286867543905, 1620.1425970885284, 138.17387503629644, 977.5859205780234, 70.15542689228641, 129.79785754639613, 1032.7068173119576, 1580.1207849312607, 461.3099737175493, 244.57727142029256, 976.9476174329113, 7079.511699218963, 546.0895420371564, 106.55440712719651, 318.75096937541264, 162.69470022890968, 373.2818517490138, 314.4019913025313, 157.10724394241257, 144.34474005655676, 121.61584421763219, 103.23534520516978, 99.87334184903244, 177.29130249743537, 89.64148321729155, 73.85780126488474, 66.71965564564988, 44.28447880367662, 42.617272555896605, 42.13102488874986, 40.056073896884726, 38.8532380552285, 67.33983770748307, 33.3507479697718, 30.199814303485958, 27.64666476514796, 28.98320154612764, 26.057156256412785, 25.13038119016131, 34.42521506293531, 23.5782715572006, 19.862085620966152, 19.28792097841722, 18.298587523100558, 18.25863804463361, 17.16800953981822, 45.73665677111514, 80.39080061716118, 990.9567542791973, 1261.2159212648803, 127.65545972668781, 1580.1207849312607, 205.62126584911317, 318.75096937541264, 141.2782372281861, 124.87391331227836, 321.18894153663365, 867.1541996268166, 108.8562850042523, 7079.511699218963, 121.5352610944091, 210.7187659855968, 141.44587783679134, 191.84488822570816, 336.77018613604923, 1032.7068173119576, 546.0895420371564, 247.64665472345814, 244.57727142029256, 977.5859205780234, 509.2192350690949, 417.4953409954983, 554.6268714766042, 384.52216250183665, 225.15666666724218, 217.41093276475942, 153.08632271823802, 146.02426404169913, 128.06163908979747, 122.83209135420698, 116.60483519254963, 111.51621550667902, 111.55849086652034, 107.57451731064658, 106.67152794902164, 82.98784837020975, 75.44431976713713, 73.61892547589045, 71.30151587723907, 70.7314674698573, 57.648896241472514, 51.63866366423478, 49.26311038144106, 49.07487068008273, 47.094879901896284, 44.288912603896414, 43.82827767807332, 43.062331508595065, 43.08423289428398, 42.55122575571611, 483.68149316380425, 50.20961402129616, 113.21090732938639, 94.81263002598422, 64.93206700498563, 293.9790106228667, 122.40701704988209, 579.6217139102655, 250.9764887585447, 1620.1425970885284, 186.25020620314604, 237.25539656943272, 7079.511699218963, 283.27468018480323, 1261.2159212648803, 1032.7068173119576, 867.1541996268166, 196.78375997572488, 2311.482629913687, 567.1170188872129, 501.31907128003974, 238.27816511725504, 222.75059451048543, 176.34690358512117, 168.40368217741513, 145.0794788112872, 118.36502538093183, 90.00419209201984, 84.31301244072614, 99.88421275643248, 83.5002154220155, 77.39146896337098, 71.86389899993327, 57.24726255583109, 57.040647663912104, 55.61485257686238, 51.070798806791665, 41.99128998445246, 49.41789377260232, 37.439544976035684, 34.05561844963842, 32.34513445878209, 29.720005560131284, 28.282544552466522, 25.037993556422105, 23.098437125890268, 22.94643042412913, 22.07049184684938, 133.40598794785046, 56.7713898567884, 84.7739982151805, 113.35190463142294, 185.67258508470115, 158.23367811124768, 461.3099737175493, 50.51485440642963, 546.0895420371564, 247.64665472345814, 977.5859205780234, 7079.511699218963, 1032.7068173119576, 1620.1425970885284, 990.9567542791973, 321.18894153663365, 90.26405726037773, 162.33619194229652, 1471.479157893719, 235.03112252886405, 226.1585819349442, 200.46452620596594, 171.96975923939536, 149.82043728912848, 144.1431960443486, 142.04861231063776, 128.95610551964546, 119.21017818265207, 75.49036555102948, 68.88692623501512, 66.33261345161517, 65.53261632445427, 56.7589387123541, 49.99015837711448, 43.270727814443916, 40.24247137444483, 38.850179957505354, 33.351998163171466, 29.869807732867724, 27.95082179600848, 26.04625149884447, 23.92737885640578, 23.020167488749234, 20.998251839023, 20.89099251084053, 125.20977882132537, 17.968027673631248, 17.084284056160616, 399.0975975952381, 153.34804007571194, 210.99957381911128, 67.25438775203251, 103.3224097142675, 161.71656501395472, 336.77018613604923, 134.80594411279827, 579.6217139102655, 114.80228852408331, 976.9476174329113, 3287.2437982184456, 250.9764887585447, 236.38496045992454, 293.9790106228667, 276.4280586561658, 1261.2159212648803, 283.27468018480323, 369.8674087171637], \"Category\": [\"Default\", \"Default\", \"Default\", \"Default\", \"Default\", \"Default\", \"Default\", \"Default\", \"Default\", \"Default\", \"Default\", \"Default\", \"Default\", \"Default\", \"Default\", \"Default\", \"Default\", \"Default\", \"Default\", \"Default\", \"Default\", \"Default\", \"Default\", \"Default\", \"Default\", \"Default\", \"Default\", \"Default\", \"Default\", \"Default\", \"Topic1\", \"Topic1\", \"Topic1\", \"Topic1\", \"Topic1\", \"Topic1\", \"Topic1\", \"Topic1\", \"Topic1\", \"Topic1\", \"Topic1\", \"Topic1\", \"Topic1\", \"Topic1\", \"Topic1\", \"Topic1\", \"Topic1\", \"Topic1\", \"Topic1\", \"Topic1\", \"Topic1\", \"Topic1\", \"Topic1\", \"Topic1\", \"Topic1\", \"Topic1\", \"Topic1\", \"Topic1\", \"Topic1\", \"Topic1\", \"Topic1\", \"Topic1\", \"Topic1\", \"Topic1\", \"Topic1\", \"Topic1\", \"Topic1\", \"Topic1\", \"Topic1\", \"Topic1\", \"Topic1\", \"Topic1\", \"Topic1\", \"Topic1\", \"Topic1\", \"Topic1\", \"Topic1\", \"Topic1\", \"Topic1\", \"Topic1\", \"Topic1\", \"Topic1\", \"Topic1\", \"Topic1\", \"Topic2\", \"Topic2\", \"Topic2\", \"Topic2\", \"Topic2\", \"Topic2\", \"Topic2\", \"Topic2\", \"Topic2\", \"Topic2\", \"Topic2\", \"Topic2\", \"Topic2\", \"Topic2\", \"Topic2\", \"Topic2\", \"Topic2\", \"Topic2\", \"Topic2\", \"Topic2\", \"Topic2\", \"Topic2\", \"Topic2\", \"Topic2\", \"Topic2\", \"Topic2\", \"Topic2\", \"Topic2\", \"Topic2\", \"Topic2\", \"Topic2\", \"Topic2\", \"Topic2\", \"Topic2\", \"Topic2\", \"Topic2\", \"Topic2\", \"Topic2\", \"Topic2\", \"Topic2\", \"Topic2\", \"Topic2\", \"Topic2\", \"Topic2\", \"Topic2\", \"Topic2\", \"Topic2\", \"Topic2\", \"Topic2\", \"Topic2\", \"Topic3\", \"Topic3\", \"Topic3\", \"Topic3\", \"Topic3\", \"Topic3\", \"Topic3\", \"Topic3\", \"Topic3\", \"Topic3\", \"Topic3\", \"Topic3\", \"Topic3\", \"Topic3\", \"Topic3\", \"Topic3\", \"Topic3\", \"Topic3\", \"Topic3\", \"Topic3\", \"Topic3\", \"Topic3\", \"Topic3\", \"Topic3\", \"Topic3\", \"Topic3\", \"Topic3\", \"Topic3\", \"Topic3\", \"Topic3\", \"Topic3\", \"Topic3\", \"Topic3\", \"Topic3\", \"Topic3\", \"Topic3\", \"Topic3\", \"Topic3\", \"Topic3\", \"Topic3\", \"Topic3\", \"Topic3\", \"Topic3\", \"Topic3\", \"Topic3\", \"Topic3\", \"Topic3\", \"Topic3\", \"Topic3\", \"Topic3\", \"Topic3\", \"Topic3\", \"Topic3\", \"Topic3\", \"Topic4\", \"Topic4\", \"Topic4\", \"Topic4\", \"Topic4\", \"Topic4\", \"Topic4\", \"Topic4\", \"Topic4\", \"Topic4\", \"Topic4\", \"Topic4\", \"Topic4\", \"Topic4\", \"Topic4\", \"Topic4\", \"Topic4\", \"Topic4\", \"Topic4\", \"Topic4\", \"Topic4\", \"Topic4\", \"Topic4\", \"Topic4\", \"Topic4\", \"Topic4\", \"Topic4\", \"Topic4\", \"Topic4\", \"Topic4\", \"Topic4\", \"Topic4\", \"Topic4\", \"Topic4\", \"Topic4\", \"Topic4\", \"Topic4\", \"Topic4\", \"Topic4\", \"Topic4\", \"Topic4\", \"Topic4\", \"Topic4\", \"Topic4\", \"Topic4\", \"Topic4\", \"Topic4\", \"Topic4\", \"Topic5\", \"Topic5\", \"Topic5\", \"Topic5\", \"Topic5\", \"Topic5\", \"Topic5\", \"Topic5\", \"Topic5\", \"Topic5\", \"Topic5\", \"Topic5\", \"Topic5\", \"Topic5\", \"Topic5\", \"Topic5\", \"Topic5\", \"Topic5\", \"Topic5\", \"Topic5\", \"Topic5\", \"Topic5\", \"Topic5\", \"Topic5\", \"Topic5\", \"Topic5\", \"Topic5\", \"Topic5\", \"Topic5\", \"Topic5\", \"Topic5\", \"Topic5\", \"Topic5\", \"Topic5\", \"Topic5\", \"Topic5\", \"Topic5\", \"Topic5\", \"Topic5\", \"Topic5\", \"Topic5\", \"Topic5\", \"Topic5\", \"Topic5\", \"Topic5\", \"Topic5\", \"Topic5\", \"Topic5\", \"Topic6\", \"Topic6\", \"Topic6\", \"Topic6\", \"Topic6\", \"Topic6\", \"Topic6\", \"Topic6\", \"Topic6\", \"Topic6\", \"Topic6\", \"Topic6\", \"Topic6\", \"Topic6\", \"Topic6\", \"Topic6\", \"Topic6\", \"Topic6\", \"Topic6\", \"Topic6\", \"Topic6\", \"Topic6\", \"Topic6\", \"Topic6\", \"Topic6\", \"Topic6\", \"Topic6\", \"Topic6\", \"Topic6\", \"Topic6\", \"Topic6\", \"Topic6\", \"Topic6\", \"Topic6\", \"Topic6\", \"Topic6\", \"Topic6\", \"Topic6\", \"Topic6\", \"Topic6\", \"Topic6\", \"Topic6\", \"Topic6\", \"Topic6\", \"Topic6\", \"Topic6\", \"Topic6\", \"Topic6\", \"Topic6\"], \"logprob\": [30.0, 29.0, 28.0, 27.0, 26.0, 25.0, 24.0, 23.0, 22.0, 21.0, 20.0, 19.0, 18.0, 17.0, 16.0, 15.0, 14.0, 13.0, 12.0, 11.0, 10.0, 9.0, 8.0, 7.0, 6.0, 5.0, 4.0, 3.0, 2.0, 1.0, -2.4565, -3.212, -3.9645, -4.2054, -4.472, -4.6581, -2.8641, -5.0326, -5.5289, -6.4183, -6.5491, -3.7894, -6.673, -6.7071, -6.7774, -6.8481, -6.876, -6.8945, -6.9991, -7.1313, -7.2355, -7.2437, -4.6754, -7.2959, -7.3763, -5.9227, -5.5277, -7.4192, -7.4218, -7.4702, -5.4226, -1.7444, -5.3578, -5.5427, -5.7699, -5.8686, -5.5997, -5.0622, -4.1286, -1.6229, -5.2877, -5.2248, -4.8728, -4.8891, -4.3708, -5.004, -3.823, -4.0016, -4.9623, -5.1681, -5.2782, -5.3106, -5.4767, -5.4751, -3.1133, -3.2814, -3.2808, -1.5143, -3.811, -3.8124, -4.1586, -4.1623, -4.3038, -4.59, -4.8284, -5.8339, -5.8704, -5.8791, -6.0716, -6.1992, -6.2742, -6.3464, -6.4314, -6.4403, -6.5223, -6.6607, -6.8381, -3.8032, -6.1717, -6.9979, -7.0869, -7.1159, -7.1415, -7.1767, -6.5816, -5.0319, -4.2943, -3.9351, -4.4904, -2.6669, -4.9061, -3.2863, -5.5843, -5.0944, -3.5647, -3.2814, -4.2077, -4.7663, -3.9031, -2.6458, -4.5457, -5.3912, -5.1188, -5.5329, -3.5892, -3.7613, -4.4577, -4.5429, -4.7153, -4.8803, -4.9139, -4.3412, -5.0233, -5.2185, -5.3214, -5.7377, -5.7767, -5.7884, -5.84, -5.8711, -5.3238, -6.0275, -6.1294, -6.2203, -6.1735, -6.2814, -6.3189, -6.0058, -6.3847, -6.5632, -6.5939, -6.649, -6.6513, -6.7158, -5.7404, -5.2041, -2.818, -2.6316, -4.8262, -2.616, -4.4489, -4.0937, -4.8148, -4.934, -4.1815, -3.4089, -5.1066, -1.986, -5.0448, -4.7289, -5.085, -4.9402, -4.6547, -4.0715, -4.4548, -4.9902, -5.0703, -4.9385, -3.2404, -3.4394, -3.1555, -3.5218, -4.0586, -4.0937, -4.4461, -4.4936, -4.6257, -4.6676, -4.72, -4.765, -4.7646, -4.8012, -4.8097, -5.063, -5.1593, -5.1841, -5.2165, -5.2246, -5.4318, -5.5436, -5.5915, -5.5954, -5.6372, -5.6999, -5.7105, -5.7285, -5.728, -5.7406, -3.3674, -5.5791, -4.8286, -5.0124, -5.3714, -4.1057, -4.8576, -3.9176, -4.548, -3.4652, -4.7641, -4.6538, -3.3151, -4.6567, -4.2085, -4.3055, -4.5674, -4.8878, -1.6084, -3.0146, -3.1381, -3.8838, -3.9514, -4.186, -4.2323, -4.3822, -4.587, -4.8632, -4.9291, -4.7597, -4.9389, -5.0157, -5.0907, -5.3211, -5.3247, -5.3504, -5.437, -5.6364, -5.4744, -5.7535, -5.8505, -5.9034, -5.9904, -6.0414, -6.1673, -6.251, -6.2576, -6.2981, -4.527, -5.3864, -5.0732, -4.8123, -4.4085, -4.5556, -3.8463, -5.5616, -3.9522, -4.4867, -3.747, -2.8663, -3.9634, -3.9876, -4.2156, -4.8454, -5.2307, -5.2022, -1.9225, -3.7598, -3.7984, -3.9195, -4.0735, -4.2121, -4.2509, -4.2657, -4.363, -4.4421, -4.903, -4.9956, -5.0339, -5.0462, -5.1919, -5.3209, -5.4678, -5.5418, -5.5779, -5.734, -5.8473, -5.9158, -5.9885, -6.0761, -6.1163, -6.2117, -6.2173, -4.4287, -6.3746, -6.4275, -3.2966, -4.2614, -4.0405, -5.1625, -4.8565, -4.4862, -3.88, -4.6493, -3.5181, -4.8297, -3.3726, -2.8887, -4.4903, -4.6626, -4.8423, -4.9034, -4.7656, -4.9208, -4.907], \"loglift\": [30.0, 29.0, 28.0, 27.0, 26.0, 25.0, 24.0, 23.0, 22.0, 21.0, 20.0, 19.0, 18.0, 17.0, 16.0, 15.0, 14.0, 13.0, 12.0, 11.0, 10.0, 9.0, 8.0, 7.0, 6.0, 5.0, 4.0, 3.0, 2.0, 1.0, 1.6093, 1.6086, 1.6071, 1.6063, 1.6052, 1.6043, 1.6018, 1.6017, 1.5965, 1.5773, 1.5728, 1.5682, 1.5678, 1.5666, 1.5636, 1.5603, 1.5588, 1.558, 1.5524, 1.5445, 1.5377, 1.5368, 1.5343, 1.5332, 1.5261, 1.5258, 1.5255, 1.5234, 1.5231, 1.5189, 1.5087, 1.4231, 1.4922, 1.4752, 1.4526, 1.4404, 1.4142, 1.3598, 1.2663, 0.7774, 1.3073, 1.2601, 1.183, 1.1604, 0.9813, 1.1129, 0.5578, 0.4984, 0.8633, 0.9978, 0.7784, 0.6791, 0.6989, 0.3211, 1.6897, 1.6895, 1.6895, 1.6892, 1.6884, 1.6884, 1.6873, 1.6873, 1.6867, 1.6853, 1.6838, 1.6713, 1.6706, 1.6705, 1.6661, 1.6627, 1.6605, 1.6584, 1.6554, 1.6551, 1.652, 1.6466, 1.6373, 1.6353, 1.6332, 1.6292, 1.6238, 1.6218, 1.6203, 1.6177, 1.6056, 1.5549, 1.5191, 1.4343, 1.4187, 1.2081, 1.4307, 1.0938, 1.4303, 1.3048, 0.7607, 0.6186, 0.9235, 0.9994, 0.4777, -0.2455, 0.4168, 1.2054, 0.3821, 0.6404, 1.7537, 1.7533, 1.7507, 1.7502, 1.7491, 1.7479, 1.7475, 1.7463, 1.7462, 1.7447, 1.7434, 1.737, 1.7363, 1.736, 1.735, 1.7344, 1.7317, 1.7307, 1.728, 1.7255, 1.725, 1.7236, 1.7223, 1.7206, 1.7202, 1.7133, 1.7119, 1.7095, 1.7094, 1.7064, 1.702, 1.6743, 1.5486, 1.4938, 1.5897, 1.284, 1.4904, 1.4072, 1.4997, 1.5039, 1.3117, 1.0912, 1.4686, 0.4143, 1.4203, 1.1858, 1.2283, 1.0684, 0.7912, 0.2539, 0.5077, 0.7631, 0.6954, -0.5583, 1.792, 1.7916, 1.7915, 1.7914, 1.7899, 1.7898, 1.7882, 1.7879, 1.7871, 1.7868, 1.7865, 1.7861, 1.7861, 1.7859, 1.7858, 1.7835, 1.7825, 1.7823, 1.7819, 1.7818, 1.7791, 1.7774, 1.7766, 1.7766, 1.7759, 1.7747, 1.7745, 1.7741, 1.7741, 1.7739, 1.7164, 1.77, 1.7074, 1.7009, 1.7206, 1.476, 1.6004, 0.9853, 1.1919, 0.4098, 1.2741, 1.1423, -0.9148, 0.9622, -0.0831, 0.0198, -0.0674, 1.0954, 1.9112, 1.9101, 1.9099, 1.908, 1.9078, 1.9068, 1.9066, 1.9058, 1.9045, 1.9023, 1.9016, 1.9016, 1.9015, 1.9007, 1.8998, 1.8968, 1.8968, 1.8964, 1.895, 1.8915, 1.8905, 1.8891, 1.8868, 1.8854, 1.8831, 1.8816, 1.8775, 1.8746, 1.8745, 1.8729, 1.8449, 1.8399, 1.752, 1.7224, 1.6328, 1.6456, 1.2849, 1.7814, 1.0103, 1.2665, 0.6332, -0.466, 0.3619, -0.1126, 0.151, 0.6478, 1.5318, 0.9734, 2.0487, 2.0458, 2.0456, 2.0451, 2.0445, 2.0437, 2.0435, 2.0434, 2.0428, 2.0423, 2.0382, 2.0372, 2.0367, 2.0365, 2.0346, 2.0326, 2.03, 2.0285, 2.0277, 2.0241, 2.0212, 2.019, 2.0169, 2.0141, 2.0126, 2.0091, 2.0087, 2.0066, 2.0021, 1.9996, 1.9795, 1.9712, 1.8729, 1.8943, 1.7709, 1.6932, 1.5658, 1.7121, 1.3848, 1.6924, 1.0082, 0.2788, 1.2496, 1.1372, 0.7394, 0.7399, -0.6402, 0.6981, 0.4452]}, \"token.table\": {\"Topic\": [5, 1, 5, 6, 4, 3, 4, 6, 6, 4, 1, 2, 4, 1, 2, 1, 2, 4, 6, 1, 1, 6, 5, 6, 3, 3, 1, 3, 6, 3, 4, 6, 4, 6, 1, 3, 4, 5, 3, 5, 4, 1, 6, 2, 4, 1, 6, 2, 4, 6, 5, 5, 4, 3, 1, 3, 5, 5, 2, 2, 5, 2, 1, 6, 1, 3, 1, 3, 4, 5, 5, 6, 2, 3, 2, 4, 2, 3, 6, 3, 6, 1, 5, 6, 5, 2, 4, 5, 1, 2, 3, 4, 5, 6, 5, 1, 5, 3, 4, 2, 3, 1, 4, 6, 1, 4, 6, 2, 1, 2, 1, 1, 6, 1, 6, 1, 2, 4, 6, 3, 3, 3, 5, 6, 4, 5, 3, 2, 6, 5, 1, 3, 4, 6, 5, 6, 1, 6, 1, 6, 6, 4, 1, 2, 3, 6, 3, 6, 6, 6, 6, 6, 6, 3, 4, 2, 3, 4, 5, 2, 3, 6, 2, 4, 6, 2, 2, 5, 2, 4, 4, 3, 4, 2, 2, 2, 1, 4, 1, 2, 4, 2, 3, 4, 5, 5, 2, 4, 4, 3, 3, 4, 5, 1, 2, 4, 1, 2, 3, 6, 2, 3, 5, 3, 2, 1, 2, 3, 6, 3, 5, 6, 4, 2, 3, 2, 4, 3, 2, 6, 1, 2, 3, 4, 3, 4, 5, 1, 1, 2, 3, 5, 6, 2, 3, 1, 6, 4, 6, 2, 4, 3, 4, 5, 6, 1, 3, 4, 1, 1, 5, 1, 5, 3, 4, 5, 3, 1, 6, 6, 3, 5, 1, 1, 2, 6, 1, 2, 3, 4, 5, 1, 4, 6, 1, 4, 6, 1, 4, 3, 5, 4, 3, 4, 5, 5, 2, 5, 2, 3, 4, 1, 3, 6, 6, 2, 4, 5, 5, 3, 6, 5, 6, 3, 5, 1, 6, 1, 6, 1, 6, 4, 4, 3, 6, 4, 5, 5, 4, 5, 1, 4, 5, 1, 3, 4, 4, 6, 2, 6, 4, 5, 6, 6, 1, 1, 6, 5, 4, 6, 3, 5, 4, 6, 6, 4, 4, 4, 6, 5, 4, 6, 3, 3, 3, 3, 1, 4, 6, 4, 3, 6, 1, 3, 4, 6, 6, 4, 2, 2, 1, 3, 4, 5, 6, 3, 4, 1, 5, 5, 5, 6, 1, 2, 3, 4, 5, 6, 2, 3, 4, 5, 6, 6, 2, 5, 4, 3, 2, 2, 3, 1, 2, 4, 5, 6, 3, 6, 1, 3, 4, 1, 3, 4, 4, 4, 4, 6, 1, 2, 5, 1, 3, 3, 3, 2, 4, 6, 1, 6, 1, 2, 3, 4, 5, 6, 5, 1, 1, 1], \"Freq\": [0.958754786403121, 0.8820345026120713, 0.9980303555527135, 0.9976827510844055, 0.9948628362448108, 0.5004042635061231, 0.34402793116045965, 0.15116378793414134, 0.9659823312907293, 0.9941106266381811, 0.9872884627871408, 0.9991975525591809, 0.9870455963153526, 0.0015769147907488538, 0.9981870625440245, 0.9167453595154406, 0.8997627858362396, 0.9767516149488641, 0.9918725002246627, 0.9490750854494203, 0.9239038636018586, 0.06599313311441847, 0.7646918244226731, 0.22751161718360524, 0.9912555058951309, 0.9332265525217376, 0.6502988718761193, 0.20765846328817256, 0.13661741005800826, 0.9205033341116282, 0.0746354054685104, 0.9706330843360638, 0.8251160957450788, 0.17155879218462033, 0.40040362671008495, 0.12936117170633515, 0.07392066954647722, 0.3942435709145452, 0.9894830553698613, 0.9782127127106788, 0.9976056775056239, 0.9049640126019882, 0.09180794330744808, 0.9209499257835406, 0.04604749628917703, 0.8295703535825133, 0.1703554814837578, 0.9893650919172713, 0.29681560448589805, 0.6987534022272183, 0.9969161044002899, 0.9690031044011291, 0.9929038551651839, 0.9290334556445304, 0.9667367244383354, 0.9892137386099233, 0.9925593969586054, 0.9888428297762714, 0.997551920628849, 0.46389632176265894, 0.5354317358662465, 0.9931591225970505, 0.9415358388219112, 0.9926179334413727, 0.8724013187248061, 0.11441328770161392, 0.9766182361440381, 0.5867968813892924, 0.15553652277788474, 0.25451431000017505, 0.9713080897553669, 0.9925858064975465, 0.9579357196025481, 0.9736351121279797, 0.9296232081830657, 0.9917099367355978, 0.9425725459215095, 0.03141908486405032, 0.9573503982456465, 0.2961613434462803, 0.6968502198736007, 0.00967844248663427, 0.2322826196792225, 0.7549185139574731, 0.9966303366680798, 0.23087222761567963, 0.595972494542801, 0.17181189031864533, 0.003068783967578186, 0.550335258185688, 0.09922401495169468, 0.06853617527591281, 0.2782364130604222, 0.0010229279891927287, 0.9946358277661486, 0.9937833860170544, 0.9546524341157744, 0.07236166877310489, 0.9262293602957425, 0.9694661378526971, 0.9310661593949755, 0.06514697196040005, 0.0025056527677076944, 0.9321028295872623, 0.5429832611192876, 0.29894584039151795, 0.15862432347305033, 0.9959759968278736, 0.9504747535152239, 0.9735637431012968, 0.9100734672070236, 0.9280318717033351, 0.9945238626720521, 0.7802515763177996, 0.21279588445030898, 0.4731607457345661, 0.1910006680029441, 0.15627327382059064, 0.17363697091176739, 0.9880336990909978, 0.997611689512055, 0.6413670377767485, 0.28332233222176756, 0.07472237333321342, 0.9876320644471457, 0.9585432613007496, 0.9565964200629492, 0.7697194984346578, 0.21381097178740494, 0.9757737070851307, 0.32866126938282825, 0.5143260566482154, 0.15568165391818178, 0.0011531974364309763, 0.9893296328935686, 0.9871248975169936, 0.13382026512802517, 0.8623972641583845, 0.6353657064848264, 0.3584114241709277, 0.989445964782999, 0.9948129492953627, 0.04088687367361929, 0.4988198588181554, 0.347538426225764, 0.11039455891877209, 0.15639842016122132, 0.8388642535920052, 0.9956128255791425, 0.978116447377199, 0.9898483652897669, 0.9708800357656598, 0.9949856724421421, 0.9319659313382122, 0.9981098799424035, 0.18982647232631433, 0.5647337551707852, 0.10440455977947288, 0.14236985424473575, 0.7743866195537509, 0.1375079044067408, 0.08684709752004682, 0.9778620167222627, 0.07173225034091739, 0.9259981407645699, 0.9961493023242272, 0.9989859894194767, 0.987978678975739, 0.061602844087696625, 0.9240426613154494, 0.9896585282898448, 0.9780394608548287, 0.9753303764246246, 0.9984604070149262, 0.9967142197975708, 0.9326643265754649, 0.7402056007273762, 0.25298166100809055, 0.037539507823689595, 0.6194018790908783, 0.3472404473691288, 0.3423788897400871, 0.6240029302841513, 0.03164315062292857, 0.001898589037375714, 0.9844269300465427, 0.9214297362834283, 0.9929856585929676, 0.9811017516098358, 0.9949361514398557, 0.8123462467194559, 0.01513688658483458, 0.17155138129479192, 0.05305454166720935, 0.9461393263985667, 0.9748345781867728, 0.6099460359828455, 0.180079305861602, 0.16265227626209214, 0.046472078932026324, 0.26980310104943556, 0.7058802062339884, 0.02196071752727964, 0.9754743872638111, 0.993677324121212, 0.3938291958189669, 0.19947193034986638, 0.1074079624960819, 0.29153589820365083, 0.9401649144402817, 0.04372860067164101, 0.9920690252768027, 0.9880964696686322, 0.6779772922564956, 0.3158757838922309, 0.8734997059232565, 0.12080315081917378, 0.9594293311975434, 0.9658809432753868, 0.9996743699078926, 0.708323659474919, 0.07619417850925425, 0.03950809256035405, 0.17214240329868552, 0.7715271802545797, 0.07078231011509904, 0.148642851241708, 0.9994409249526608, 0.0018312015210354626, 0.2801738327184258, 0.2874986388025676, 0.4065267376698727, 0.025636821294496476, 0.9661999876332105, 0.9928439022395849, 0.7049901313291858, 0.2937458880538274, 0.5498523016343765, 0.4502413774252503, 0.9645880930687073, 0.9970667279926901, 0.7690990762526861, 0.1530269296049159, 0.00951462774745591, 0.06818816552343403, 0.21621809779020673, 0.7767835365055575, 0.9937047123826467, 0.9240570647971257, 0.0989807861222617, 0.8710309178759029, 0.1415528375757457, 0.8493170254544742, 0.9660768481852205, 0.9988135412617608, 0.9889444537138236, 0.985515906606013, 0.9624319320667026, 0.9461249898311397, 0.980192933784187, 0.7532867762003526, 0.2480334507001161, 0.9606123110701974, 0.3490463499937007, 0.29684293694478947, 0.3531407353308702, 0.4349170014564262, 0.14421898619259862, 0.2614587105215475, 0.06667126491959505, 0.09280301070375836, 0.43748876939410447, 0.44295737901153076, 0.12030941158337873, 0.8947966291652747, 0.07255107804042768, 0.03627553902021384, 0.9241206451763401, 0.07010570411682579, 0.1676195919405213, 0.8292758759162633, 0.9887439953966422, 0.3714970432479069, 0.10095028349127905, 0.5249414741546511, 0.9911476225117914, 0.9293867416347937, 0.9940094115986722, 0.35034945772543064, 0.21512686000684336, 0.4302537200136867, 0.9919109190326787, 0.006687039903591092, 0.9866287367316663, 0.9935042631274846, 0.6172296202797497, 0.2505952258335784, 0.13208713873986644, 0.9763929618542443, 0.38008115109183166, 0.6176318705242264, 0.9997912033136476, 0.9612419370307457, 0.24236211274524805, 0.754015461874105, 0.9995172450007261, 0.9948771259306999, 0.9595667173842196, 0.038056470377844404, 0.8262003686569734, 0.17093800730833933, 0.991592848280662, 0.9743599141089372, 0.9801033421954003, 0.014850050639324246, 0.3102009908465622, 0.6868736225888163, 0.9980328342711516, 0.05284351867318741, 0.9335688298929775, 0.8599027686262682, 0.1403922887553091, 0.9976028898406755, 0.18966909788707637, 0.7684030119527709, 0.03890648161786182, 0.9780973303609952, 0.9524602406583269, 0.954591725006376, 0.9691253709822146, 0.44511789984448796, 0.039681053086911715, 0.5141284269521604, 0.9556837503789742, 0.8840740449667644, 0.9185248255878881, 0.07407458270870065, 0.9882598739830565, 0.039932983246739946, 0.9583915979217587, 0.9602708052629495, 0.9973687989234646, 0.9759087169882822, 0.019916504428332288, 0.959831014497772, 0.9932257820815937, 0.9946593549754211, 0.7279431260979771, 0.26872666804551487, 0.9524453918720299, 0.2818866797758092, 0.7121347699599391, 0.976609664469793, 0.9929523049693467, 0.9987214098076609, 0.9731545840212428, 0.5326233005586205, 0.2649598144910904, 0.20007169665653765, 0.9986420483583072, 0.7158416349014797, 0.27975420214540586, 0.2749751924721952, 0.054995038494439034, 0.26651441731920456, 0.4018868197670545, 0.994360873425162, 0.9708976236236828, 0.9592569040610518, 0.9918616774044111, 0.9943310980287584, 0.10163440317670111, 0.4980085755658354, 0.23375912730641255, 0.16769676524155683, 0.9927164926917154, 0.0056404346175665645, 0.9006595850770442, 0.9817560335211536, 0.9790330515321944, 0.93698942545865, 0.0599673232293536, 0.1410855330301691, 0.18811404404022547, 0.2894062216003469, 0.1012921775601214, 0.010852733310013008, 0.2713183327503252, 0.39410991888228664, 0.22271567897524797, 0.169457581828993, 0.21206405954599697, 0.0009683290390228173, 0.9365332458418343, 0.8405302220514094, 0.15438310200944252, 0.9817463084588565, 0.9965659949900921, 0.9582540429813255, 0.7597103654092769, 0.23593489608983756, 0.008252621548988455, 0.772995551755252, 0.06602097239190764, 0.05226660314359355, 0.10178233243752428, 0.8460272692701869, 0.14883813070494029, 0.9975258447307312, 0.9585996758384874, 0.02904847502540871, 0.2739663710071934, 0.20231362782069665, 0.5226435385367997, 0.9953709377211775, 0.9949937394977082, 0.9186394001543746, 0.07949764039797472, 0.9717612252353356, 0.9346084163807667, 0.9949417039291985, 0.9967428682015976, 0.9550193376850225, 0.9883857730639948, 0.970994830731304, 0.0316413541020624, 0.9070521509257886, 0.05273559017010399, 0.8419335912249395, 0.13394398042214947, 0.10590427630322818, 0.09884399121634631, 0.0035301425434409394, 0.43420753284323554, 0.09884399121634631, 0.25770040567118857, 0.9514966927661744, 0.9540017562557102, 0.9940134142430688, 0.9438306723168088], \"Term\": [\"accessory\", \"advertisement\", \"amazon\", \"android\", \"app\", \"apps\", \"apps\", \"apps\", \"area\", \"auto\", \"awesome\", \"backup\", \"bar\", \"battery\", \"battery\", \"bcoz\", \"bettry\", \"bhi\", \"bill\", \"blur\", \"bokeh\", \"bokeh\", \"box\", \"box\", \"brand\", \"browsing\", \"budget\", \"budget\", \"budget\", \"bug\", \"bug\", \"build\", \"button\", \"button\", \"buy\", \"buy\", \"buy\", \"buy\", \"buyer\", \"cable\", \"call\", \"cam\", \"cam\", \"camara\", \"camara\", \"camera\", \"camera\", \"capacity\", \"card\", \"card\", \"care\", \"cash\", \"cast\", \"casting\", \"category\", \"cell\", \"center\", \"centre\", \"charge\", \"charger\", \"charger\", \"charging\", \"cheap\", \"clarity\", \"class\", \"class\", \"clearity\", \"company\", \"company\", \"company\", \"complaint\", \"con\", \"concern\", \"configuration\", \"consumption\", \"contact\", \"cool\", \"cool\", \"copy\", \"core\", \"core\", \"cost\", \"cost\", \"cost\", \"customer\", \"data\", \"data\", \"data\", \"day\", \"day\", \"day\", \"day\", \"day\", \"day\", \"delivery\", \"depth\", \"description\", \"device\", \"device\", \"discharge\", \"discount\", \"display\", \"display\", \"display\", \"dolby\", \"dolby\", \"dolby\", \"drain\", \"drainage\", \"draining\", \"dslr\", \"duel\", \"earphone\", \"effect\", \"effect\", \"everything\", \"everything\", \"everything\", \"everything\", \"excellent\", \"expectation\", \"experience\", \"experience\", \"experience\", \"facility\", \"fall\", \"fan\", \"fast\", \"fast\", \"faulty\", \"feature\", \"feature\", \"feature\", \"feature\", \"fine\", \"finger\", \"fingerprint\", \"fingerprint\", \"front\", \"front\", \"future\", \"gallery\", \"game\", \"game\", \"game\", \"game\", \"gb\", \"gb\", \"glass\", \"good\", \"gorilla\", \"guard\", \"gud\", \"guess\", \"hai\", \"handset\", \"handset\", \"handset\", \"handset\", \"hang\", \"hang\", \"hang\", \"hanging\", \"headphone\", \"headphone\", \"heat\", \"heating\", \"help\", \"hi\", \"hi\", \"ho\", \"hope\", \"hotspot\", \"hour\", \"hr\", \"idle\", \"image\", \"image\", \"internet\", \"internet\", \"internet\", \"issue\", \"issue\", \"issue\", \"issue\", \"item\", \"jata\", \"jio\", \"ka\", \"killer\", \"lenovo\", \"lenovo\", \"lenovo\", \"life\", \"life\", \"lock\", \"look\", \"look\", \"look\", \"look\", \"lot\", \"lot\", \"lot\", \"love\", \"mah\", \"mark\", \"mark\", \"mark\", \"mark\", \"market\", \"market\", \"memory\", \"message\", \"min\", \"min\", \"minute\", \"minute\", \"mistake\", \"mob\", \"mobile\", \"mode\", \"mode\", \"mode\", \"mode\", \"model\", \"model\", \"model\", \"money\", \"month\", \"month\", \"month\", \"month\", \"month\", \"morning\", \"moto\", \"mp\", \"mp\", \"music\", \"music\", \"net\", \"network\", \"note\", \"note\", \"note\", \"note\", \"nothing\", \"nothing\", \"notification\", \"object\", \"offer\", \"offer\", \"ok\", \"ok\", \"opinion\", \"option\", \"order\", \"others\", \"overall\", \"pack\", \"package\", \"people\", \"people\", \"perfect\", \"performance\", \"performance\", \"performance\", \"phone\", \"phone\", \"phone\", \"phone\", \"phone\", \"photo\", \"photo\", \"photo\", \"pic\", \"pic\", \"pic\", \"picture\", \"picture\", \"piece\", \"piece\", \"player\", \"please\", \"please\", \"please\", \"pls\", \"pm\", \"policy\", \"power\", \"power\", \"power\", \"price\", \"price\", \"print\", \"pro\", \"problem\", \"problem\", \"problem\", \"process\", \"processor\", \"processor\", \"product\", \"protection\", \"purchase\", \"purchase\", \"quality\", \"ram\", \"range\", \"range\", \"rear\", \"rear\", \"recorder\", \"recording\", \"redmi\", \"redmi\", \"refund\", \"refund\", \"replacement\", \"request\", \"request\", \"result\", \"result\", \"return\", \"review\", \"review\", \"review\", \"ringtone\", \"rom\", \"scanner\", \"scratch\", \"screen\", \"screen\", \"screen\", \"sd\", \"section\", \"selfie\", \"selfie\", \"seller\", \"sensor\", \"sensor\", \"series\", \"service\", \"setting\", \"setting\", \"setup\", \"side\", \"signal\", \"sim\", \"sim\", \"site\", \"slot\", \"slot\", \"smart\", \"smartphone\", \"software\", \"someone\", \"sound\", \"sound\", \"sound\", \"speaker\", \"specification\", \"specification\", \"speed\", \"speed\", \"speed\", \"speed\", \"stock\", \"strength\", \"suck\", \"super\", \"superb\", \"support\", \"support\", \"support\", \"support\", \"system\", \"system\", \"tag\", \"team\", \"th\", \"thanks\", \"thanks\", \"thing\", \"thing\", \"thing\", \"thing\", \"thing\", \"thing\", \"time\", \"time\", \"time\", \"time\", \"time\", \"tray\", \"turbo\", \"turbo\", \"tv\", \"update\", \"us\", \"usage\", \"usage\", \"use\", \"use\", \"use\", \"use\", \"use\", \"user\", \"user\", \"value\", \"vibe\", \"vibe\", \"video\", \"video\", \"video\", \"voice\", \"volta\", \"volume\", \"volume\", \"vr\", \"warm\", \"warranty\", \"waste\", \"water\", \"way\", \"weight\", \"wifi\", \"wifi\", \"wifi\", \"wise\", \"wise\", \"work\", \"work\", \"work\", \"work\", \"work\", \"work\", \"working\", \"world\", \"worth\", \"wow\"]}, \"R\": 30, \"lambda.step\": 0.01, \"plot.opts\": {\"xlab\": \"PC1\", \"ylab\": \"PC2\"}, \"topic.order\": [6, 4, 3, 2, 5, 1]};\n",
       "\n",
       "function LDAvis_load_lib(url, callback){\n",
       "  var s = document.createElement('script');\n",
       "  s.src = url;\n",
       "  s.async = true;\n",
       "  s.onreadystatechange = s.onload = callback;\n",
       "  s.onerror = function(){console.warn(\"failed to load library \" + url);};\n",
       "  document.getElementsByTagName(\"head\")[0].appendChild(s);\n",
       "}\n",
       "\n",
       "if(typeof(LDAvis) !== \"undefined\"){\n",
       "   // already loaded: just create the visualization\n",
       "   !function(LDAvis){\n",
       "       new LDAvis(\"#\" + \"ldavis_el881403244244780323252696879\", ldavis_el881403244244780323252696879_data);\n",
       "   }(LDAvis);\n",
       "}else if(typeof define === \"function\" && define.amd){\n",
       "   // require.js is available: use it to load d3/LDAvis\n",
       "   require.config({paths: {d3: \"https://d3js.org/d3.v5\"}});\n",
       "   require([\"d3\"], function(d3){\n",
       "      window.d3 = d3;\n",
       "      LDAvis_load_lib(\"https://cdn.jsdelivr.net/gh/bmabey/pyLDAvis@3.4.0/pyLDAvis/js/ldavis.v3.0.0.js\", function(){\n",
       "        new LDAvis(\"#\" + \"ldavis_el881403244244780323252696879\", ldavis_el881403244244780323252696879_data);\n",
       "      });\n",
       "    });\n",
       "}else{\n",
       "    // require.js not available: dynamically load d3 & LDAvis\n",
       "    LDAvis_load_lib(\"https://d3js.org/d3.v5.js\", function(){\n",
       "         LDAvis_load_lib(\"https://cdn.jsdelivr.net/gh/bmabey/pyLDAvis@3.4.0/pyLDAvis/js/ldavis.v3.0.0.js\", function(){\n",
       "                 new LDAvis(\"#\" + \"ldavis_el881403244244780323252696879\", ldavis_el881403244244780323252696879_data);\n",
       "            })\n",
       "         });\n",
       "}\n",
       "</script>"
      ],
      "text/plain": [
       "PreparedData(topic_coordinates=              x         y  topics  cluster       Freq\n",
       "topic                                                \n",
       "5     -0.155320  0.228991       1        1  19.989468\n",
       "3      0.195998  0.063847       2        1  18.433209\n",
       "2      0.094931  0.087945       3        1  17.273782\n",
       "1     -0.022373 -0.276045       4        1  16.635851\n",
       "4      0.213137 -0.047552       5        1  14.785007\n",
       "0     -0.326372 -0.057185       6        1  12.882683, topic_info=        Term         Freq        Total Category  logprob  loglift\n",
       "4    battery  3170.000000  3170.000000  Default  30.0000  30.0000\n",
       "46   product  2311.000000  2311.000000  Default  29.0000  29.0000\n",
       "53    camera  3287.000000  3287.000000  Default  28.0000  28.0000\n",
       "12    mobile  1471.000000  1471.000000  Default  27.0000  27.0000\n",
       "81   quality  1338.000000  1338.000000  Default  26.0000  26.0000\n",
       "..       ...          ...          ...      ...      ...      ...\n",
       "71       sim    79.331648   293.979011   Topic6  -4.8423   0.7394\n",
       "28     thing    74.632172   276.428059   Topic6  -4.9034   0.7399\n",
       "18      note    85.656781  1261.215921   Topic6  -4.7656  -0.6402\n",
       "102     work    73.347084   283.274680   Topic6  -4.9208   0.6981\n",
       "151    sound    74.368319   369.867409   Topic6  -4.9070   0.4452\n",
       "\n",
       "[333 rows x 6 columns], token_table=      Topic      Freq           Term\n",
       "term                                \n",
       "269       5  0.958755      accessory\n",
       "691       1  0.882035  advertisement\n",
       "2         5  0.998030         amazon\n",
       "153       6  0.997683        android\n",
       "428       4  0.994863            app\n",
       "...     ...       ...            ...\n",
       "102       6  0.257700           work\n",
       "610       5  0.951497        working\n",
       "723       1  0.954002          world\n",
       "322       1  0.994013          worth\n",
       "641       1  0.943831            wow\n",
       "\n",
       "[440 rows x 3 columns], R=30, lambda_step=0.01, plot_opts={'xlab': 'PC1', 'ylab': 'PC2'}, topic_order=[6, 4, 3, 2, 5, 1])"
      ]
     },
     "execution_count": 118,
     "metadata": {},
     "output_type": "execute_result"
    }
   ],
   "source": [
    "vis2 = pyLDAvis.gensim.prepare(lda_modela,bow_texta,dictionary)\n",
    "vis2"
   ]
  },
  {
   "cell_type": "code",
   "execution_count": null,
   "metadata": {
    "id": "4jsjfCprvpy5"
   },
   "outputs": [],
   "source": []
  },
  {
   "cell_type": "code",
   "execution_count": null,
   "metadata": {
    "id": "mQRueZ8vvp1r"
   },
   "outputs": [],
   "source": []
  },
  {
   "cell_type": "code",
   "execution_count": null,
   "metadata": {
    "id": "EawPmNkuvp4R"
   },
   "outputs": [],
   "source": []
  },
  {
   "cell_type": "code",
   "execution_count": null,
   "metadata": {
    "id": "10FqX_idvp7I"
   },
   "outputs": [],
   "source": []
  },
  {
   "cell_type": "code",
   "execution_count": null,
   "metadata": {
    "id": "KcUl85nRvp_1"
   },
   "outputs": [],
   "source": []
  },
  {
   "cell_type": "code",
   "execution_count": null,
   "metadata": {
    "id": "D82faKlivqCs"
   },
   "outputs": [],
   "source": []
  },
  {
   "cell_type": "code",
   "execution_count": null,
   "metadata": {
    "id": "SMw-E6_EvqFH"
   },
   "outputs": [],
   "source": []
  },
  {
   "cell_type": "code",
   "execution_count": null,
   "metadata": {
    "id": "SHcmIG0VvqHq"
   },
   "outputs": [],
   "source": []
  },
  {
   "cell_type": "code",
   "execution_count": null,
   "metadata": {
    "id": "ghbZXcaYvefH"
   },
   "outputs": [],
   "source": []
  },
  {
   "cell_type": "code",
   "execution_count": null,
   "metadata": {
    "id": "9re4TmzktvsB"
   },
   "outputs": [],
   "source": []
  },
  {
   "cell_type": "code",
   "execution_count": null,
   "metadata": {
    "id": "L0yqsXIOlyRK"
   },
   "outputs": [],
   "source": []
  }
 ],
 "metadata": {
  "colab": {
   "provenance": []
  },
  "kernelspec": {
   "display_name": "anaconda-panel-2023.05-py310",
   "language": "python",
   "name": "conda-env-anaconda-panel-2023.05-py310-py"
  },
  "language_info": {
   "codemirror_mode": {
    "name": "ipython",
    "version": 3
   },
   "file_extension": ".py",
   "mimetype": "text/x-python",
   "name": "python",
   "nbconvert_exporter": "python",
   "pygments_lexer": "ipython3",
   "version": "3.11.4"
  }
 },
 "nbformat": 4,
 "nbformat_minor": 4
}
